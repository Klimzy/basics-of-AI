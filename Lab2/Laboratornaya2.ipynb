{
 "cells": [
  {
   "cell_type": "markdown",
   "metadata": {},
   "source": [
    "# Лабораторная работа № 2"
   ]
  },
  {
   "cell_type": "code",
   "execution_count": 2,
   "metadata": {},
   "outputs": [],
   "source": [
    "import pandas as pd\n",
    "import matplotlib.pyplot as plt\n",
    "import seaborn as sns"
   ]
  },
  {
   "cell_type": "code",
   "execution_count": null,
   "metadata": {},
   "outputs": [],
   "source": []
  },
  {
   "cell_type": "code",
   "execution_count": 25,
   "metadata": {},
   "outputs": [],
   "source": [
    "data = pd.read_excel('2014.xlsx', sheet_name='2013 NYC Benchmark Data')"
   ]
  },
  {
   "cell_type": "code",
   "execution_count": 26,
   "metadata": {},
   "outputs": [
    {
     "data": {
      "text/html": [
       "<div>\n",
       "<style scoped>\n",
       "    .dataframe tbody tr th:only-of-type {\n",
       "        vertical-align: middle;\n",
       "    }\n",
       "\n",
       "    .dataframe tbody tr th {\n",
       "        vertical-align: top;\n",
       "    }\n",
       "\n",
       "    .dataframe thead th {\n",
       "        text-align: right;\n",
       "    }\n",
       "</style>\n",
       "<table border=\"1\" class=\"dataframe\">\n",
       "  <thead>\n",
       "    <tr style=\"text-align: right;\">\n",
       "      <th></th>\n",
       "      <th>Record Number</th>\n",
       "      <th>NYC Borough, Block, and Lot (BBL)</th>\n",
       "      <th>Co-reported BBL Status</th>\n",
       "      <th>BBLs Co-reported</th>\n",
       "      <th>Reported NYC Building Identificaiton Numbers (BINs)</th>\n",
       "      <th>Street Number</th>\n",
       "      <th>Street Name</th>\n",
       "      <th>Borough</th>\n",
       "      <th>Zip Code</th>\n",
       "      <th>DOF Benchmarking Submission Status</th>\n",
       "      <th>...</th>\n",
       "      <th>Automatic Water Benchmarking Eligible</th>\n",
       "      <th>Reported Water Method</th>\n",
       "      <th>ENERGY STAR Score</th>\n",
       "      <th>Total GHG Emissions</th>\n",
       "      <th>Direct GHG Emissions</th>\n",
       "      <th>Indirect GHG Emissions</th>\n",
       "      <th>Reported Property Floor Area</th>\n",
       "      <th>DOF Property Floor Area</th>\n",
       "      <th>Primary Property Type - Self Selected</th>\n",
       "      <th>DOF Number of Buildings</th>\n",
       "    </tr>\n",
       "  </thead>\n",
       "  <tbody>\n",
       "    <tr>\n",
       "      <th>0</th>\n",
       "      <td>16099</td>\n",
       "      <td>4.084010e+09</td>\n",
       "      <td>NaN</td>\n",
       "      <td>4084010096</td>\n",
       "      <td>4453435</td>\n",
       "      <td>NaN</td>\n",
       "      <td>NaN</td>\n",
       "      <td>Queens</td>\n",
       "      <td>NaN</td>\n",
       "      <td>Not on Covered Buildings List</td>\n",
       "      <td>...</td>\n",
       "      <td>NaN</td>\n",
       "      <td>None</td>\n",
       "      <td>Not Available</td>\n",
       "      <td>966.7</td>\n",
       "      <td>806.6</td>\n",
       "      <td>160.1</td>\n",
       "      <td>91968</td>\n",
       "      <td>NaN</td>\n",
       "      <td>Multifamily Housing</td>\n",
       "      <td>NaN</td>\n",
       "    </tr>\n",
       "    <tr>\n",
       "      <th>1</th>\n",
       "      <td>500</td>\n",
       "      <td>1.005050e+09</td>\n",
       "      <td>NaN</td>\n",
       "      <td>1005050001</td>\n",
       "      <td>1007817</td>\n",
       "      <td>150</td>\n",
       "      <td>VARICK STREET</td>\n",
       "      <td>Manhattan</td>\n",
       "      <td>10013.0</td>\n",
       "      <td>Filed</td>\n",
       "      <td>...</td>\n",
       "      <td>Yes</td>\n",
       "      <td>ABS</td>\n",
       "      <td>44</td>\n",
       "      <td>1392.3</td>\n",
       "      <td>337.9</td>\n",
       "      <td>1054.4</td>\n",
       "      <td>235370</td>\n",
       "      <td>214110.0</td>\n",
       "      <td>Distribution Center</td>\n",
       "      <td>1.0</td>\n",
       "    </tr>\n",
       "    <tr>\n",
       "      <th>2</th>\n",
       "      <td>5017</td>\n",
       "      <td>1.021420e+09</td>\n",
       "      <td>NaN</td>\n",
       "      <td>1021420100</td>\n",
       "      <td>1063495</td>\n",
       "      <td>4079</td>\n",
       "      <td>BROADWAY</td>\n",
       "      <td>Manhattan</td>\n",
       "      <td>10032.0</td>\n",
       "      <td>Filed</td>\n",
       "      <td>...</td>\n",
       "      <td>No</td>\n",
       "      <td>None</td>\n",
       "      <td>Not Available</td>\n",
       "      <td>673.6</td>\n",
       "      <td>541.8</td>\n",
       "      <td>131.8</td>\n",
       "      <td>64806</td>\n",
       "      <td>64816.0</td>\n",
       "      <td>Multifamily Housing</td>\n",
       "      <td>1.0</td>\n",
       "    </tr>\n",
       "    <tr>\n",
       "      <th>3</th>\n",
       "      <td>5116</td>\n",
       "      <td>1.021750e+09</td>\n",
       "      <td>NaN</td>\n",
       "      <td>1021750080</td>\n",
       "      <td>1064235</td>\n",
       "      <td>60</td>\n",
       "      <td>SHERMAN AVENUE</td>\n",
       "      <td>Manhattan</td>\n",
       "      <td>10040.0</td>\n",
       "      <td>Filed</td>\n",
       "      <td>...</td>\n",
       "      <td>No</td>\n",
       "      <td>None</td>\n",
       "      <td>Not Available</td>\n",
       "      <td>485</td>\n",
       "      <td>403</td>\n",
       "      <td>82</td>\n",
       "      <td>62839</td>\n",
       "      <td>62847.0</td>\n",
       "      <td>Multifamily Housing</td>\n",
       "      <td>1.0</td>\n",
       "    </tr>\n",
       "    <tr>\n",
       "      <th>4</th>\n",
       "      <td>363</td>\n",
       "      <td>1.003360e+09</td>\n",
       "      <td>NaN</td>\n",
       "      <td>1003360005</td>\n",
       "      <td>1088884</td>\n",
       "      <td>16</td>\n",
       "      <td>BIALYSTOKER PLACE</td>\n",
       "      <td>Manhattan</td>\n",
       "      <td>10002.0</td>\n",
       "      <td>Filed</td>\n",
       "      <td>...</td>\n",
       "      <td>No</td>\n",
       "      <td>None</td>\n",
       "      <td>Not Available</td>\n",
       "      <td>435.5</td>\n",
       "      <td>290</td>\n",
       "      <td>145.5</td>\n",
       "      <td>98000</td>\n",
       "      <td>98052.0</td>\n",
       "      <td>Multifamily Housing</td>\n",
       "      <td>1.0</td>\n",
       "    </tr>\n",
       "  </tbody>\n",
       "</table>\n",
       "<p>5 rows × 25 columns</p>\n",
       "</div>"
      ],
      "text/plain": [
       "   Record Number  NYC Borough, Block, and Lot (BBL) Co-reported BBL Status  \\\n",
       "0          16099                       4.084010e+09                    NaN   \n",
       "1            500                       1.005050e+09                    NaN   \n",
       "2           5017                       1.021420e+09                    NaN   \n",
       "3           5116                       1.021750e+09                    NaN   \n",
       "4            363                       1.003360e+09                    NaN   \n",
       "\n",
       "  BBLs Co-reported Reported NYC Building Identificaiton Numbers (BINs)  \\\n",
       "0       4084010096                                            4453435    \n",
       "1       1005050001                                            1007817    \n",
       "2       1021420100                                            1063495    \n",
       "3       1021750080                                            1064235    \n",
       "4       1003360005                                            1088884    \n",
       "\n",
       "  Street Number        Street Name    Borough  Zip Code  \\\n",
       "0           NaN                NaN     Queens       NaN   \n",
       "1           150      VARICK STREET  Manhattan   10013.0   \n",
       "2          4079           BROADWAY  Manhattan   10032.0   \n",
       "3            60     SHERMAN AVENUE  Manhattan   10040.0   \n",
       "4            16  BIALYSTOKER PLACE  Manhattan   10002.0   \n",
       "\n",
       "  DOF Benchmarking Submission Status  ...  \\\n",
       "0      Not on Covered Buildings List  ...   \n",
       "1                              Filed  ...   \n",
       "2                              Filed  ...   \n",
       "3                              Filed  ...   \n",
       "4                              Filed  ...   \n",
       "\n",
       "  Automatic Water Benchmarking Eligible Reported Water Method  \\\n",
       "0                                   NaN                  None   \n",
       "1                                   Yes                   ABS   \n",
       "2                                    No                  None   \n",
       "3                                    No                  None   \n",
       "4                                    No                  None   \n",
       "\n",
       "  ENERGY STAR Score Total GHG Emissions Direct GHG Emissions  \\\n",
       "0     Not Available               966.7                806.6   \n",
       "1                44              1392.3                337.9   \n",
       "2     Not Available               673.6                541.8   \n",
       "3     Not Available                 485                  403   \n",
       "4     Not Available               435.5                  290   \n",
       "\n",
       "  Indirect GHG Emissions Reported Property Floor Area DOF Property Floor Area  \\\n",
       "0                  160.1                        91968                     NaN   \n",
       "1                 1054.4                       235370                214110.0   \n",
       "2                  131.8                        64806                 64816.0   \n",
       "3                     82                        62839                 62847.0   \n",
       "4                  145.5                        98000                 98052.0   \n",
       "\n",
       "  Primary Property Type - Self Selected DOF Number of Buildings  \n",
       "0                   Multifamily Housing                     NaN  \n",
       "1                   Distribution Center                     1.0  \n",
       "2                   Multifamily Housing                     1.0  \n",
       "3                   Multifamily Housing                     1.0  \n",
       "4                   Multifamily Housing                     1.0  \n",
       "\n",
       "[5 rows x 25 columns]"
      ]
     },
     "execution_count": 26,
     "metadata": {},
     "output_type": "execute_result"
    }
   ],
   "source": [
    "data.head()"
   ]
  },
  {
   "cell_type": "code",
   "execution_count": 27,
   "metadata": {},
   "outputs": [
    {
     "name": "stdout",
     "output_type": "stream",
     "text": [
      "Record Number\n",
      "NYC Borough, Block, and Lot (BBL)\n",
      "Co-reported BBL Status\n",
      "BBLs Co-reported\n",
      "Reported NYC Building Identificaiton Numbers (BINs)\n",
      "Street Number\n",
      "Street Name\n",
      "Borough\n",
      "Zip Code\n",
      "DOF Benchmarking Submission Status\n",
      "Site EUI\n",
      "Weather Normalized Site EUI\n",
      "Source EUI\n",
      "Weather Normalized Source EUI\n",
      "Municipally Supplied Potable Water\n",
      "Automatic Water Benchmarking Eligible\n",
      "Reported Water Method\n",
      "ENERGY STAR Score\n",
      "Total GHG Emissions\n",
      "Direct GHG Emissions\n",
      "Indirect GHG Emissions\n",
      "Reported Property Floor Area\n",
      "DOF Property Floor Area\n",
      "Primary Property Type - Self Selected\n",
      "DOF Number of Buildings\n"
     ]
    }
   ],
   "source": [
    "a = data.columns\n",
    "for elem in a:\n",
    "    print(elem)"
   ]
  },
  {
   "cell_type": "code",
   "execution_count": 28,
   "metadata": {},
   "outputs": [],
   "source": [
    "df = data[['Borough','Site EUI','Source EUI', 'Municipally Supplied Potable Water',\n",
    "           'Total GHG Emissions','Weather Normalized Site EUI','DOF Property Floor Area','ENERGY STAR Score']]"
   ]
  },
  {
   "cell_type": "code",
   "execution_count": 29,
   "metadata": {},
   "outputs": [
    {
     "name": "stdout",
     "output_type": "stream",
     "text": [
      "<class 'pandas.core.frame.DataFrame'>\n",
      "RangeIndex: 16170 entries, 0 to 16169\n",
      "Data columns (total 8 columns):\n",
      " #   Column                              Non-Null Count  Dtype  \n",
      "---  ------                              --------------  -----  \n",
      " 0   Borough                             16170 non-null  object \n",
      " 1   Site EUI                            12204 non-null  object \n",
      " 2   Source EUI                          12204 non-null  object \n",
      " 3   Municipally Supplied Potable Water  13790 non-null  object \n",
      " 4   Total GHG Emissions                 12380 non-null  object \n",
      " 5   Weather Normalized Site EUI         13790 non-null  object \n",
      " 6   DOF Property Floor Area             14465 non-null  float64\n",
      " 7   ENERGY STAR Score                   13790 non-null  object \n",
      "dtypes: float64(1), object(7)\n",
      "memory usage: 1010.8+ KB\n"
     ]
    }
   ],
   "source": [
    "df.info()"
   ]
  },
  {
   "cell_type": "code",
   "execution_count": null,
   "metadata": {},
   "outputs": [],
   "source": []
  },
  {
   "cell_type": "code",
   "execution_count": 31,
   "metadata": {},
   "outputs": [
    {
     "name": "stderr",
     "output_type": "stream",
     "text": [
      "<ipython-input-31-ca93f2791cd0>:1: SettingWithCopyWarning: \n",
      "A value is trying to be set on a copy of a slice from a DataFrame.\n",
      "Try using .loc[row_indexer,col_indexer] = value instead\n",
      "\n",
      "See the caveats in the documentation: https://pandas.pydata.org/pandas-docs/stable/user_guide/indexing.html#returning-a-view-versus-a-copy\n",
      "  df['Site EUI'] = pd.to_numeric(df['Site EUI'], errors='coerce')\n",
      "<ipython-input-31-ca93f2791cd0>:2: SettingWithCopyWarning: \n",
      "A value is trying to be set on a copy of a slice from a DataFrame.\n",
      "Try using .loc[row_indexer,col_indexer] = value instead\n",
      "\n",
      "See the caveats in the documentation: https://pandas.pydata.org/pandas-docs/stable/user_guide/indexing.html#returning-a-view-versus-a-copy\n",
      "  df['Source EUI'] = pd.to_numeric(df['Source EUI'], errors='coerce')\n",
      "<ipython-input-31-ca93f2791cd0>:3: SettingWithCopyWarning: \n",
      "A value is trying to be set on a copy of a slice from a DataFrame.\n",
      "Try using .loc[row_indexer,col_indexer] = value instead\n",
      "\n",
      "See the caveats in the documentation: https://pandas.pydata.org/pandas-docs/stable/user_guide/indexing.html#returning-a-view-versus-a-copy\n",
      "  df['Municipally Supplied Potable Water'] = pd.to_numeric(df['Municipally Supplied Potable Water'], errors='coerce')\n",
      "<ipython-input-31-ca93f2791cd0>:4: SettingWithCopyWarning: \n",
      "A value is trying to be set on a copy of a slice from a DataFrame.\n",
      "Try using .loc[row_indexer,col_indexer] = value instead\n",
      "\n",
      "See the caveats in the documentation: https://pandas.pydata.org/pandas-docs/stable/user_guide/indexing.html#returning-a-view-versus-a-copy\n",
      "  df['Total GHG Emissions'] = pd.to_numeric(df['Total GHG Emissions'], errors='coerce')\n",
      "<ipython-input-31-ca93f2791cd0>:5: SettingWithCopyWarning: \n",
      "A value is trying to be set on a copy of a slice from a DataFrame.\n",
      "Try using .loc[row_indexer,col_indexer] = value instead\n",
      "\n",
      "See the caveats in the documentation: https://pandas.pydata.org/pandas-docs/stable/user_guide/indexing.html#returning-a-view-versus-a-copy\n",
      "  df['Weather Normalized Site EUI'] = pd.to_numeric(df['Weather Normalized Site EUI'], errors='coerce')\n",
      "<ipython-input-31-ca93f2791cd0>:6: SettingWithCopyWarning: \n",
      "A value is trying to be set on a copy of a slice from a DataFrame.\n",
      "Try using .loc[row_indexer,col_indexer] = value instead\n",
      "\n",
      "See the caveats in the documentation: https://pandas.pydata.org/pandas-docs/stable/user_guide/indexing.html#returning-a-view-versus-a-copy\n",
      "  df['DOF Property Floor Area'] = pd.to_numeric(df['DOF Property Floor Area'], errors='coerce')\n",
      "<ipython-input-31-ca93f2791cd0>:7: SettingWithCopyWarning: \n",
      "A value is trying to be set on a copy of a slice from a DataFrame.\n",
      "Try using .loc[row_indexer,col_indexer] = value instead\n",
      "\n",
      "See the caveats in the documentation: https://pandas.pydata.org/pandas-docs/stable/user_guide/indexing.html#returning-a-view-versus-a-copy\n",
      "  df['ENERGY STAR Score']  = pd.to_numeric(df['ENERGY STAR Score'], errors='coerce')\n"
     ]
    }
   ],
   "source": [
    "df['Site EUI'] = pd.to_numeric(df['Site EUI'], errors='coerce')\n",
    "df['Source EUI'] = pd.to_numeric(df['Source EUI'], errors='coerce')\n",
    "df['Municipally Supplied Potable Water'] = pd.to_numeric(df['Municipally Supplied Potable Water'], errors='coerce')\n",
    "df['Total GHG Emissions'] = pd.to_numeric(df['Total GHG Emissions'], errors='coerce')\n",
    "df['Weather Normalized Site EUI'] = pd.to_numeric(df['Weather Normalized Site EUI'], errors='coerce')\n",
    "df['DOF Property Floor Area'] = pd.to_numeric(df['DOF Property Floor Area'], errors='coerce')\n",
    "df['ENERGY STAR Score']  = pd.to_numeric(df['ENERGY STAR Score'], errors='coerce')"
   ]
  },
  {
   "cell_type": "code",
   "execution_count": 33,
   "metadata": {},
   "outputs": [],
   "source": [
    "df = df.dropna(subset=['ENERGY STAR Score'])"
   ]
  },
  {
   "cell_type": "code",
   "execution_count": 46,
   "metadata": {},
   "outputs": [
    {
     "data": {
      "text/plain": [
       "Borough                        0\n",
       "Site EUI                       0\n",
       "Source EUI                     0\n",
       "Total GHG Emissions            0\n",
       "Weather Normalized Site EUI    0\n",
       "DOF Property Floor Area        0\n",
       "ENERGY STAR Score              0\n",
       "dtype: int64"
      ]
     },
     "execution_count": 46,
     "metadata": {},
     "output_type": "execute_result"
    }
   ],
   "source": [
    "df.isna().sum()"
   ]
  },
  {
   "cell_type": "code",
   "execution_count": 44,
   "metadata": {},
   "outputs": [],
   "source": [
    "df['Weather Normalized Site EUI'].fillna(df['Weather Normalized Site EUI'].mean(), inplace=True)\n",
    "df['DOF Property Floor Area'].fillna(df['DOF Property Floor Area'].mean(), inplace = True)\n",
    "df['Total GHG Emissions'].fillna(df['Total GHG Emissions'].mean(), inplace=True)"
   ]
  },
  {
   "cell_type": "code",
   "execution_count": 45,
   "metadata": {},
   "outputs": [],
   "source": [
    "df = df.drop('Municipally Supplied Potable Water', axis=1)"
   ]
  },
  {
   "cell_type": "code",
   "execution_count": null,
   "metadata": {},
   "outputs": [],
   "source": []
  },
  {
   "cell_type": "code",
   "execution_count": 48,
   "metadata": {},
   "outputs": [],
   "source": [
    "ohc_borough = pd.get_dummies(df['Borough']) "
   ]
  },
  {
   "cell_type": "code",
   "execution_count": 49,
   "metadata": {},
   "outputs": [],
   "source": [
    "df = df.drop('Borough', axis=1)"
   ]
  },
  {
   "cell_type": "code",
   "execution_count": 50,
   "metadata": {},
   "outputs": [],
   "source": [
    "df = pd.concat([df, ohc_borough], axis= 1)"
   ]
  },
  {
   "cell_type": "code",
   "execution_count": null,
   "metadata": {},
   "outputs": [],
   "source": []
  },
  {
   "cell_type": "markdown",
   "metadata": {},
   "source": [
    "# Обучение"
   ]
  },
  {
   "cell_type": "code",
   "execution_count": 52,
   "metadata": {},
   "outputs": [
    {
     "name": "stderr",
     "output_type": "stream",
     "text": [
      "<frozen importlib._bootstrap>:219: RuntimeWarning: numpy.ufunc size changed, may indicate binary incompatibility. Expected 192 from C header, got 216 from PyObject\n",
      "<frozen importlib._bootstrap>:219: RuntimeWarning: numpy.ufunc size changed, may indicate binary incompatibility. Expected 192 from C header, got 216 from PyObject\n"
     ]
    }
   ],
   "source": [
    "from sklearn.model_selection import train_test_split\n",
    "from sklearn import linear_model, metrics"
   ]
  },
  {
   "cell_type": "code",
   "execution_count": 53,
   "metadata": {},
   "outputs": [],
   "source": [
    "labels = df['ENERGY STAR Score']\n",
    "df =df.drop(['ENERGY STAR Score'], axis = 1)"
   ]
  },
  {
   "cell_type": "code",
   "execution_count": null,
   "metadata": {},
   "outputs": [],
   "source": []
  },
  {
   "cell_type": "code",
   "execution_count": 54,
   "metadata": {},
   "outputs": [],
   "source": [
    "X_train, X_test, y_train, y_test = train_test_split(df, labels, \n",
    "                                                    test_size = 0.3,\n",
    "                                                   random_state = 42)\n",
    "\n"
   ]
  },
  {
   "cell_type": "code",
   "execution_count": 55,
   "metadata": {},
   "outputs": [
    {
     "name": "stdout",
     "output_type": "stream",
     "text": [
      "(1422, 10)\n",
      "(610, 10)\n",
      "(1422,)\n",
      "(610,)\n"
     ]
    }
   ],
   "source": [
    "print(X_train.shape)\n",
    "print(X_test.shape)\n",
    "print(y_train.shape)\n",
    "print(y_test.shape)\n",
    "\n"
   ]
  },
  {
   "cell_type": "code",
   "execution_count": 56,
   "metadata": {},
   "outputs": [
    {
     "data": {
      "text/plain": [
       "Text(0.5, 1.0, 'Label split for test')"
      ]
     },
     "execution_count": 56,
     "metadata": {},
     "output_type": "execute_result"
    },
    {
     "data": {
      "image/png": "[encoded data removed]",
      "text/plain": [
       "<Figure size 936x648 with 4 Axes>"
      ]
     },
     "metadata": {
      "needs_background": "light"
     },
     "output_type": "display_data"
    }
   ],
   "source": [
    "plt.figure(figsize=(13, 9))\n",
    "\n",
    "\n",
    "plt.subplot(2,2,1)\n",
    "plt.hist(y_train)\n",
    "plt.title('Labels for train')\n",
    "\n",
    "plt.subplot(2,2,2)\n",
    "plt.hist(y_test)\n",
    "plt.title('Labels for test')\n",
    "\n",
    "plt.subplot(2,2,3)\n",
    "sns.histplot(y_train, kde=True, bins = 10)\n",
    "plt.title('Label split for train')\n",
    "\n",
    "plt.subplot(2,2,4)\n",
    "sns.histplot(y_test, kde=True, bins = 10)\n",
    "plt.title('Label split for test')"
   ]
  },
  {
   "cell_type": "code",
   "execution_count": null,
   "metadata": {},
   "outputs": [],
   "source": []
  },
  {
   "cell_type": "code",
   "execution_count": 57,
   "metadata": {},
   "outputs": [
    {
     "data": {
      "text/plain": [
       "LinearRegression()"
      ]
     },
     "execution_count": 57,
     "metadata": {},
     "output_type": "execute_result"
    }
   ],
   "source": [
    "# Model\n",
    "regressor = linear_model.LinearRegression()\n",
    "regressor.fit(X_train, y_train)"
   ]
  },
  {
   "cell_type": "code",
   "execution_count": 58,
   "metadata": {},
   "outputs": [
    {
     "data": {
      "text/plain": [
       "22.22280907346349"
      ]
     },
     "execution_count": 58,
     "metadata": {},
     "output_type": "execute_result"
    }
   ],
   "source": [
    "prediction = regressor.predict(X_test)\n",
    "metrics.mean_absolute_error(y_test, prediction)"
   ]
  },
  {
   "cell_type": "code",
   "execution_count": 59,
   "metadata": {},
   "outputs": [
    {
     "name": "stdout",
     "output_type": "stream",
     "text": [
      "1868     43.0\n",
      "3845     77.0\n",
      "1325     43.0\n",
      "1453     44.0\n",
      "13497    11.0\n",
      "3074     92.0\n",
      "1698     48.0\n",
      "1039     65.0\n",
      "5795     91.0\n",
      "8052     84.0\n",
      "Name: ENERGY STAR Score, dtype: float64\n"
     ]
    }
   ],
   "source": [
    "print(y_test[:10])"
   ]
  },
  {
   "cell_type": "code",
   "execution_count": 60,
   "metadata": {},
   "outputs": [
    {
     "name": "stdout",
     "output_type": "stream",
     "text": [
      "[75.92700707 66.16156581 57.61728141 58.96488438 44.5309515  68.84646197\n",
      " 64.42614544 63.09096222 57.79549203 60.11475371]\n"
     ]
    }
   ],
   "source": [
    "print(prediction[:10])"
   ]
  },
  {
   "cell_type": "code",
   "execution_count": null,
   "metadata": {},
   "outputs": [],
   "source": []
  }
 ],
 "metadata": {
  "kernelspec": {
   "display_name": "Python 3",
   "language": "python",
   "name": "python3"
  },
  "language_info": {
   "codemirror_mode": {
    "name": "ipython",
    "version": 3
   },
   "file_extension": ".py",
   "mimetype": "text/x-python",
   "name": "python",
   "nbconvert_exporter": "python",
   "pygments_lexer": "ipython3",
   "version": "3.8.5"
  }
 },
 "nbformat": 4,
 "nbformat_minor": 4
}
