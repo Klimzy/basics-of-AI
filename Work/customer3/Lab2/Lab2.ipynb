{
 "cells": [
  {
   "cell_type": "code",
   "execution_count": 43,
   "metadata": {},
   "outputs": [],
   "source": [
    "import pandas as pd"
   ]
  },
  {
   "cell_type": "markdown",
   "metadata": {},
   "source": [
    "D F G E B A"
   ]
  },
  {
   "cell_type": "code",
   "execution_count": null,
   "metadata": {},
   "outputs": [],
   "source": []
  },
  {
   "cell_type": "code",
   "execution_count": 44,
   "metadata": {},
   "outputs": [],
   "source": [
    "df0 = pd.read_excel('2012.xls')"
   ]
  },
  {
   "cell_type": "code",
   "execution_count": 45,
   "metadata": {},
   "outputs": [
    {
     "data": {
      "text/html": [
       "<div>\n",
       "<style scoped>\n",
       "    .dataframe tbody tr th:only-of-type {\n",
       "        vertical-align: middle;\n",
       "    }\n",
       "\n",
       "    .dataframe tbody tr th {\n",
       "        vertical-align: top;\n",
       "    }\n",
       "\n",
       "    .dataframe thead th {\n",
       "        text-align: right;\n",
       "    }\n",
       "</style>\n",
       "<table border=\"1\" class=\"dataframe\">\n",
       "  <thead>\n",
       "    <tr style=\"text-align: right;\">\n",
       "      <th></th>\n",
       "      <th>BBL</th>\n",
       "      <th>Street Number</th>\n",
       "      <th>Street Name</th>\n",
       "      <th>Borough</th>\n",
       "      <th>Zip</th>\n",
       "      <th>Benchmarking Submission</th>\n",
       "      <th>Entry Number</th>\n",
       "      <th>Site EUI</th>\n",
       "      <th>Weather Normalized Source EUI</th>\n",
       "      <th>Water per Square Foot</th>\n",
       "      <th>ENERGY STAR Score</th>\n",
       "      <th>GHG</th>\n",
       "      <th>Reported Building Square Footage</th>\n",
       "      <th>Reported Facility Type</th>\n",
       "      <th>Number of Buildings</th>\n",
       "      <th>Reported BINs</th>\n",
       "    </tr>\n",
       "  </thead>\n",
       "  <tbody>\n",
       "    <tr>\n",
       "      <th>0</th>\n",
       "      <td>1000050010</td>\n",
       "      <td>115</td>\n",
       "      <td>BROAD STREET</td>\n",
       "      <td>MANHATTAN</td>\n",
       "      <td>10004</td>\n",
       "      <td>No DOF Record as of 08/01/12</td>\n",
       "      <td>NaN</td>\n",
       "      <td>NaN</td>\n",
       "      <td>NaN</td>\n",
       "      <td>NaN</td>\n",
       "      <td>NaN</td>\n",
       "      <td>NaN</td>\n",
       "      <td>NaN</td>\n",
       "      <td>NaN</td>\n",
       "      <td>NaN</td>\n",
       "      <td>NaN</td>\n",
       "    </tr>\n",
       "    <tr>\n",
       "      <th>1</th>\n",
       "      <td>1000090001</td>\n",
       "      <td>34</td>\n",
       "      <td>WHITEHALL STREET</td>\n",
       "      <td>MANHATTAN</td>\n",
       "      <td>10004</td>\n",
       "      <td>Yes</td>\n",
       "      <td>1518.0</td>\n",
       "      <td>157.9</td>\n",
       "      <td>437.4</td>\n",
       "      <td>NaN</td>\n",
       "      <td>27.0</td>\n",
       "      <td>12077.53</td>\n",
       "      <td>852840.0</td>\n",
       "      <td>Office</td>\n",
       "      <td>1.0</td>\n",
       "      <td>1000018</td>\n",
       "    </tr>\n",
       "    <tr>\n",
       "      <th>2</th>\n",
       "      <td>1000090014</td>\n",
       "      <td>17</td>\n",
       "      <td>STATE STREET</td>\n",
       "      <td>MANHATTAN</td>\n",
       "      <td>10004</td>\n",
       "      <td>Yes</td>\n",
       "      <td>312.0</td>\n",
       "      <td>91.5</td>\n",
       "      <td>278.7</td>\n",
       "      <td>NaN</td>\n",
       "      <td>61.0</td>\n",
       "      <td>4817.62</td>\n",
       "      <td>574105.0</td>\n",
       "      <td>Office</td>\n",
       "      <td>1.0</td>\n",
       "      <td>1000020</td>\n",
       "    </tr>\n",
       "    <tr>\n",
       "      <th>3</th>\n",
       "      <td>1000090029</td>\n",
       "      <td>24</td>\n",
       "      <td>WHITEHALL STREET</td>\n",
       "      <td>MANHATTAN</td>\n",
       "      <td>10004</td>\n",
       "      <td>Yes</td>\n",
       "      <td>52.0</td>\n",
       "      <td>137.2</td>\n",
       "      <td>306.6</td>\n",
       "      <td>6.66</td>\n",
       "      <td>41.0</td>\n",
       "      <td>10190.38</td>\n",
       "      <td>859807.0</td>\n",
       "      <td>Office</td>\n",
       "      <td>1.0</td>\n",
       "      <td>1000021</td>\n",
       "    </tr>\n",
       "    <tr>\n",
       "      <th>4</th>\n",
       "      <td>1000100014</td>\n",
       "      <td>33</td>\n",
       "      <td>WHITEHALL STREET</td>\n",
       "      <td>MANHATTAN</td>\n",
       "      <td>10004</td>\n",
       "      <td>No DOF Record as of 08/01/12</td>\n",
       "      <td>NaN</td>\n",
       "      <td>NaN</td>\n",
       "      <td>NaN</td>\n",
       "      <td>NaN</td>\n",
       "      <td>NaN</td>\n",
       "      <td>NaN</td>\n",
       "      <td>NaN</td>\n",
       "      <td>NaN</td>\n",
       "      <td>NaN</td>\n",
       "      <td>NaN</td>\n",
       "    </tr>\n",
       "  </tbody>\n",
       "</table>\n",
       "</div>"
      ],
      "text/plain": [
       "          BBL Street Number           Street Name    Borough    Zip  \\\n",
       "0  1000050010           115  BROAD STREET          MANHATTAN  10004   \n",
       "1  1000090001            34      WHITEHALL STREET  MANHATTAN  10004   \n",
       "2  1000090014            17          STATE STREET  MANHATTAN  10004   \n",
       "3  1000090029            24      WHITEHALL STREET  MANHATTAN  10004   \n",
       "4  1000100014            33  WHITEHALL STREET      MANHATTAN  10004   \n",
       "\n",
       "        Benchmarking Submission  Entry Number  Site EUI  \\\n",
       "0  No DOF Record as of 08/01/12           NaN       NaN   \n",
       "1                           Yes        1518.0     157.9   \n",
       "2                           Yes         312.0      91.5   \n",
       "3                           Yes          52.0     137.2   \n",
       "4  No DOF Record as of 08/01/12           NaN       NaN   \n",
       "\n",
       "   Weather Normalized Source EUI  Water per Square Foot  ENERGY STAR Score  \\\n",
       "0                            NaN                    NaN                NaN   \n",
       "1                          437.4                    NaN               27.0   \n",
       "2                          278.7                    NaN               61.0   \n",
       "3                          306.6                   6.66               41.0   \n",
       "4                            NaN                    NaN                NaN   \n",
       "\n",
       "        GHG  Reported Building Square Footage Reported Facility Type  \\\n",
       "0       NaN                               NaN                    NaN   \n",
       "1  12077.53                          852840.0                 Office   \n",
       "2   4817.62                          574105.0                 Office   \n",
       "3  10190.38                          859807.0                 Office   \n",
       "4       NaN                               NaN                    NaN   \n",
       "\n",
       "   Number of Buildings Reported BINs  \n",
       "0                  NaN           NaN  \n",
       "1                  1.0       1000018  \n",
       "2                  1.0       1000020  \n",
       "3                  1.0       1000021  \n",
       "4                  NaN           NaN  "
      ]
     },
     "execution_count": 45,
     "metadata": {},
     "output_type": "execute_result"
    }
   ],
   "source": [
    "df0.head()"
   ]
  },
  {
   "cell_type": "code",
   "execution_count": 46,
   "metadata": {},
   "outputs": [
    {
     "data": {
      "text/plain": [
       "(4081, 16)"
      ]
     },
     "execution_count": 46,
     "metadata": {},
     "output_type": "execute_result"
    }
   ],
   "source": [
    "df0.shape"
   ]
  },
  {
   "cell_type": "code",
   "execution_count": null,
   "metadata": {},
   "outputs": [],
   "source": []
  },
  {
   "cell_type": "code",
   "execution_count": 47,
   "metadata": {},
   "outputs": [],
   "source": [
    "df = df0[['BBL', 'Street Number', 'Borough', 'Zip', 'Benchmarking Submission', 'Entry Number','Weather Normalized Source EUI','GHG','ENERGY STAR Score']]"
   ]
  },
  {
   "cell_type": "code",
   "execution_count": 48,
   "metadata": {},
   "outputs": [
    {
     "data": {
      "text/html": [
       "<div>\n",
       "<style scoped>\n",
       "    .dataframe tbody tr th:only-of-type {\n",
       "        vertical-align: middle;\n",
       "    }\n",
       "\n",
       "    .dataframe tbody tr th {\n",
       "        vertical-align: top;\n",
       "    }\n",
       "\n",
       "    .dataframe thead th {\n",
       "        text-align: right;\n",
       "    }\n",
       "</style>\n",
       "<table border=\"1\" class=\"dataframe\">\n",
       "  <thead>\n",
       "    <tr style=\"text-align: right;\">\n",
       "      <th></th>\n",
       "      <th>BBL</th>\n",
       "      <th>Street Number</th>\n",
       "      <th>Borough</th>\n",
       "      <th>Zip</th>\n",
       "      <th>Benchmarking Submission</th>\n",
       "      <th>Entry Number</th>\n",
       "      <th>Weather Normalized Source EUI</th>\n",
       "      <th>GHG</th>\n",
       "      <th>ENERGY STAR Score</th>\n",
       "    </tr>\n",
       "  </thead>\n",
       "  <tbody>\n",
       "    <tr>\n",
       "      <th>0</th>\n",
       "      <td>1000050010</td>\n",
       "      <td>115</td>\n",
       "      <td>MANHATTAN</td>\n",
       "      <td>10004</td>\n",
       "      <td>No DOF Record as of 08/01/12</td>\n",
       "      <td>NaN</td>\n",
       "      <td>NaN</td>\n",
       "      <td>NaN</td>\n",
       "      <td>NaN</td>\n",
       "    </tr>\n",
       "    <tr>\n",
       "      <th>1</th>\n",
       "      <td>1000090001</td>\n",
       "      <td>34</td>\n",
       "      <td>MANHATTAN</td>\n",
       "      <td>10004</td>\n",
       "      <td>Yes</td>\n",
       "      <td>1518.0</td>\n",
       "      <td>437.4</td>\n",
       "      <td>12077.53</td>\n",
       "      <td>27.0</td>\n",
       "    </tr>\n",
       "    <tr>\n",
       "      <th>2</th>\n",
       "      <td>1000090014</td>\n",
       "      <td>17</td>\n",
       "      <td>MANHATTAN</td>\n",
       "      <td>10004</td>\n",
       "      <td>Yes</td>\n",
       "      <td>312.0</td>\n",
       "      <td>278.7</td>\n",
       "      <td>4817.62</td>\n",
       "      <td>61.0</td>\n",
       "    </tr>\n",
       "    <tr>\n",
       "      <th>3</th>\n",
       "      <td>1000090029</td>\n",
       "      <td>24</td>\n",
       "      <td>MANHATTAN</td>\n",
       "      <td>10004</td>\n",
       "      <td>Yes</td>\n",
       "      <td>52.0</td>\n",
       "      <td>306.6</td>\n",
       "      <td>10190.38</td>\n",
       "      <td>41.0</td>\n",
       "    </tr>\n",
       "    <tr>\n",
       "      <th>4</th>\n",
       "      <td>1000100014</td>\n",
       "      <td>33</td>\n",
       "      <td>MANHATTAN</td>\n",
       "      <td>10004</td>\n",
       "      <td>No DOF Record as of 08/01/12</td>\n",
       "      <td>NaN</td>\n",
       "      <td>NaN</td>\n",
       "      <td>NaN</td>\n",
       "      <td>NaN</td>\n",
       "    </tr>\n",
       "    <tr>\n",
       "      <th>...</th>\n",
       "      <td>...</td>\n",
       "      <td>...</td>\n",
       "      <td>...</td>\n",
       "      <td>...</td>\n",
       "      <td>...</td>\n",
       "      <td>...</td>\n",
       "      <td>...</td>\n",
       "      <td>...</td>\n",
       "      <td>...</td>\n",
       "    </tr>\n",
       "    <tr>\n",
       "      <th>4076</th>\n",
       "      <td>5075770003</td>\n",
       "      <td>200</td>\n",
       "      <td>STATEN ISLAND</td>\n",
       "      <td>10309</td>\n",
       "      <td>Yes</td>\n",
       "      <td>1949.0</td>\n",
       "      <td>146.6</td>\n",
       "      <td>283.17</td>\n",
       "      <td>11.0</td>\n",
       "    </tr>\n",
       "    <tr>\n",
       "      <th>4077</th>\n",
       "      <td>5077020001</td>\n",
       "      <td>6420</td>\n",
       "      <td>STATEN ISLAND</td>\n",
       "      <td>10309</td>\n",
       "      <td>No DOF Record as of 08/01/12</td>\n",
       "      <td>NaN</td>\n",
       "      <td>NaN</td>\n",
       "      <td>NaN</td>\n",
       "      <td>NaN</td>\n",
       "    </tr>\n",
       "    <tr>\n",
       "      <th>4078</th>\n",
       "      <td>5079710250</td>\n",
       "      <td>236</td>\n",
       "      <td>STATEN ISLAND</td>\n",
       "      <td>10309</td>\n",
       "      <td>No DOF Record as of 08/01/12</td>\n",
       "      <td>NaN</td>\n",
       "      <td>NaN</td>\n",
       "      <td>NaN</td>\n",
       "      <td>NaN</td>\n",
       "    </tr>\n",
       "    <tr>\n",
       "      <th>4079</th>\n",
       "      <td>5079910100</td>\n",
       "      <td>99</td>\n",
       "      <td>STATEN ISLAND</td>\n",
       "      <td>10307</td>\n",
       "      <td>Yes</td>\n",
       "      <td>2027.0</td>\n",
       "      <td>93.5</td>\n",
       "      <td>160.15</td>\n",
       "      <td>NaN</td>\n",
       "    </tr>\n",
       "    <tr>\n",
       "      <th>4080</th>\n",
       "      <td>5080080134</td>\n",
       "      <td>250</td>\n",
       "      <td>STATEN ISLAND</td>\n",
       "      <td>10307</td>\n",
       "      <td>No DOF Record as of 08/01/12</td>\n",
       "      <td>NaN</td>\n",
       "      <td>NaN</td>\n",
       "      <td>NaN</td>\n",
       "      <td>NaN</td>\n",
       "    </tr>\n",
       "  </tbody>\n",
       "</table>\n",
       "<p>4081 rows × 9 columns</p>\n",
       "</div>"
      ],
      "text/plain": [
       "             BBL Street Number               Borough    Zip  \\\n",
       "0     1000050010           115             MANHATTAN  10004   \n",
       "1     1000090001            34             MANHATTAN  10004   \n",
       "2     1000090014            17             MANHATTAN  10004   \n",
       "3     1000090029            24             MANHATTAN  10004   \n",
       "4     1000100014            33             MANHATTAN  10004   \n",
       "...          ...           ...                   ...    ...   \n",
       "4076  5075770003           200         STATEN ISLAND  10309   \n",
       "4077  5077020001          6420  STATEN ISLAND         10309   \n",
       "4078  5079710250           236  STATEN ISLAND         10309   \n",
       "4079  5079910100            99         STATEN ISLAND  10307   \n",
       "4080  5080080134           250  STATEN ISLAND         10307   \n",
       "\n",
       "           Benchmarking Submission  Entry Number  \\\n",
       "0     No DOF Record as of 08/01/12           NaN   \n",
       "1                              Yes        1518.0   \n",
       "2                              Yes         312.0   \n",
       "3                              Yes          52.0   \n",
       "4     No DOF Record as of 08/01/12           NaN   \n",
       "...                            ...           ...   \n",
       "4076                           Yes        1949.0   \n",
       "4077  No DOF Record as of 08/01/12           NaN   \n",
       "4078  No DOF Record as of 08/01/12           NaN   \n",
       "4079                           Yes        2027.0   \n",
       "4080  No DOF Record as of 08/01/12           NaN   \n",
       "\n",
       "      Weather Normalized Source EUI       GHG  ENERGY STAR Score  \n",
       "0                               NaN       NaN                NaN  \n",
       "1                             437.4  12077.53               27.0  \n",
       "2                             278.7   4817.62               61.0  \n",
       "3                             306.6  10190.38               41.0  \n",
       "4                               NaN       NaN                NaN  \n",
       "...                             ...       ...                ...  \n",
       "4076                          146.6    283.17               11.0  \n",
       "4077                            NaN       NaN                NaN  \n",
       "4078                            NaN       NaN                NaN  \n",
       "4079                           93.5    160.15                NaN  \n",
       "4080                            NaN       NaN                NaN  \n",
       "\n",
       "[4081 rows x 9 columns]"
      ]
     },
     "execution_count": 48,
     "metadata": {},
     "output_type": "execute_result"
    }
   ],
   "source": [
    "df"
   ]
  },
  {
   "cell_type": "code",
   "execution_count": null,
   "metadata": {},
   "outputs": [],
   "source": []
  },
  {
   "cell_type": "code",
   "execution_count": 49,
   "metadata": {
    "scrolled": true
   },
   "outputs": [
    {
     "name": "stdout",
     "output_type": "stream",
     "text": [
      "<class 'pandas.core.frame.DataFrame'>\n",
      "RangeIndex: 4081 entries, 0 to 4080\n",
      "Data columns (total 9 columns):\n",
      " #   Column                         Non-Null Count  Dtype  \n",
      "---  ------                         --------------  -----  \n",
      " 0   BBL                            4081 non-null   int64  \n",
      " 1   Street Number                  4033 non-null   object \n",
      " 2   Borough                        4081 non-null   object \n",
      " 3   Zip                            4081 non-null   int64  \n",
      " 4   Benchmarking Submission        4081 non-null   object \n",
      " 5   Entry Number                   2546 non-null   float64\n",
      " 6   Weather Normalized Source EUI  2319 non-null   float64\n",
      " 7   GHG                            2309 non-null   float64\n",
      " 8   ENERGY STAR Score              1593 non-null   float64\n",
      "dtypes: float64(4), int64(2), object(3)\n",
      "memory usage: 287.1+ KB\n"
     ]
    }
   ],
   "source": [
    "df.info()"
   ]
  },
  {
   "cell_type": "code",
   "execution_count": null,
   "metadata": {},
   "outputs": [],
   "source": []
  },
  {
   "cell_type": "markdown",
   "metadata": {},
   "source": [
    "# Удаление плохих строк в датафрейме"
   ]
  },
  {
   "cell_type": "code",
   "execution_count": 50,
   "metadata": {},
   "outputs": [
    {
     "name": "stdout",
     "output_type": "stream",
     "text": [
      "<class 'pandas.core.frame.DataFrame'>\n",
      "Int64Index: 1593 entries, 1 to 4076\n",
      "Data columns (total 9 columns):\n",
      " #   Column                         Non-Null Count  Dtype  \n",
      "---  ------                         --------------  -----  \n",
      " 0   BBL                            1593 non-null   int64  \n",
      " 1   Street Number                  1592 non-null   object \n",
      " 2   Borough                        1593 non-null   object \n",
      " 3   Zip                            1593 non-null   int64  \n",
      " 4   Benchmarking Submission        1593 non-null   object \n",
      " 5   Entry Number                   1593 non-null   float64\n",
      " 6   Weather Normalized Source EUI  1518 non-null   float64\n",
      " 7   GHG                            1515 non-null   float64\n",
      " 8   ENERGY STAR Score              1593 non-null   float64\n",
      "dtypes: float64(4), int64(2), object(3)\n",
      "memory usage: 124.5+ KB\n"
     ]
    }
   ],
   "source": [
    "df = df.dropna(subset=['ENERGY STAR Score'])\n",
    "df.info()"
   ]
  },
  {
   "cell_type": "code",
   "execution_count": 51,
   "metadata": {},
   "outputs": [
    {
     "data": {
      "text/plain": [
       "BBL                               0\n",
       "Street Number                     1\n",
       "Borough                           0\n",
       "Zip                               0\n",
       "Benchmarking Submission           0\n",
       "Entry Number                      0\n",
       "Weather Normalized Source EUI    75\n",
       "GHG                              78\n",
       "ENERGY STAR Score                 0\n",
       "dtype: int64"
      ]
     },
     "execution_count": 51,
     "metadata": {},
     "output_type": "execute_result"
    }
   ],
   "source": [
    "df.isnull().sum()"
   ]
  },
  {
   "cell_type": "code",
   "execution_count": 52,
   "metadata": {},
   "outputs": [
    {
     "data": {
      "text/plain": [
       "5"
      ]
     },
     "execution_count": 52,
     "metadata": {},
     "output_type": "execute_result"
    }
   ],
   "source": [
    "df['Borough'].nunique()"
   ]
  },
  {
   "cell_type": "code",
   "execution_count": 53,
   "metadata": {},
   "outputs": [
    {
     "data": {
      "text/plain": [
       "MANHATTAN        1068\n",
       "QUEENS            192\n",
       "BROOKLYN          182\n",
       "BRONX             105\n",
       "STATEN ISLAND      46\n",
       "Name: Borough, dtype: int64"
      ]
     },
     "execution_count": 53,
     "metadata": {},
     "output_type": "execute_result"
    }
   ],
   "source": [
    "df['Borough'].value_counts()"
   ]
  },
  {
   "cell_type": "code",
   "execution_count": null,
   "metadata": {},
   "outputs": [],
   "source": []
  },
  {
   "cell_type": "code",
   "execution_count": 54,
   "metadata": {},
   "outputs": [
    {
     "name": "stderr",
     "output_type": "stream",
     "text": [
      "<ipython-input-54-e9dc041e5f76>:1: SettingWithCopyWarning: \n",
      "A value is trying to be set on a copy of a slice from a DataFrame.\n",
      "Try using .loc[row_indexer,col_indexer] = value instead\n",
      "\n",
      "See the caveats in the documentation: https://pandas.pydata.org/pandas-docs/stable/user_guide/indexing.html#returning-a-view-versus-a-copy\n",
      "  df[\"Street Number\"] = pd.to_numeric(df['Street Number'], downcast='integer', errors='coerce')\n"
     ]
    }
   ],
   "source": [
    "df[\"Street Number\"] = pd.to_numeric(df['Street Number'], downcast='integer', errors='coerce')"
   ]
  },
  {
   "cell_type": "code",
   "execution_count": 55,
   "metadata": {},
   "outputs": [
    {
     "name": "stdout",
     "output_type": "stream",
     "text": [
      "<class 'pandas.core.frame.DataFrame'>\n",
      "Int64Index: 1593 entries, 1 to 4076\n",
      "Data columns (total 9 columns):\n",
      " #   Column                         Non-Null Count  Dtype  \n",
      "---  ------                         --------------  -----  \n",
      " 0   BBL                            1593 non-null   int64  \n",
      " 1   Street Number                  1400 non-null   float64\n",
      " 2   Borough                        1593 non-null   object \n",
      " 3   Zip                            1593 non-null   int64  \n",
      " 4   Benchmarking Submission        1593 non-null   object \n",
      " 5   Entry Number                   1593 non-null   float64\n",
      " 6   Weather Normalized Source EUI  1518 non-null   float64\n",
      " 7   GHG                            1515 non-null   float64\n",
      " 8   ENERGY STAR Score              1593 non-null   float64\n",
      "dtypes: float64(5), int64(2), object(2)\n",
      "memory usage: 124.5+ KB\n"
     ]
    }
   ],
   "source": [
    "df.info()"
   ]
  },
  {
   "cell_type": "code",
   "execution_count": 56,
   "metadata": {},
   "outputs": [
    {
     "data": {
      "text/plain": [
       "Yes    1593\n",
       "Name: Benchmarking Submission, dtype: int64"
      ]
     },
     "execution_count": 56,
     "metadata": {},
     "output_type": "execute_result"
    }
   ],
   "source": [
    "df['Benchmarking Submission'].value_counts()"
   ]
  },
  {
   "cell_type": "code",
   "execution_count": 57,
   "metadata": {},
   "outputs": [],
   "source": [
    "df = df.drop(['Benchmarking Submission'], axis=1)"
   ]
  },
  {
   "cell_type": "code",
   "execution_count": 58,
   "metadata": {},
   "outputs": [],
   "source": [
    "df = df.drop(['BBL'], axis=1)"
   ]
  },
  {
   "cell_type": "code",
   "execution_count": 59,
   "metadata": {},
   "outputs": [],
   "source": [
    "df = df.drop(['Street Number'], axis = 1)"
   ]
  },
  {
   "cell_type": "code",
   "execution_count": null,
   "metadata": {},
   "outputs": [],
   "source": []
  },
  {
   "cell_type": "code",
   "execution_count": 60,
   "metadata": {},
   "outputs": [],
   "source": [
    "# Кодируем One-hot coding\n",
    "ohc_borough = pd.get_dummies(df['Borough'])\n",
    "ohc_zip = pd.get_dummies(df['Zip'])"
   ]
  },
  {
   "cell_type": "code",
   "execution_count": null,
   "metadata": {},
   "outputs": [],
   "source": []
  },
  {
   "cell_type": "code",
   "execution_count": 61,
   "metadata": {},
   "outputs": [
    {
     "data": {
      "text/plain": [
       "Borough                           0\n",
       "Zip                               0\n",
       "Entry Number                      0\n",
       "Weather Normalized Source EUI    75\n",
       "GHG                              78\n",
       "ENERGY STAR Score                 0\n",
       "dtype: int64"
      ]
     },
     "execution_count": 61,
     "metadata": {},
     "output_type": "execute_result"
    }
   ],
   "source": [
    "df.isnull().sum()"
   ]
  },
  {
   "cell_type": "code",
   "execution_count": 62,
   "metadata": {},
   "outputs": [
    {
     "name": "stdout",
     "output_type": "stream",
     "text": [
      "<class 'pandas.core.frame.DataFrame'>\n",
      "Int64Index: 1593 entries, 1 to 4076\n",
      "Data columns (total 6 columns):\n",
      " #   Column                         Non-Null Count  Dtype  \n",
      "---  ------                         --------------  -----  \n",
      " 0   Borough                        1593 non-null   object \n",
      " 1   Zip                            1593 non-null   int64  \n",
      " 2   Entry Number                   1593 non-null   float64\n",
      " 3   Weather Normalized Source EUI  1518 non-null   float64\n",
      " 4   GHG                            1515 non-null   float64\n",
      " 5   ENERGY STAR Score              1593 non-null   float64\n",
      "dtypes: float64(4), int64(1), object(1)\n",
      "memory usage: 87.1+ KB\n"
     ]
    }
   ],
   "source": [
    "df.info()"
   ]
  },
  {
   "cell_type": "code",
   "execution_count": 63,
   "metadata": {},
   "outputs": [],
   "source": [
    "df['Weather Normalized Source EUI'] = df['Weather Normalized Source EUI'].fillna(df['Weather Normalized Source EUI'].mean())\n",
    "df['GHG'] = df['GHG'].fillna(df['GHG'].mean())"
   ]
  },
  {
   "cell_type": "code",
   "execution_count": 64,
   "metadata": {},
   "outputs": [
    {
     "data": {
      "text/plain": [
       "Borough                          0\n",
       "Zip                              0\n",
       "Entry Number                     0\n",
       "Weather Normalized Source EUI    0\n",
       "GHG                              0\n",
       "ENERGY STAR Score                0\n",
       "dtype: int64"
      ]
     },
     "execution_count": 64,
     "metadata": {},
     "output_type": "execute_result"
    }
   ],
   "source": [
    "df.isnull().sum()"
   ]
  },
  {
   "cell_type": "code",
   "execution_count": 65,
   "metadata": {},
   "outputs": [],
   "source": [
    "df = df.drop(['Zip', 'Borough'], axis = 1)"
   ]
  },
  {
   "cell_type": "code",
   "execution_count": 66,
   "metadata": {},
   "outputs": [],
   "source": [
    "df = pd.concat([df, ohc_borough], axis = 1)"
   ]
  },
  {
   "cell_type": "code",
   "execution_count": null,
   "metadata": {},
   "outputs": [],
   "source": []
  },
  {
   "cell_type": "code",
   "execution_count": 67,
   "metadata": {},
   "outputs": [
    {
     "data": {
      "text/plain": [
       "(1593, 9)"
      ]
     },
     "execution_count": 67,
     "metadata": {},
     "output_type": "execute_result"
    }
   ],
   "source": [
    "df.shape"
   ]
  },
  {
   "cell_type": "code",
   "execution_count": 68,
   "metadata": {},
   "outputs": [
    {
     "data": {
      "text/html": [
       "<div>\n",
       "<style scoped>\n",
       "    .dataframe tbody tr th:only-of-type {\n",
       "        vertical-align: middle;\n",
       "    }\n",
       "\n",
       "    .dataframe tbody tr th {\n",
       "        vertical-align: top;\n",
       "    }\n",
       "\n",
       "    .dataframe thead th {\n",
       "        text-align: right;\n",
       "    }\n",
       "</style>\n",
       "<table border=\"1\" class=\"dataframe\">\n",
       "  <thead>\n",
       "    <tr style=\"text-align: right;\">\n",
       "      <th></th>\n",
       "      <th>Entry Number</th>\n",
       "      <th>Weather Normalized Source EUI</th>\n",
       "      <th>GHG</th>\n",
       "      <th>ENERGY STAR Score</th>\n",
       "      <th>BRONX</th>\n",
       "      <th>BROOKLYN</th>\n",
       "      <th>MANHATTAN</th>\n",
       "      <th>QUEENS</th>\n",
       "      <th>STATEN ISLAND</th>\n",
       "    </tr>\n",
       "  </thead>\n",
       "  <tbody>\n",
       "    <tr>\n",
       "      <th>1</th>\n",
       "      <td>1518.0</td>\n",
       "      <td>437.4</td>\n",
       "      <td>12077.53</td>\n",
       "      <td>27.0</td>\n",
       "      <td>0</td>\n",
       "      <td>0</td>\n",
       "      <td>1</td>\n",
       "      <td>0</td>\n",
       "      <td>0</td>\n",
       "    </tr>\n",
       "    <tr>\n",
       "      <th>2</th>\n",
       "      <td>312.0</td>\n",
       "      <td>278.7</td>\n",
       "      <td>4817.62</td>\n",
       "      <td>61.0</td>\n",
       "      <td>0</td>\n",
       "      <td>0</td>\n",
       "      <td>1</td>\n",
       "      <td>0</td>\n",
       "      <td>0</td>\n",
       "    </tr>\n",
       "    <tr>\n",
       "      <th>3</th>\n",
       "      <td>52.0</td>\n",
       "      <td>306.6</td>\n",
       "      <td>10190.38</td>\n",
       "      <td>41.0</td>\n",
       "      <td>0</td>\n",
       "      <td>0</td>\n",
       "      <td>1</td>\n",
       "      <td>0</td>\n",
       "      <td>0</td>\n",
       "    </tr>\n",
       "    <tr>\n",
       "      <th>5</th>\n",
       "      <td>602.0</td>\n",
       "      <td>153.8</td>\n",
       "      <td>1846.50</td>\n",
       "      <td>76.0</td>\n",
       "      <td>0</td>\n",
       "      <td>0</td>\n",
       "      <td>1</td>\n",
       "      <td>0</td>\n",
       "      <td>0</td>\n",
       "    </tr>\n",
       "    <tr>\n",
       "      <th>6</th>\n",
       "      <td>48.0</td>\n",
       "      <td>252.1</td>\n",
       "      <td>3218.11</td>\n",
       "      <td>58.0</td>\n",
       "      <td>0</td>\n",
       "      <td>0</td>\n",
       "      <td>1</td>\n",
       "      <td>0</td>\n",
       "      <td>0</td>\n",
       "    </tr>\n",
       "  </tbody>\n",
       "</table>\n",
       "</div>"
      ],
      "text/plain": [
       "   Entry Number  Weather Normalized Source EUI       GHG  ENERGY STAR Score  \\\n",
       "1        1518.0                          437.4  12077.53               27.0   \n",
       "2         312.0                          278.7   4817.62               61.0   \n",
       "3          52.0                          306.6  10190.38               41.0   \n",
       "5         602.0                          153.8   1846.50               76.0   \n",
       "6          48.0                          252.1   3218.11               58.0   \n",
       "\n",
       "   BRONX  BROOKLYN  MANHATTAN  QUEENS  STATEN ISLAND  \n",
       "1      0         0          1       0              0  \n",
       "2      0         0          1       0              0  \n",
       "3      0         0          1       0              0  \n",
       "5      0         0          1       0              0  \n",
       "6      0         0          1       0              0  "
      ]
     },
     "execution_count": 68,
     "metadata": {},
     "output_type": "execute_result"
    }
   ],
   "source": [
    "df.head()"
   ]
  },
  {
   "cell_type": "markdown",
   "metadata": {},
   "source": [
    "# Обучение"
   ]
  },
  {
   "cell_type": "code",
   "execution_count": 69,
   "metadata": {},
   "outputs": [],
   "source": [
    "from sklearn.model_selection import train_test_split\n",
    "from sklearn import linear_model, metrics\n",
    "import matplotlib.pyplot as plt"
   ]
  },
  {
   "cell_type": "code",
   "execution_count": 70,
   "metadata": {},
   "outputs": [],
   "source": [
    "# тест\n",
    "labels = df['ENERGY STAR Score']\n",
    "data = df.drop(['ENERGY STAR Score'], axis=1)"
   ]
  },
  {
   "cell_type": "code",
   "execution_count": null,
   "metadata": {},
   "outputs": [],
   "source": []
  },
  {
   "cell_type": "code",
   "execution_count": 71,
   "metadata": {},
   "outputs": [
    {
     "data": {
      "text/plain": [
       "Entry Number                     0\n",
       "Weather Normalized Source EUI    0\n",
       "GHG                              0\n",
       "BRONX                            0\n",
       "BROOKLYN                         0\n",
       "MANHATTAN                        0\n",
       "QUEENS                           0\n",
       "STATEN ISLAND                    0\n",
       "dtype: int64"
      ]
     },
     "execution_count": 71,
     "metadata": {},
     "output_type": "execute_result"
    }
   ],
   "source": [
    "data.isnull().sum()"
   ]
  },
  {
   "cell_type": "code",
   "execution_count": 72,
   "metadata": {},
   "outputs": [
    {
     "name": "stdout",
     "output_type": "stream",
     "text": [
      "(1194, 8)\n",
      "(399, 8)\n",
      "(1194,)\n",
      "(399,)\n"
     ]
    }
   ],
   "source": [
    "X_train, X_test, y_train, y_test = train_test_split(data, labels, \n",
    "                                                   test_size = 0.25,\n",
    "                                                   random_state = 42)\n",
    "\n",
    "print(X_train.shape)\n",
    "print(X_test.shape)\n",
    "print(y_train.shape)\n",
    "print(y_test.shape)"
   ]
  },
  {
   "cell_type": "code",
   "execution_count": 73,
   "metadata": {},
   "outputs": [
    {
     "data": {
      "text/plain": [
       "Text(0.5, 1.0, 'Labels for test data')"
      ]
     },
     "execution_count": 73,
     "metadata": {},
     "output_type": "execute_result"
    },
    {
     "data": {
      "image/png": "[encoded data removed]",
      "text/plain": [
       "<Figure size 1152x432 with 2 Axes>"
      ]
     },
     "metadata": {
      "needs_background": "light"
     },
     "output_type": "display_data"
    }
   ],
   "source": [
    "#Целевая функция на обучающей выборке и на отложенном тесте\n",
    "plt.figure(figsize=(16,6))\n",
    "\n",
    "plt.subplot(1,2,1)\n",
    "plt.hist(y_train)\n",
    "plt.title('Labels for train data')\n",
    "\n",
    "\n",
    "\n",
    "plt.subplot(1,2,2)\n",
    "plt.hist(y_test)\n",
    "plt.title('Labels for test data')"
   ]
  },
  {
   "cell_type": "code",
   "execution_count": null,
   "metadata": {},
   "outputs": [],
   "source": []
  },
  {
   "cell_type": "code",
   "execution_count": 74,
   "metadata": {},
   "outputs": [],
   "source": [
    "#Модель\n",
    "regressor = linear_model.LinearRegression()"
   ]
  },
  {
   "cell_type": "code",
   "execution_count": 75,
   "metadata": {},
   "outputs": [
    {
     "data": {
      "text/plain": [
       "LinearRegression()"
      ]
     },
     "execution_count": 75,
     "metadata": {},
     "output_type": "execute_result"
    }
   ],
   "source": [
    "regressor.fit(X_train, y_train)"
   ]
  },
  {
   "cell_type": "code",
   "execution_count": 76,
   "metadata": {},
   "outputs": [
    {
     "data": {
      "text/plain": [
       "756.2631272497521"
      ]
     },
     "execution_count": 76,
     "metadata": {},
     "output_type": "execute_result"
    }
   ],
   "source": [
    "# Сверим результаты предсказывания модели с реальными данными\n",
    "prediction = regressor.predict(X_test)\n",
    "metrics.mean_squared_error(y_test, prediction)"
   ]
  },
  {
   "cell_type": "code",
   "execution_count": 77,
   "metadata": {},
   "outputs": [
    {
     "name": "stdout",
     "output_type": "stream",
     "text": [
      "1709    49.0\n",
      "2336    17.0\n",
      "2938    33.0\n",
      "769     96.0\n",
      "4029    67.0\n",
      "210     94.0\n",
      "2605    82.0\n",
      "1072    78.0\n",
      "2141    57.0\n",
      "1295    29.0\n",
      "Name: ENERGY STAR Score, dtype: float64\n"
     ]
    }
   ],
   "source": [
    "print(y_test[:10])"
   ]
  },
  {
   "cell_type": "code",
   "execution_count": 78,
   "metadata": {},
   "outputs": [
    {
     "name": "stdout",
     "output_type": "stream",
     "text": [
      "[64.228789   57.34358684 58.70392324 66.0018115  57.35888436 61.34819162\n",
      " 56.73530489 65.24596704 55.04680669 62.75777565]\n"
     ]
    }
   ],
   "source": [
    "print(prediction[:10])"
   ]
  },
  {
   "cell_type": "code",
   "execution_count": null,
   "metadata": {},
   "outputs": [],
   "source": []
  }
 ],
 "metadata": {
  "kernelspec": {
   "display_name": "Python 3",
   "language": "python",
   "name": "python3"
  },
  "language_info": {
   "codemirror_mode": {
    "name": "ipython",
    "version": 3
   },
   "file_extension": ".py",
   "mimetype": "text/x-python",
   "name": "python",
   "nbconvert_exporter": "python",
   "pygments_lexer": "ipython3",
   "version": "3.8.5"
  }
 },
 "nbformat": 4,
 "nbformat_minor": 4
}
