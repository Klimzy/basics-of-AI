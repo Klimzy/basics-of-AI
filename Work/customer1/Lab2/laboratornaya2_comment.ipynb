{
 "cells": [
  {
   "cell_type": "markdown",
   "metadata": {},
   "source": [
    "# Лабораторная работа №2"
   ]
  },
  {
   "cell_type": "code",
   "execution_count": 2,
   "metadata": {},
   "outputs": [],
   "source": [
    "# вариант 6 \n",
    "# 2014 MSE D O I H G E"
   ]
  },
  {
   "cell_type": "code",
   "execution_count": 3,
   "metadata": {},
   "outputs": [],
   "source": [
    "import pandas as pd # Импорт библиотеки пандас для работы с таблицами\n",
    "import matplotlib.pyplot as plt # Импорт библиотеки matplotlib для работы с графиками"
   ]
  },
  {
   "cell_type": "code",
   "execution_count": null,
   "metadata": {},
   "outputs": [],
   "source": []
  },
  {
   "cell_type": "code",
   "execution_count": 4,
   "metadata": {},
   "outputs": [],
   "source": [
    "# Чтение таблицы из эксель файла в датафрейм \n",
    "df0 = pd.read_excel('2014.xlsx', sheet_name='2013 NYC Benchmark Data')"
   ]
  },
  {
   "cell_type": "code",
   "execution_count": 5,
   "metadata": {},
   "outputs": [
    {
     "data": {
      "text/html": [
       "<div>\n",
       "<style scoped>\n",
       "    .dataframe tbody tr th:only-of-type {\n",
       "        vertical-align: middle;\n",
       "    }\n",
       "\n",
       "    .dataframe tbody tr th {\n",
       "        vertical-align: top;\n",
       "    }\n",
       "\n",
       "    .dataframe thead th {\n",
       "        text-align: right;\n",
       "    }\n",
       "</style>\n",
       "<table border=\"1\" class=\"dataframe\">\n",
       "  <thead>\n",
       "    <tr style=\"text-align: right;\">\n",
       "      <th></th>\n",
       "      <th>Record Number</th>\n",
       "      <th>NYC Borough, Block, and Lot (BBL)</th>\n",
       "      <th>Co-reported BBL Status</th>\n",
       "      <th>BBLs Co-reported</th>\n",
       "      <th>Reported NYC Building Identificaiton Numbers (BINs)</th>\n",
       "      <th>Street Number</th>\n",
       "      <th>Street Name</th>\n",
       "      <th>Borough</th>\n",
       "      <th>Zip Code</th>\n",
       "      <th>DOF Benchmarking Submission Status</th>\n",
       "      <th>...</th>\n",
       "      <th>Automatic Water Benchmarking Eligible</th>\n",
       "      <th>Reported Water Method</th>\n",
       "      <th>ENERGY STAR Score</th>\n",
       "      <th>Total GHG Emissions</th>\n",
       "      <th>Direct GHG Emissions\\n(MtCO2e)</th>\n",
       "      <th>Indirect GHG Emissions\\n(MtCO2e)</th>\n",
       "      <th>Reported Property Floor Area (Building(s)) (ft²)</th>\n",
       "      <th>DOF Property Floor Area (Buildngs and Parking)\\n(ft2)</th>\n",
       "      <th>Primary Property Type - Self Selected</th>\n",
       "      <th>DOF Number of Buildings</th>\n",
       "    </tr>\n",
       "  </thead>\n",
       "  <tbody>\n",
       "    <tr>\n",
       "      <th>0</th>\n",
       "      <td>16099</td>\n",
       "      <td>4.084010e+09</td>\n",
       "      <td>NaN</td>\n",
       "      <td>4084010096</td>\n",
       "      <td>4453435</td>\n",
       "      <td>NaN</td>\n",
       "      <td>NaN</td>\n",
       "      <td>Queens</td>\n",
       "      <td>NaN</td>\n",
       "      <td>Not on Covered Buildings List</td>\n",
       "      <td>...</td>\n",
       "      <td>NaN</td>\n",
       "      <td>None</td>\n",
       "      <td>Not Available</td>\n",
       "      <td>966.7</td>\n",
       "      <td>806.6</td>\n",
       "      <td>160.1</td>\n",
       "      <td>91968</td>\n",
       "      <td>NaN</td>\n",
       "      <td>Multifamily Housing</td>\n",
       "      <td>NaN</td>\n",
       "    </tr>\n",
       "    <tr>\n",
       "      <th>1</th>\n",
       "      <td>500</td>\n",
       "      <td>1.005050e+09</td>\n",
       "      <td>NaN</td>\n",
       "      <td>1005050001</td>\n",
       "      <td>1007817</td>\n",
       "      <td>150</td>\n",
       "      <td>VARICK STREET</td>\n",
       "      <td>Manhattan</td>\n",
       "      <td>10013.0</td>\n",
       "      <td>Filed</td>\n",
       "      <td>...</td>\n",
       "      <td>Yes</td>\n",
       "      <td>ABS</td>\n",
       "      <td>44</td>\n",
       "      <td>1392.3</td>\n",
       "      <td>337.9</td>\n",
       "      <td>1054.4</td>\n",
       "      <td>235370</td>\n",
       "      <td>214110.0</td>\n",
       "      <td>Distribution Center</td>\n",
       "      <td>1.0</td>\n",
       "    </tr>\n",
       "    <tr>\n",
       "      <th>2</th>\n",
       "      <td>5017</td>\n",
       "      <td>1.021420e+09</td>\n",
       "      <td>NaN</td>\n",
       "      <td>1021420100</td>\n",
       "      <td>1063495</td>\n",
       "      <td>4079</td>\n",
       "      <td>BROADWAY</td>\n",
       "      <td>Manhattan</td>\n",
       "      <td>10032.0</td>\n",
       "      <td>Filed</td>\n",
       "      <td>...</td>\n",
       "      <td>No</td>\n",
       "      <td>None</td>\n",
       "      <td>Not Available</td>\n",
       "      <td>673.6</td>\n",
       "      <td>541.8</td>\n",
       "      <td>131.8</td>\n",
       "      <td>64806</td>\n",
       "      <td>64816.0</td>\n",
       "      <td>Multifamily Housing</td>\n",
       "      <td>1.0</td>\n",
       "    </tr>\n",
       "    <tr>\n",
       "      <th>3</th>\n",
       "      <td>5116</td>\n",
       "      <td>1.021750e+09</td>\n",
       "      <td>NaN</td>\n",
       "      <td>1021750080</td>\n",
       "      <td>1064235</td>\n",
       "      <td>60</td>\n",
       "      <td>SHERMAN AVENUE</td>\n",
       "      <td>Manhattan</td>\n",
       "      <td>10040.0</td>\n",
       "      <td>Filed</td>\n",
       "      <td>...</td>\n",
       "      <td>No</td>\n",
       "      <td>None</td>\n",
       "      <td>Not Available</td>\n",
       "      <td>485</td>\n",
       "      <td>403</td>\n",
       "      <td>82</td>\n",
       "      <td>62839</td>\n",
       "      <td>62847.0</td>\n",
       "      <td>Multifamily Housing</td>\n",
       "      <td>1.0</td>\n",
       "    </tr>\n",
       "    <tr>\n",
       "      <th>4</th>\n",
       "      <td>363</td>\n",
       "      <td>1.003360e+09</td>\n",
       "      <td>NaN</td>\n",
       "      <td>1003360005</td>\n",
       "      <td>1088884</td>\n",
       "      <td>16</td>\n",
       "      <td>BIALYSTOKER PLACE</td>\n",
       "      <td>Manhattan</td>\n",
       "      <td>10002.0</td>\n",
       "      <td>Filed</td>\n",
       "      <td>...</td>\n",
       "      <td>No</td>\n",
       "      <td>None</td>\n",
       "      <td>Not Available</td>\n",
       "      <td>435.5</td>\n",
       "      <td>290</td>\n",
       "      <td>145.5</td>\n",
       "      <td>98000</td>\n",
       "      <td>98052.0</td>\n",
       "      <td>Multifamily Housing</td>\n",
       "      <td>1.0</td>\n",
       "    </tr>\n",
       "  </tbody>\n",
       "</table>\n",
       "<p>5 rows × 25 columns</p>\n",
       "</div>"
      ],
      "text/plain": [
       "   Record Number  NYC Borough, Block, and Lot (BBL) Co-reported BBL Status  \\\n",
       "0          16099                       4.084010e+09                    NaN   \n",
       "1            500                       1.005050e+09                    NaN   \n",
       "2           5017                       1.021420e+09                    NaN   \n",
       "3           5116                       1.021750e+09                    NaN   \n",
       "4            363                       1.003360e+09                    NaN   \n",
       "\n",
       "  BBLs Co-reported Reported NYC Building Identificaiton Numbers (BINs)  \\\n",
       "0       4084010096                                            4453435    \n",
       "1       1005050001                                            1007817    \n",
       "2       1021420100                                            1063495    \n",
       "3       1021750080                                            1064235    \n",
       "4       1003360005                                            1088884    \n",
       "\n",
       "  Street Number        Street Name    Borough  Zip Code  \\\n",
       "0           NaN                NaN     Queens       NaN   \n",
       "1           150      VARICK STREET  Manhattan   10013.0   \n",
       "2          4079           BROADWAY  Manhattan   10032.0   \n",
       "3            60     SHERMAN AVENUE  Manhattan   10040.0   \n",
       "4            16  BIALYSTOKER PLACE  Manhattan   10002.0   \n",
       "\n",
       "  DOF Benchmarking Submission Status  ...  \\\n",
       "0      Not on Covered Buildings List  ...   \n",
       "1                              Filed  ...   \n",
       "2                              Filed  ...   \n",
       "3                              Filed  ...   \n",
       "4                              Filed  ...   \n",
       "\n",
       "  Automatic Water Benchmarking Eligible Reported Water Method  \\\n",
       "0                                   NaN                  None   \n",
       "1                                   Yes                   ABS   \n",
       "2                                    No                  None   \n",
       "3                                    No                  None   \n",
       "4                                    No                  None   \n",
       "\n",
       "  ENERGY STAR Score Total GHG Emissions Direct GHG Emissions\\n(MtCO2e)  \\\n",
       "0     Not Available               966.7                          806.6   \n",
       "1                44              1392.3                          337.9   \n",
       "2     Not Available               673.6                          541.8   \n",
       "3     Not Available                 485                            403   \n",
       "4     Not Available               435.5                            290   \n",
       "\n",
       "  Indirect GHG Emissions\\n(MtCO2e)  \\\n",
       "0                            160.1   \n",
       "1                           1054.4   \n",
       "2                            131.8   \n",
       "3                               82   \n",
       "4                            145.5   \n",
       "\n",
       "  Reported Property Floor Area (Building(s)) (ft²)  \\\n",
       "0                                            91968   \n",
       "1                                           235370   \n",
       "2                                            64806   \n",
       "3                                            62839   \n",
       "4                                            98000   \n",
       "\n",
       "  DOF Property Floor Area (Buildngs and Parking)\\n(ft2)  \\\n",
       "0                                                NaN      \n",
       "1                                           214110.0      \n",
       "2                                            64816.0      \n",
       "3                                            62847.0      \n",
       "4                                            98052.0      \n",
       "\n",
       "  Primary Property Type - Self Selected DOF Number of Buildings  \n",
       "0                   Multifamily Housing                     NaN  \n",
       "1                   Distribution Center                     1.0  \n",
       "2                   Multifamily Housing                     1.0  \n",
       "3                   Multifamily Housing                     1.0  \n",
       "4                   Multifamily Housing                     1.0  \n",
       "\n",
       "[5 rows x 25 columns]"
      ]
     },
     "execution_count": 5,
     "metadata": {},
     "output_type": "execute_result"
    }
   ],
   "source": [
    "df0.head() # Смотрим первые пять строк датафрейма"
   ]
  },
  {
   "cell_type": "code",
   "execution_count": null,
   "metadata": {},
   "outputs": [],
   "source": []
  },
  {
   "cell_type": "code",
   "execution_count": 6,
   "metadata": {},
   "outputs": [],
   "source": [
    "# Cчитываем в новый датафрейм данные, которые нам нужны по варианту (и дополнительно, более нормальные)"
   ]
  },
  {
   "cell_type": "code",
   "execution_count": 7,
   "metadata": {},
   "outputs": [],
   "source": [
    "df = df0[['Street Name', 'Borough', 'Zip Code','Municipally Supplied Potable Water - Indoor Intensity',\n",
    "          'Total GHG Emissions', 'Weather Normalized Site EUI', 'ENERGY STAR Score']]"
   ]
  },
  {
   "cell_type": "code",
   "execution_count": 8,
   "metadata": {},
   "outputs": [
    {
     "data": {
      "text/html": [
       "<div>\n",
       "<style scoped>\n",
       "    .dataframe tbody tr th:only-of-type {\n",
       "        vertical-align: middle;\n",
       "    }\n",
       "\n",
       "    .dataframe tbody tr th {\n",
       "        vertical-align: top;\n",
       "    }\n",
       "\n",
       "    .dataframe thead th {\n",
       "        text-align: right;\n",
       "    }\n",
       "</style>\n",
       "<table border=\"1\" class=\"dataframe\">\n",
       "  <thead>\n",
       "    <tr style=\"text-align: right;\">\n",
       "      <th></th>\n",
       "      <th>Street Name</th>\n",
       "      <th>Borough</th>\n",
       "      <th>Zip Code</th>\n",
       "      <th>Municipally Supplied Potable Water - Indoor Intensity</th>\n",
       "      <th>Total GHG Emissions</th>\n",
       "      <th>Weather Normalized Site EUI</th>\n",
       "      <th>ENERGY STAR Score</th>\n",
       "    </tr>\n",
       "  </thead>\n",
       "  <tbody>\n",
       "    <tr>\n",
       "      <th>0</th>\n",
       "      <td>NaN</td>\n",
       "      <td>Queens</td>\n",
       "      <td>NaN</td>\n",
       "      <td>Not Available</td>\n",
       "      <td>966.7</td>\n",
       "      <td>178.7</td>\n",
       "      <td>Not Available</td>\n",
       "    </tr>\n",
       "    <tr>\n",
       "      <th>1</th>\n",
       "      <td>VARICK STREET</td>\n",
       "      <td>Manhattan</td>\n",
       "      <td>10013.0</td>\n",
       "      <td>8.71</td>\n",
       "      <td>1392.3</td>\n",
       "      <td>81.9</td>\n",
       "      <td>44</td>\n",
       "    </tr>\n",
       "    <tr>\n",
       "      <th>2</th>\n",
       "      <td>BROADWAY</td>\n",
       "      <td>Manhattan</td>\n",
       "      <td>10032.0</td>\n",
       "      <td>Not Available</td>\n",
       "      <td>673.6</td>\n",
       "      <td>137.5</td>\n",
       "      <td>Not Available</td>\n",
       "    </tr>\n",
       "    <tr>\n",
       "      <th>3</th>\n",
       "      <td>SHERMAN AVENUE</td>\n",
       "      <td>Manhattan</td>\n",
       "      <td>10040.0</td>\n",
       "      <td>Not Available</td>\n",
       "      <td>485</td>\n",
       "      <td>103</td>\n",
       "      <td>Not Available</td>\n",
       "    </tr>\n",
       "    <tr>\n",
       "      <th>4</th>\n",
       "      <td>BIALYSTOKER PLACE</td>\n",
       "      <td>Manhattan</td>\n",
       "      <td>10002.0</td>\n",
       "      <td>Not Available</td>\n",
       "      <td>435.5</td>\n",
       "      <td>74</td>\n",
       "      <td>Not Available</td>\n",
       "    </tr>\n",
       "  </tbody>\n",
       "</table>\n",
       "</div>"
      ],
      "text/plain": [
       "         Street Name    Borough  Zip Code  \\\n",
       "0                NaN     Queens       NaN   \n",
       "1      VARICK STREET  Manhattan   10013.0   \n",
       "2           BROADWAY  Manhattan   10032.0   \n",
       "3     SHERMAN AVENUE  Manhattan   10040.0   \n",
       "4  BIALYSTOKER PLACE  Manhattan   10002.0   \n",
       "\n",
       "  Municipally Supplied Potable Water - Indoor Intensity Total GHG Emissions  \\\n",
       "0                                      Not Available                  966.7   \n",
       "1                                               8.71                 1392.3   \n",
       "2                                      Not Available                  673.6   \n",
       "3                                      Not Available                    485   \n",
       "4                                      Not Available                  435.5   \n",
       "\n",
       "  Weather Normalized Site EUI ENERGY STAR Score  \n",
       "0                       178.7     Not Available  \n",
       "1                        81.9                44  \n",
       "2                       137.5     Not Available  \n",
       "3                         103     Not Available  \n",
       "4                          74     Not Available  "
      ]
     },
     "execution_count": 8,
     "metadata": {},
     "output_type": "execute_result"
    }
   ],
   "source": [
    "df.head()"
   ]
  },
  {
   "cell_type": "code",
   "execution_count": null,
   "metadata": {},
   "outputs": [],
   "source": []
  },
  {
   "cell_type": "code",
   "execution_count": 9,
   "metadata": {},
   "outputs": [
    {
     "name": "stdout",
     "output_type": "stream",
     "text": [
      "<class 'pandas.core.frame.DataFrame'>\n",
      "RangeIndex: 16170 entries, 0 to 16169\n",
      "Data columns (total 7 columns):\n",
      " #   Column                                                 Non-Null Count  Dtype  \n",
      "---  ------                                                 --------------  -----  \n",
      " 0   Street Name                                            14458 non-null  object \n",
      " 1   Borough                                                16170 non-null  object \n",
      " 2   Zip Code                                               14432 non-null  float64\n",
      " 3   Municipally Supplied Potable Water - Indoor Intensity  13790 non-null  object \n",
      " 4   Total GHG Emissions                                    12380 non-null  object \n",
      " 5   Weather Normalized Site EUI                            13790 non-null  object \n",
      " 6   ENERGY STAR Score                                      13790 non-null  object \n",
      "dtypes: float64(1), object(6)\n",
      "memory usage: 884.4+ KB\n"
     ]
    }
   ],
   "source": [
    "df.info()"
   ]
  },
  {
   "cell_type": "code",
   "execution_count": 10,
   "metadata": {},
   "outputs": [
    {
     "name": "stderr",
     "output_type": "stream",
     "text": [
      "<ipython-input-10-d396e0947ee2>:2: SettingWithCopyWarning: \n",
      "A value is trying to be set on a copy of a slice from a DataFrame.\n",
      "Try using .loc[row_indexer,col_indexer] = value instead\n",
      "\n",
      "See the caveats in the documentation: https://pandas.pydata.org/pandas-docs/stable/user_guide/indexing.html#returning-a-view-versus-a-copy\n",
      "  df['ENERGY STAR Score']  = pd.to_numeric(df['ENERGY STAR Score'], errors='coerce')\n"
     ]
    }
   ],
   "source": [
    "# приводим каждое значение в столбце ENERGY STAR Score к числовому виду. Если не получается, то заменяем NaN\n",
    "df['ENERGY STAR Score']  = pd.to_numeric(df['ENERGY STAR Score'], errors='coerce')\n",
    "df = df.dropna(subset=['ENERGY STAR Score']) # Удаляем наны в целевой переменной"
   ]
  },
  {
   "cell_type": "code",
   "execution_count": 11,
   "metadata": {},
   "outputs": [
    {
     "name": "stdout",
     "output_type": "stream",
     "text": [
      "<class 'pandas.core.frame.DataFrame'>\n",
      "Int64Index: 2032 entries, 1 to 13783\n",
      "Data columns (total 7 columns):\n",
      " #   Column                                                 Non-Null Count  Dtype  \n",
      "---  ------                                                 --------------  -----  \n",
      " 0   Street Name                                            1780 non-null   object \n",
      " 1   Borough                                                2032 non-null   object \n",
      " 2   Zip Code                                               1780 non-null   float64\n",
      " 3   Municipally Supplied Potable Water - Indoor Intensity  2032 non-null   object \n",
      " 4   Total GHG Emissions                                    2029 non-null   object \n",
      " 5   Weather Normalized Site EUI                            2032 non-null   object \n",
      " 6   ENERGY STAR Score                                      2032 non-null   float64\n",
      "dtypes: float64(2), object(5)\n",
      "memory usage: 127.0+ KB\n"
     ]
    }
   ],
   "source": [
    "df.info()"
   ]
  },
  {
   "cell_type": "code",
   "execution_count": 12,
   "metadata": {},
   "outputs": [],
   "source": [
    "# приводим каждое значение в данных столбцах к числовому виду. Если не получается, то заменяем NaN\n",
    "\n",
    "df['Municipally Supplied Potable Water - Indoor Intensity']  = pd.to_numeric(df['Municipally Supplied Potable Water - Indoor Intensity'], errors='coerce')\n",
    "df['Total GHG Emissions']  = pd.to_numeric(df['Total GHG Emissions'], errors='coerce')\n",
    "df['Weather Normalized Site EUI'] = pd.to_numeric(df['Weather Normalized Site EUI'], errors='coerce')"
   ]
  },
  {
   "cell_type": "code",
   "execution_count": 13,
   "metadata": {},
   "outputs": [
    {
     "data": {
      "text/plain": [
       "Street Name                                               252\n",
       "Borough                                                     0\n",
       "Zip Code                                                  252\n",
       "Municipally Supplied Potable Water - Indoor Intensity    1364\n",
       "Total GHG Emissions                                         3\n",
       "Weather Normalized Site EUI                               433\n",
       "ENERGY STAR Score                                           0\n",
       "dtype: int64"
      ]
     },
     "execution_count": 13,
     "metadata": {},
     "output_type": "execute_result"
    }
   ],
   "source": [
    "# смотрим кол-во NaN в каждом столбце\n",
    "df.isna().sum()"
   ]
  },
  {
   "cell_type": "code",
   "execution_count": null,
   "metadata": {},
   "outputs": [],
   "source": []
  },
  {
   "cell_type": "code",
   "execution_count": 14,
   "metadata": {},
   "outputs": [],
   "source": [
    "# удаляем данный столбец так-как в нем слишком много NaN\n",
    "df = df.drop('Municipally Supplied Potable Water - Indoor Intensity', axis = 1)"
   ]
  },
  {
   "cell_type": "code",
   "execution_count": 15,
   "metadata": {},
   "outputs": [],
   "source": [
    "# заполняем пропущенные значения в столбце ГХГ средним значением для столбца ГХГ\n",
    "# и так для каждого столбца\n",
    "\n",
    "\n",
    "df['Total GHG Emissions'].fillna(df['Total GHG Emissions'].mean(), inplace=True)\n",
    "df['Weather Normalized Site EUI'].fillna(df['Weather Normalized Site EUI'].mean(), inplace=True)\n",
    "df['Zip Code'].fillna(df['Weather Normalized Site EUI'].mean(), inplace = True)"
   ]
  },
  {
   "cell_type": "code",
   "execution_count": null,
   "metadata": {},
   "outputs": [],
   "source": []
  },
  {
   "cell_type": "code",
   "execution_count": 16,
   "metadata": {},
   "outputs": [
    {
     "data": {
      "text/plain": [
       "BROADWAY              111\n",
       "5 AVENUE               91\n",
       "MADISON AVENUE         62\n",
       "AVENUE OF THE AMER     34\n",
       "PARK AVENUE            33\n",
       "                     ... \n",
       "NOSTRAND AVENUE         1\n",
       "EAST   18 STREET        1\n",
       "GERARD AVENUE           1\n",
       "WORTMAN AVENUE          1\n",
       "TARGEE STREET           1\n",
       "Name: Street Name, Length: 604, dtype: int64"
      ]
     },
     "execution_count": 16,
     "metadata": {},
     "output_type": "execute_result"
    }
   ],
   "source": [
    "# Считаем кол-во встречающихся значений в столбце Street Name\n",
    "df['Street Name'].value_counts() "
   ]
  },
  {
   "cell_type": "code",
   "execution_count": null,
   "metadata": {},
   "outputs": [],
   "source": []
  },
  {
   "cell_type": "code",
   "execution_count": 17,
   "metadata": {},
   "outputs": [
    {
     "data": {
      "text/plain": [
       "18378.408443    252\n",
       "10018.000000    140\n",
       "10001.000000    130\n",
       "10022.000000     99\n",
       "10016.000000     94\n",
       "               ... \n",
       "10472.000000      1\n",
       "11420.000000      1\n",
       "11242.000000      1\n",
       "10459.000000      1\n",
       "10103.000000      1\n",
       "Name: Zip Code, Length: 159, dtype: int64"
      ]
     },
     "execution_count": 17,
     "metadata": {},
     "output_type": "execute_result"
    }
   ],
   "source": [
    "# Считаем кол-во встречающихся значений в столбце Zip Code\n",
    "df['Zip Code'].value_counts()"
   ]
  },
  {
   "cell_type": "code",
   "execution_count": null,
   "metadata": {},
   "outputs": [],
   "source": []
  },
  {
   "cell_type": "code",
   "execution_count": 18,
   "metadata": {},
   "outputs": [],
   "source": [
    "# Кодируем столбец районов и зип-кодов через One-hotcoding\n",
    "ohc_borough = pd.get_dummies(df['Borough']) \n",
    "ohc_zip = pd.get_dummies(df['Zip Code'])"
   ]
  },
  {
   "cell_type": "code",
   "execution_count": 19,
   "metadata": {},
   "outputs": [],
   "source": [
    "# Выкидываем стрит намбер т.к кол-во уникальных значений слишком много и из-за этого их нельзя кодировать OHE\n",
    "# Из-за этого выкидываем и зип код. С ним качество предсказания падает оч сильно\n",
    "\n",
    "df = df.drop(['Borough', 'Zip Code', 'Street Name'], axis=1)"
   ]
  },
  {
   "cell_type": "code",
   "execution_count": 20,
   "metadata": {},
   "outputs": [],
   "source": [
    "# объединяем наш датафрейм с датафреймом OHC для районов\n",
    "df = pd.concat([df, ohc_borough], axis= 1)"
   ]
  },
  {
   "cell_type": "code",
   "execution_count": null,
   "metadata": {},
   "outputs": [],
   "source": []
  },
  {
   "cell_type": "markdown",
   "metadata": {},
   "source": [
    "# Обучение"
   ]
  },
  {
   "cell_type": "code",
   "execution_count": 21,
   "metadata": {},
   "outputs": [],
   "source": [
    "from sklearn.model_selection import train_test_split\n",
    "from sklearn import linear_model, metrics"
   ]
  },
  {
   "cell_type": "code",
   "execution_count": 22,
   "metadata": {},
   "outputs": [],
   "source": [
    "labels = df['ENERGY STAR Score']\n",
    "df =df.drop(['ENERGY STAR Score'], axis = 1)"
   ]
  },
  {
   "cell_type": "code",
   "execution_count": 23,
   "metadata": {},
   "outputs": [],
   "source": [
    "X_train, X_test, y_train, y_test = train_test_split(df, labels, \n",
    "                                                    test_size = 0.3,\n",
    "                                                   random_state = 42)"
   ]
  },
  {
   "cell_type": "code",
   "execution_count": 24,
   "metadata": {},
   "outputs": [
    {
     "name": "stdout",
     "output_type": "stream",
     "text": [
      "(1422, 7)\n",
      "(610, 7)\n",
      "(1422,)\n",
      "(610,)\n"
     ]
    }
   ],
   "source": [
    "print(X_train.shape)\n",
    "print(X_test.shape)\n",
    "print(y_train.shape)\n",
    "print(y_test.shape)"
   ]
  },
  {
   "cell_type": "code",
   "execution_count": 25,
   "metadata": {},
   "outputs": [
    {
     "data": {
      "text/plain": [
       "Text(0.5, 1.0, 'Test')"
      ]
     },
     "execution_count": 25,
     "metadata": {},
     "output_type": "execute_result"
    },
    {
     "data": {
      "image/png": "[encoded data removed]",
      "text/plain": [
       "<Figure size 936x648 with 2 Axes>"
      ]
     },
     "metadata": {
      "needs_background": "light"
     },
     "output_type": "display_data"
    }
   ],
   "source": [
    "#Целевой признак на обучающей выборке и на отложенном тесте\n",
    "\n",
    "# ГРАФИКИ ДОЛЖНЫ БЫТЬ ПОХОЖИ ДРУГ НА ДРУГА\n",
    "# На них изображено по оси Х распределение Energy Star Score, разбитое на диапазоны [0, 10], [11, 20,] ... [91, 100]\n",
    "# По оси Y - кол-во зданий с такими Energy Srar score\n",
    "\n",
    "plt.figure(figsize=(13, 9))\n",
    "\n",
    "\n",
    "plt.subplot(2,2,1)\n",
    "plt.hist(y_train)\n",
    "plt.title('Train')\n",
    "\n",
    "plt.subplot(2,2,2)\n",
    "plt.hist(y_test)\n",
    "plt.title('Test')"
   ]
  },
  {
   "cell_type": "code",
   "execution_count": null,
   "metadata": {},
   "outputs": [],
   "source": []
  },
  {
   "cell_type": "code",
   "execution_count": 26,
   "metadata": {},
   "outputs": [
    {
     "data": {
      "text/plain": [
       "LinearRegression()"
      ]
     },
     "execution_count": 26,
     "metadata": {},
     "output_type": "execute_result"
    }
   ],
   "source": [
    "# Model\n",
    "regressor = linear_model.LinearRegression()\n",
    "regressor.fit(X_train, y_train)"
   ]
  },
  {
   "cell_type": "code",
   "execution_count": 29,
   "metadata": {},
   "outputs": [
    {
     "data": {
      "text/plain": [
       "850.5229335494852"
      ]
     },
     "execution_count": 29,
     "metadata": {},
     "output_type": "execute_result"
    }
   ],
   "source": [
    "# Оценим ошибку с помощью MSE\n",
    "# Это нормально, что она такая большая. Т.к квадратичный критерий увеличивает значение \"больших\" ошибок и \n",
    "# уменьшает значения маленьких\n",
    "prediction = regressor.predict(X_test)\n",
    "metrics.mean_squared_error(y_test, prediction)"
   ]
  },
  {
   "cell_type": "code",
   "execution_count": 30,
   "metadata": {},
   "outputs": [
    {
     "name": "stdout",
     "output_type": "stream",
     "text": [
      "1868     43.0\n",
      "3845     77.0\n",
      "1325     43.0\n",
      "1453     44.0\n",
      "13497    11.0\n",
      "3074     92.0\n",
      "1698     48.0\n",
      "1039     65.0\n",
      "5795     91.0\n",
      "8052     84.0\n",
      "Name: ENERGY STAR Score, dtype: float64\n"
     ]
    }
   ],
   "source": [
    "print(y_test[:10])"
   ]
  },
  {
   "cell_type": "code",
   "execution_count": 31,
   "metadata": {},
   "outputs": [
    {
     "name": "stdout",
     "output_type": "stream",
     "text": [
      "[64.03760184 64.02365942 64.02263812 64.02362907 64.02363318 64.02359019\n",
      " 64.03746503 64.02357221 55.18183724 55.59578185]\n"
     ]
    }
   ],
   "source": [
    "print(prediction[:10])"
   ]
  },
  {
   "cell_type": "code",
   "execution_count": null,
   "metadata": {},
   "outputs": [],
   "source": []
  }
 ],
 "metadata": {
  "kernelspec": {
   "display_name": "Python 3",
   "language": "python",
   "name": "python3"
  },
  "language_info": {
   "codemirror_mode": {
    "name": "ipython",
    "version": 3
   },
   "file_extension": ".py",
   "mimetype": "text/x-python",
   "name": "python",
   "nbconvert_exporter": "python",
   "pygments_lexer": "ipython3",
   "version": "3.8.5"
  }
 },
 "nbformat": 4,
 "nbformat_minor": 4
}
