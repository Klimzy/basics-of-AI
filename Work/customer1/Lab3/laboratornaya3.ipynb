{
 "cells": [
  {
   "cell_type": "markdown",
   "metadata": {},
   "source": [
    "# Лабораторная работа №3"
   ]
  },
  {
   "cell_type": "code",
   "execution_count": 2,
   "metadata": {},
   "outputs": [],
   "source": [
    "# 2014 MSE D O I H G E"
   ]
  },
  {
   "cell_type": "code",
   "execution_count": 3,
   "metadata": {},
   "outputs": [],
   "source": [
    "import pandas as pd \n",
    "import matplotlib.pyplot as plt "
   ]
  },
  {
   "cell_type": "code",
   "execution_count": 4,
   "metadata": {},
   "outputs": [],
   "source": [
    "\n",
    "df0 = pd.read_excel('2014.xlsx', sheet_name='2013 NYC Benchmark Data')"
   ]
  },
  {
   "cell_type": "code",
   "execution_count": 5,
   "metadata": {},
   "outputs": [
    {
     "data": {
      "text/html": [
       "<div>\n",
       "<style scoped>\n",
       "    .dataframe tbody tr th:only-of-type {\n",
       "        vertical-align: middle;\n",
       "    }\n",
       "\n",
       "    .dataframe tbody tr th {\n",
       "        vertical-align: top;\n",
       "    }\n",
       "\n",
       "    .dataframe thead th {\n",
       "        text-align: right;\n",
       "    }\n",
       "</style>\n",
       "<table border=\"1\" class=\"dataframe\">\n",
       "  <thead>\n",
       "    <tr style=\"text-align: right;\">\n",
       "      <th></th>\n",
       "      <th>Record Number</th>\n",
       "      <th>NYC Borough, Block, and Lot (BBL)</th>\n",
       "      <th>Co-reported BBL Status</th>\n",
       "      <th>BBLs Co-reported</th>\n",
       "      <th>Reported NYC Building Identificaiton Numbers (BINs)</th>\n",
       "      <th>Street Number</th>\n",
       "      <th>Street Name</th>\n",
       "      <th>Borough</th>\n",
       "      <th>Zip Code</th>\n",
       "      <th>DOF Benchmarking Submission Status</th>\n",
       "      <th>...</th>\n",
       "      <th>Automatic Water Benchmarking Eligible</th>\n",
       "      <th>Reported Water Method</th>\n",
       "      <th>ENERGY STAR Score</th>\n",
       "      <th>Total GHG Emissions</th>\n",
       "      <th>Direct GHG Emissions\\n(MtCO2e)</th>\n",
       "      <th>Indirect GHG Emissions\\n(MtCO2e)</th>\n",
       "      <th>Reported Property Floor Area (Building(s)) (ft²)</th>\n",
       "      <th>DOF Property Floor Area (Buildngs and Parking)\\n(ft2)</th>\n",
       "      <th>Primary Property Type - Self Selected</th>\n",
       "      <th>DOF Number of Buildings</th>\n",
       "    </tr>\n",
       "  </thead>\n",
       "  <tbody>\n",
       "    <tr>\n",
       "      <th>0</th>\n",
       "      <td>16099</td>\n",
       "      <td>4.084010e+09</td>\n",
       "      <td>NaN</td>\n",
       "      <td>4084010096</td>\n",
       "      <td>4453435</td>\n",
       "      <td>NaN</td>\n",
       "      <td>NaN</td>\n",
       "      <td>Queens</td>\n",
       "      <td>NaN</td>\n",
       "      <td>Not on Covered Buildings List</td>\n",
       "      <td>...</td>\n",
       "      <td>NaN</td>\n",
       "      <td>None</td>\n",
       "      <td>Not Available</td>\n",
       "      <td>966.7</td>\n",
       "      <td>806.6</td>\n",
       "      <td>160.1</td>\n",
       "      <td>91968</td>\n",
       "      <td>NaN</td>\n",
       "      <td>Multifamily Housing</td>\n",
       "      <td>NaN</td>\n",
       "    </tr>\n",
       "    <tr>\n",
       "      <th>1</th>\n",
       "      <td>500</td>\n",
       "      <td>1.005050e+09</td>\n",
       "      <td>NaN</td>\n",
       "      <td>1005050001</td>\n",
       "      <td>1007817</td>\n",
       "      <td>150</td>\n",
       "      <td>VARICK STREET</td>\n",
       "      <td>Manhattan</td>\n",
       "      <td>10013.0</td>\n",
       "      <td>Filed</td>\n",
       "      <td>...</td>\n",
       "      <td>Yes</td>\n",
       "      <td>ABS</td>\n",
       "      <td>44</td>\n",
       "      <td>1392.3</td>\n",
       "      <td>337.9</td>\n",
       "      <td>1054.4</td>\n",
       "      <td>235370</td>\n",
       "      <td>214110.0</td>\n",
       "      <td>Distribution Center</td>\n",
       "      <td>1.0</td>\n",
       "    </tr>\n",
       "    <tr>\n",
       "      <th>2</th>\n",
       "      <td>5017</td>\n",
       "      <td>1.021420e+09</td>\n",
       "      <td>NaN</td>\n",
       "      <td>1021420100</td>\n",
       "      <td>1063495</td>\n",
       "      <td>4079</td>\n",
       "      <td>BROADWAY</td>\n",
       "      <td>Manhattan</td>\n",
       "      <td>10032.0</td>\n",
       "      <td>Filed</td>\n",
       "      <td>...</td>\n",
       "      <td>No</td>\n",
       "      <td>None</td>\n",
       "      <td>Not Available</td>\n",
       "      <td>673.6</td>\n",
       "      <td>541.8</td>\n",
       "      <td>131.8</td>\n",
       "      <td>64806</td>\n",
       "      <td>64816.0</td>\n",
       "      <td>Multifamily Housing</td>\n",
       "      <td>1.0</td>\n",
       "    </tr>\n",
       "    <tr>\n",
       "      <th>3</th>\n",
       "      <td>5116</td>\n",
       "      <td>1.021750e+09</td>\n",
       "      <td>NaN</td>\n",
       "      <td>1021750080</td>\n",
       "      <td>1064235</td>\n",
       "      <td>60</td>\n",
       "      <td>SHERMAN AVENUE</td>\n",
       "      <td>Manhattan</td>\n",
       "      <td>10040.0</td>\n",
       "      <td>Filed</td>\n",
       "      <td>...</td>\n",
       "      <td>No</td>\n",
       "      <td>None</td>\n",
       "      <td>Not Available</td>\n",
       "      <td>485</td>\n",
       "      <td>403</td>\n",
       "      <td>82</td>\n",
       "      <td>62839</td>\n",
       "      <td>62847.0</td>\n",
       "      <td>Multifamily Housing</td>\n",
       "      <td>1.0</td>\n",
       "    </tr>\n",
       "    <tr>\n",
       "      <th>4</th>\n",
       "      <td>363</td>\n",
       "      <td>1.003360e+09</td>\n",
       "      <td>NaN</td>\n",
       "      <td>1003360005</td>\n",
       "      <td>1088884</td>\n",
       "      <td>16</td>\n",
       "      <td>BIALYSTOKER PLACE</td>\n",
       "      <td>Manhattan</td>\n",
       "      <td>10002.0</td>\n",
       "      <td>Filed</td>\n",
       "      <td>...</td>\n",
       "      <td>No</td>\n",
       "      <td>None</td>\n",
       "      <td>Not Available</td>\n",
       "      <td>435.5</td>\n",
       "      <td>290</td>\n",
       "      <td>145.5</td>\n",
       "      <td>98000</td>\n",
       "      <td>98052.0</td>\n",
       "      <td>Multifamily Housing</td>\n",
       "      <td>1.0</td>\n",
       "    </tr>\n",
       "  </tbody>\n",
       "</table>\n",
       "<p>5 rows × 25 columns</p>\n",
       "</div>"
      ],
      "text/plain": [
       "   Record Number  NYC Borough, Block, and Lot (BBL) Co-reported BBL Status  \\\n",
       "0          16099                       4.084010e+09                    NaN   \n",
       "1            500                       1.005050e+09                    NaN   \n",
       "2           5017                       1.021420e+09                    NaN   \n",
       "3           5116                       1.021750e+09                    NaN   \n",
       "4            363                       1.003360e+09                    NaN   \n",
       "\n",
       "  BBLs Co-reported Reported NYC Building Identificaiton Numbers (BINs)  \\\n",
       "0       4084010096                                            4453435    \n",
       "1       1005050001                                            1007817    \n",
       "2       1021420100                                            1063495    \n",
       "3       1021750080                                            1064235    \n",
       "4       1003360005                                            1088884    \n",
       "\n",
       "  Street Number        Street Name    Borough  Zip Code  \\\n",
       "0           NaN                NaN     Queens       NaN   \n",
       "1           150      VARICK STREET  Manhattan   10013.0   \n",
       "2          4079           BROADWAY  Manhattan   10032.0   \n",
       "3            60     SHERMAN AVENUE  Manhattan   10040.0   \n",
       "4            16  BIALYSTOKER PLACE  Manhattan   10002.0   \n",
       "\n",
       "  DOF Benchmarking Submission Status  ...  \\\n",
       "0      Not on Covered Buildings List  ...   \n",
       "1                              Filed  ...   \n",
       "2                              Filed  ...   \n",
       "3                              Filed  ...   \n",
       "4                              Filed  ...   \n",
       "\n",
       "  Automatic Water Benchmarking Eligible Reported Water Method  \\\n",
       "0                                   NaN                  None   \n",
       "1                                   Yes                   ABS   \n",
       "2                                    No                  None   \n",
       "3                                    No                  None   \n",
       "4                                    No                  None   \n",
       "\n",
       "  ENERGY STAR Score Total GHG Emissions Direct GHG Emissions\\n(MtCO2e)  \\\n",
       "0     Not Available               966.7                          806.6   \n",
       "1                44              1392.3                          337.9   \n",
       "2     Not Available               673.6                          541.8   \n",
       "3     Not Available                 485                            403   \n",
       "4     Not Available               435.5                            290   \n",
       "\n",
       "  Indirect GHG Emissions\\n(MtCO2e)  \\\n",
       "0                            160.1   \n",
       "1                           1054.4   \n",
       "2                            131.8   \n",
       "3                               82   \n",
       "4                            145.5   \n",
       "\n",
       "  Reported Property Floor Area (Building(s)) (ft²)  \\\n",
       "0                                            91968   \n",
       "1                                           235370   \n",
       "2                                            64806   \n",
       "3                                            62839   \n",
       "4                                            98000   \n",
       "\n",
       "  DOF Property Floor Area (Buildngs and Parking)\\n(ft2)  \\\n",
       "0                                                NaN      \n",
       "1                                           214110.0      \n",
       "2                                            64816.0      \n",
       "3                                            62847.0      \n",
       "4                                            98052.0      \n",
       "\n",
       "  Primary Property Type - Self Selected DOF Number of Buildings  \n",
       "0                   Multifamily Housing                     NaN  \n",
       "1                   Distribution Center                     1.0  \n",
       "2                   Multifamily Housing                     1.0  \n",
       "3                   Multifamily Housing                     1.0  \n",
       "4                   Multifamily Housing                     1.0  \n",
       "\n",
       "[5 rows x 25 columns]"
      ]
     },
     "execution_count": 5,
     "metadata": {},
     "output_type": "execute_result"
    }
   ],
   "source": [
    "df0.head() "
   ]
  },
  {
   "cell_type": "code",
   "execution_count": null,
   "metadata": {},
   "outputs": [],
   "source": []
  },
  {
   "cell_type": "code",
   "execution_count": 6,
   "metadata": {},
   "outputs": [],
   "source": [
    "df = df0[['Street Name', 'Borough', 'Zip Code','Municipally Supplied Potable Water - Indoor Intensity',\n",
    "          'Total GHG Emissions', 'Weather Normalized Site EUI', 'ENERGY STAR Score']]"
   ]
  },
  {
   "cell_type": "code",
   "execution_count": 7,
   "metadata": {},
   "outputs": [
    {
     "data": {
      "text/html": [
       "<div>\n",
       "<style scoped>\n",
       "    .dataframe tbody tr th:only-of-type {\n",
       "        vertical-align: middle;\n",
       "    }\n",
       "\n",
       "    .dataframe tbody tr th {\n",
       "        vertical-align: top;\n",
       "    }\n",
       "\n",
       "    .dataframe thead th {\n",
       "        text-align: right;\n",
       "    }\n",
       "</style>\n",
       "<table border=\"1\" class=\"dataframe\">\n",
       "  <thead>\n",
       "    <tr style=\"text-align: right;\">\n",
       "      <th></th>\n",
       "      <th>Street Name</th>\n",
       "      <th>Borough</th>\n",
       "      <th>Zip Code</th>\n",
       "      <th>Municipally Supplied Potable Water - Indoor Intensity</th>\n",
       "      <th>Total GHG Emissions</th>\n",
       "      <th>Weather Normalized Site EUI</th>\n",
       "      <th>ENERGY STAR Score</th>\n",
       "    </tr>\n",
       "  </thead>\n",
       "  <tbody>\n",
       "    <tr>\n",
       "      <th>0</th>\n",
       "      <td>NaN</td>\n",
       "      <td>Queens</td>\n",
       "      <td>NaN</td>\n",
       "      <td>Not Available</td>\n",
       "      <td>966.7</td>\n",
       "      <td>178.7</td>\n",
       "      <td>Not Available</td>\n",
       "    </tr>\n",
       "    <tr>\n",
       "      <th>1</th>\n",
       "      <td>VARICK STREET</td>\n",
       "      <td>Manhattan</td>\n",
       "      <td>10013.0</td>\n",
       "      <td>8.71</td>\n",
       "      <td>1392.3</td>\n",
       "      <td>81.9</td>\n",
       "      <td>44</td>\n",
       "    </tr>\n",
       "    <tr>\n",
       "      <th>2</th>\n",
       "      <td>BROADWAY</td>\n",
       "      <td>Manhattan</td>\n",
       "      <td>10032.0</td>\n",
       "      <td>Not Available</td>\n",
       "      <td>673.6</td>\n",
       "      <td>137.5</td>\n",
       "      <td>Not Available</td>\n",
       "    </tr>\n",
       "    <tr>\n",
       "      <th>3</th>\n",
       "      <td>SHERMAN AVENUE</td>\n",
       "      <td>Manhattan</td>\n",
       "      <td>10040.0</td>\n",
       "      <td>Not Available</td>\n",
       "      <td>485</td>\n",
       "      <td>103</td>\n",
       "      <td>Not Available</td>\n",
       "    </tr>\n",
       "    <tr>\n",
       "      <th>4</th>\n",
       "      <td>BIALYSTOKER PLACE</td>\n",
       "      <td>Manhattan</td>\n",
       "      <td>10002.0</td>\n",
       "      <td>Not Available</td>\n",
       "      <td>435.5</td>\n",
       "      <td>74</td>\n",
       "      <td>Not Available</td>\n",
       "    </tr>\n",
       "  </tbody>\n",
       "</table>\n",
       "</div>"
      ],
      "text/plain": [
       "         Street Name    Borough  Zip Code  \\\n",
       "0                NaN     Queens       NaN   \n",
       "1      VARICK STREET  Manhattan   10013.0   \n",
       "2           BROADWAY  Manhattan   10032.0   \n",
       "3     SHERMAN AVENUE  Manhattan   10040.0   \n",
       "4  BIALYSTOKER PLACE  Manhattan   10002.0   \n",
       "\n",
       "  Municipally Supplied Potable Water - Indoor Intensity Total GHG Emissions  \\\n",
       "0                                      Not Available                  966.7   \n",
       "1                                               8.71                 1392.3   \n",
       "2                                      Not Available                  673.6   \n",
       "3                                      Not Available                    485   \n",
       "4                                      Not Available                  435.5   \n",
       "\n",
       "  Weather Normalized Site EUI ENERGY STAR Score  \n",
       "0                       178.7     Not Available  \n",
       "1                        81.9                44  \n",
       "2                       137.5     Not Available  \n",
       "3                         103     Not Available  \n",
       "4                          74     Not Available  "
      ]
     },
     "execution_count": 7,
     "metadata": {},
     "output_type": "execute_result"
    }
   ],
   "source": [
    "df.head()"
   ]
  },
  {
   "cell_type": "code",
   "execution_count": null,
   "metadata": {},
   "outputs": [],
   "source": []
  },
  {
   "cell_type": "code",
   "execution_count": 8,
   "metadata": {},
   "outputs": [
    {
     "name": "stdout",
     "output_type": "stream",
     "text": [
      "<class 'pandas.core.frame.DataFrame'>\n",
      "RangeIndex: 16170 entries, 0 to 16169\n",
      "Data columns (total 7 columns):\n",
      " #   Column                                                 Non-Null Count  Dtype  \n",
      "---  ------                                                 --------------  -----  \n",
      " 0   Street Name                                            14458 non-null  object \n",
      " 1   Borough                                                16170 non-null  object \n",
      " 2   Zip Code                                               14432 non-null  float64\n",
      " 3   Municipally Supplied Potable Water - Indoor Intensity  13790 non-null  object \n",
      " 4   Total GHG Emissions                                    12380 non-null  object \n",
      " 5   Weather Normalized Site EUI                            13790 non-null  object \n",
      " 6   ENERGY STAR Score                                      13790 non-null  object \n",
      "dtypes: float64(1), object(6)\n",
      "memory usage: 884.4+ KB\n"
     ]
    }
   ],
   "source": [
    "df.info()"
   ]
  },
  {
   "cell_type": "code",
   "execution_count": 9,
   "metadata": {},
   "outputs": [
    {
     "name": "stderr",
     "output_type": "stream",
     "text": [
      "<ipython-input-9-27d789e24aab>:1: SettingWithCopyWarning: \n",
      "A value is trying to be set on a copy of a slice from a DataFrame.\n",
      "Try using .loc[row_indexer,col_indexer] = value instead\n",
      "\n",
      "See the caveats in the documentation: https://pandas.pydata.org/pandas-docs/stable/user_guide/indexing.html#returning-a-view-versus-a-copy\n",
      "  df['ENERGY STAR Score']  = pd.to_numeric(df['ENERGY STAR Score'], errors='coerce')\n"
     ]
    }
   ],
   "source": [
    "df['ENERGY STAR Score']  = pd.to_numeric(df['ENERGY STAR Score'], errors='coerce')\n",
    "df = df.dropna(subset=['ENERGY STAR Score'])"
   ]
  },
  {
   "cell_type": "code",
   "execution_count": 10,
   "metadata": {},
   "outputs": [
    {
     "name": "stdout",
     "output_type": "stream",
     "text": [
      "<class 'pandas.core.frame.DataFrame'>\n",
      "Int64Index: 2032 entries, 1 to 13783\n",
      "Data columns (total 7 columns):\n",
      " #   Column                                                 Non-Null Count  Dtype  \n",
      "---  ------                                                 --------------  -----  \n",
      " 0   Street Name                                            1780 non-null   object \n",
      " 1   Borough                                                2032 non-null   object \n",
      " 2   Zip Code                                               1780 non-null   float64\n",
      " 3   Municipally Supplied Potable Water - Indoor Intensity  2032 non-null   object \n",
      " 4   Total GHG Emissions                                    2029 non-null   object \n",
      " 5   Weather Normalized Site EUI                            2032 non-null   object \n",
      " 6   ENERGY STAR Score                                      2032 non-null   float64\n",
      "dtypes: float64(2), object(5)\n",
      "memory usage: 127.0+ KB\n"
     ]
    }
   ],
   "source": [
    "df.info()"
   ]
  },
  {
   "cell_type": "code",
   "execution_count": 11,
   "metadata": {},
   "outputs": [],
   "source": [
    "df['Municipally Supplied Potable Water - Indoor Intensity']  = pd.to_numeric(df['Municipally Supplied Potable Water - Indoor Intensity'], errors='coerce')\n",
    "df['Total GHG Emissions']  = pd.to_numeric(df['Total GHG Emissions'], errors='coerce')\n",
    "df['Weather Normalized Site EUI'] = pd.to_numeric(df['Weather Normalized Site EUI'], errors='coerce')"
   ]
  },
  {
   "cell_type": "code",
   "execution_count": 12,
   "metadata": {},
   "outputs": [
    {
     "data": {
      "text/plain": [
       "Street Name                                               252\n",
       "Borough                                                     0\n",
       "Zip Code                                                  252\n",
       "Municipally Supplied Potable Water - Indoor Intensity    1364\n",
       "Total GHG Emissions                                         3\n",
       "Weather Normalized Site EUI                               433\n",
       "ENERGY STAR Score                                           0\n",
       "dtype: int64"
      ]
     },
     "execution_count": 12,
     "metadata": {},
     "output_type": "execute_result"
    }
   ],
   "source": [
    "df.isna().sum()"
   ]
  },
  {
   "cell_type": "code",
   "execution_count": null,
   "metadata": {},
   "outputs": [],
   "source": []
  },
  {
   "cell_type": "code",
   "execution_count": 13,
   "metadata": {},
   "outputs": [],
   "source": [
    "df = df.drop('Municipally Supplied Potable Water - Indoor Intensity', axis = 1)"
   ]
  },
  {
   "cell_type": "code",
   "execution_count": 14,
   "metadata": {},
   "outputs": [],
   "source": [
    "df['Total GHG Emissions'].fillna(df['Total GHG Emissions'].mean(), inplace=True)\n",
    "df['Weather Normalized Site EUI'].fillna(df['Weather Normalized Site EUI'].mean(), inplace=True)\n",
    "df['Zip Code'].fillna(df['Zip Code'].mean(), inplace = True)"
   ]
  },
  {
   "cell_type": "code",
   "execution_count": null,
   "metadata": {},
   "outputs": [],
   "source": []
  },
  {
   "cell_type": "code",
   "execution_count": 15,
   "metadata": {},
   "outputs": [
    {
     "data": {
      "text/plain": [
       "BROADWAY              111\n",
       "5 AVENUE               91\n",
       "MADISON AVENUE         62\n",
       "AVENUE OF THE AMER     34\n",
       "PARK AVENUE            33\n",
       "                     ... \n",
       "38 AVENUE               1\n",
       "WAYNE AVENUE            1\n",
       "38 STREET               1\n",
       "COOPER SQUARE           1\n",
       "CHRYSTIE STREET         1\n",
       "Name: Street Name, Length: 604, dtype: int64"
      ]
     },
     "execution_count": 15,
     "metadata": {},
     "output_type": "execute_result"
    }
   ],
   "source": [
    "df['Street Name'].value_counts() "
   ]
  },
  {
   "cell_type": "code",
   "execution_count": null,
   "metadata": {},
   "outputs": [],
   "source": []
  },
  {
   "cell_type": "code",
   "execution_count": 16,
   "metadata": {},
   "outputs": [
    {
     "data": {
      "text/plain": [
       "10371.409551    252\n",
       "10018.000000    140\n",
       "10001.000000    130\n",
       "10022.000000     99\n",
       "10016.000000     94\n",
       "               ... \n",
       "10472.000000      1\n",
       "11420.000000      1\n",
       "11242.000000      1\n",
       "10459.000000      1\n",
       "10103.000000      1\n",
       "Name: Zip Code, Length: 159, dtype: int64"
      ]
     },
     "execution_count": 16,
     "metadata": {},
     "output_type": "execute_result"
    }
   ],
   "source": [
    "df['Zip Code'].value_counts()"
   ]
  },
  {
   "cell_type": "code",
   "execution_count": null,
   "metadata": {},
   "outputs": [],
   "source": []
  },
  {
   "cell_type": "code",
   "execution_count": 17,
   "metadata": {},
   "outputs": [],
   "source": [
    "# Кодируем столбец районов и зип-кодов через One-hotcoding\n",
    "ohc_borough = pd.get_dummies(df['Borough']) \n",
    "ohc_zip = pd.get_dummies(df['Zip Code'])"
   ]
  },
  {
   "cell_type": "code",
   "execution_count": null,
   "metadata": {},
   "outputs": [],
   "source": []
  },
  {
   "cell_type": "code",
   "execution_count": 18,
   "metadata": {},
   "outputs": [],
   "source": [
    "df = df.drop(['Borough', 'Zip Code', 'Street Name'], axis=1)"
   ]
  },
  {
   "cell_type": "code",
   "execution_count": 19,
   "metadata": {},
   "outputs": [
    {
     "data": {
      "text/plain": [
       "array([[<AxesSubplot:xlabel='Total GHG Emissions', ylabel='Total GHG Emissions'>,\n",
       "        <AxesSubplot:xlabel='Weather Normalized Site EUI', ylabel='Total GHG Emissions'>,\n",
       "        <AxesSubplot:xlabel='ENERGY STAR Score', ylabel='Total GHG Emissions'>],\n",
       "       [<AxesSubplot:xlabel='Total GHG Emissions', ylabel='Weather Normalized Site EUI'>,\n",
       "        <AxesSubplot:xlabel='Weather Normalized Site EUI', ylabel='Weather Normalized Site EUI'>,\n",
       "        <AxesSubplot:xlabel='ENERGY STAR Score', ylabel='Weather Normalized Site EUI'>],\n",
       "       [<AxesSubplot:xlabel='Total GHG Emissions', ylabel='ENERGY STAR Score'>,\n",
       "        <AxesSubplot:xlabel='Weather Normalized Site EUI', ylabel='ENERGY STAR Score'>,\n",
       "        <AxesSubplot:xlabel='ENERGY STAR Score', ylabel='ENERGY STAR Score'>]],\n",
       "      dtype=object)"
      ]
     },
     "execution_count": 19,
     "metadata": {},
     "output_type": "execute_result"
    },
    {
     "data": {
      "image/png": "[encoded data removed]",
      "text/plain": [
       "<Figure size 1152x1152 with 9 Axes>"
      ]
     },
     "metadata": {
      "needs_background": "light"
     },
     "output_type": "display_data"
    }
   ],
   "source": [
    "from pandas.plotting import scatter_matrix\n",
    "scatter_matrix(df, alpha=0.05, figsize=(16, 16))"
   ]
  },
  {
   "cell_type": "code",
   "execution_count": 20,
   "metadata": {},
   "outputs": [],
   "source": [
    "df = pd.concat([df, ohc_borough], axis= 1)"
   ]
  },
  {
   "cell_type": "code",
   "execution_count": null,
   "metadata": {},
   "outputs": [],
   "source": []
  },
  {
   "cell_type": "markdown",
   "metadata": {},
   "source": [
    "# Обучение"
   ]
  },
  {
   "cell_type": "code",
   "execution_count": 21,
   "metadata": {},
   "outputs": [],
   "source": [
    "from sklearn.tree import DecisionTreeClassifier\n",
    "from sklearn.model_selection import train_test_split\n",
    "from sklearn import metrics"
   ]
  },
  {
   "cell_type": "code",
   "execution_count": 22,
   "metadata": {},
   "outputs": [],
   "source": [
    "labels = df['ENERGY STAR Score']\n",
    "data = df.drop(['ENERGY STAR Score'], axis=1)"
   ]
  },
  {
   "cell_type": "code",
   "execution_count": 23,
   "metadata": {},
   "outputs": [
    {
     "name": "stderr",
     "output_type": "stream",
     "text": [
      "/Users/igor/anaconda3/lib/python3.8/site-packages/pandas/core/indexing.py:670: SettingWithCopyWarning: \n",
      "A value is trying to be set on a copy of a slice from a DataFrame\n",
      "\n",
      "See the caveats in the documentation: https://pandas.pydata.org/pandas-docs/stable/user_guide/indexing.html#returning-a-view-versus-a-copy\n",
      "  iloc._setitem_with_indexer(indexer, value)\n",
      "/Users/igor/anaconda3/lib/python3.8/site-packages/pandas/core/indexing.py:670: SettingWithCopyWarning: \n",
      "A value is trying to be set on a copy of a slice from a DataFrame\n",
      "\n",
      "See the caveats in the documentation: https://pandas.pydata.org/pandas-docs/stable/user_guide/indexing.html#returning-a-view-versus-a-copy\n",
      "  iloc._setitem_with_indexer(indexer, value)\n"
     ]
    }
   ],
   "source": [
    "labels.loc[labels < 70] = 0\n",
    "labels.loc[labels >= 70] = 1"
   ]
  },
  {
   "cell_type": "code",
   "execution_count": 24,
   "metadata": {},
   "outputs": [
    {
     "data": {
      "text/plain": [
       "1     0.0\n",
       "5     1.0\n",
       "7     0.0\n",
       "11    1.0\n",
       "15    1.0\n",
       "16    0.0\n",
       "17    0.0\n",
       "35    0.0\n",
       "39    1.0\n",
       "41    0.0\n",
       "Name: ENERGY STAR Score, dtype: float64"
      ]
     },
     "execution_count": 24,
     "metadata": {},
     "output_type": "execute_result"
    }
   ],
   "source": [
    "labels[:10]"
   ]
  },
  {
   "cell_type": "code",
   "execution_count": null,
   "metadata": {},
   "outputs": [],
   "source": []
  },
  {
   "cell_type": "code",
   "execution_count": 25,
   "metadata": {},
   "outputs": [
    {
     "name": "stdout",
     "output_type": "stream",
     "text": [
      "(1422, 7)\n",
      "(610, 7)\n",
      "(1422,)\n",
      "(610,)\n"
     ]
    }
   ],
   "source": [
    "X_train, X_test, y_train, y_test = train_test_split(data, labels, \n",
    "                                                   test_size = 0.3,\n",
    "                                                   random_state = 42)\n",
    "\n",
    "print(X_train.shape)\n",
    "print(X_test.shape)\n",
    "print(y_train.shape)\n",
    "print(y_test.shape)"
   ]
  },
  {
   "cell_type": "code",
   "execution_count": null,
   "metadata": {},
   "outputs": [],
   "source": []
  },
  {
   "cell_type": "code",
   "execution_count": 26,
   "metadata": {},
   "outputs": [],
   "source": [
    "tree = DecisionTreeClassifier(criterion='gini',random_state = 17)"
   ]
  },
  {
   "cell_type": "code",
   "execution_count": 27,
   "metadata": {},
   "outputs": [
    {
     "data": {
      "text/plain": [
       "0.6918032786885245"
      ]
     },
     "execution_count": 27,
     "metadata": {},
     "output_type": "execute_result"
    }
   ],
   "source": [
    "tree.fit(X_train, y_train)\n",
    "tree.score(X_test, y_test)"
   ]
  },
  {
   "cell_type": "code",
   "execution_count": 28,
   "metadata": {},
   "outputs": [
    {
     "data": {
      "text/plain": [
       "0.6918032786885245"
      ]
     },
     "execution_count": 28,
     "metadata": {},
     "output_type": "execute_result"
    }
   ],
   "source": [
    "predictions = tree.predict(X_test)\n",
    "metrics.accuracy_score(y_test, predictions)"
   ]
  },
  {
   "cell_type": "code",
   "execution_count": 29,
   "metadata": {},
   "outputs": [
    {
     "data": {
      "text/plain": [
       "1868     0.0\n",
       "3845     1.0\n",
       "1325     0.0\n",
       "1453     0.0\n",
       "13497    0.0\n",
       "3074     1.0\n",
       "1698     0.0\n",
       "1039     0.0\n",
       "5795     1.0\n",
       "8052     1.0\n",
       "Name: ENERGY STAR Score, dtype: float64"
      ]
     },
     "execution_count": 29,
     "metadata": {},
     "output_type": "execute_result"
    }
   ],
   "source": [
    "y_test[:10]"
   ]
  },
  {
   "cell_type": "code",
   "execution_count": 30,
   "metadata": {},
   "outputs": [
    {
     "data": {
      "text/plain": [
       "array([1., 0., 0., 0., 0., 1., 1., 1., 1., 0.])"
      ]
     },
     "execution_count": 30,
     "metadata": {},
     "output_type": "execute_result"
    }
   ],
   "source": [
    "predictions[:10]"
   ]
  },
  {
   "cell_type": "code",
   "execution_count": null,
   "metadata": {},
   "outputs": [],
   "source": []
  },
  {
   "cell_type": "code",
   "execution_count": null,
   "metadata": {},
   "outputs": [],
   "source": []
  },
  {
   "cell_type": "markdown",
   "metadata": {},
   "source": [
    "# Случайный лес"
   ]
  },
  {
   "cell_type": "code",
   "execution_count": 31,
   "metadata": {},
   "outputs": [],
   "source": [
    "from sklearn import ensemble"
   ]
  },
  {
   "cell_type": "code",
   "execution_count": 32,
   "metadata": {},
   "outputs": [],
   "source": [
    "metrica = []\n",
    "num = [] \n",
    "\n",
    "for i in range(5, 25):\n",
    "    rf = ensemble.RandomForestClassifier(min_samples_split=i, random_state=11) \n",
    "    rf.fit(X_train, y_train)\n",
    "    prediction_rf = rf.predict(X_test)\n",
    "    \n",
    "    metrica.append(metrics.accuracy_score(y_test, prediction_rf))\n",
    "    num.append(i)"
   ]
  },
  {
   "cell_type": "code",
   "execution_count": 33,
   "metadata": {},
   "outputs": [
    {
     "data": {
      "text/plain": [
       "[<matplotlib.lines.Line2D at 0x7fdb5b291400>]"
      ]
     },
     "execution_count": 33,
     "metadata": {},
     "output_type": "execute_result"
    },
    {
     "data": {
      "image/png": "[encoded data removed]",
      "text/plain": [
       "<Figure size 432x288 with 1 Axes>"
      ]
     },
     "metadata": {
      "needs_background": "light"
     },
     "output_type": "display_data"
    }
   ],
   "source": [
    "plt.plot(num, metrica)"
   ]
  },
  {
   "cell_type": "code",
   "execution_count": null,
   "metadata": {},
   "outputs": [],
   "source": []
  },
  {
   "cell_type": "markdown",
   "metadata": {},
   "source": [
    "# Отбор признаков с помощью алгоритма случайного леса"
   ]
  },
  {
   "cell_type": "code",
   "execution_count": 34,
   "metadata": {},
   "outputs": [],
   "source": [
    "import numpy as np"
   ]
  },
  {
   "cell_type": "code",
   "execution_count": 35,
   "metadata": {},
   "outputs": [],
   "source": [
    "feature_names = data.columns"
   ]
  },
  {
   "cell_type": "code",
   "execution_count": 36,
   "metadata": {},
   "outputs": [
    {
     "name": "stdout",
     "output_type": "stream",
     "text": [
      "Feature imprortances:\n",
      " 1.feature 'Weather Normalized Site EUI' (0.6172)\n",
      " 2.feature 'Total GHG Emissions' (0.3300)\n",
      " 3.feature 'Manhattan' (0.0262)\n",
      " 4.feature 'Queens' (0.0092)\n",
      " 5.feature 'Brooklyn' (0.0068)\n",
      " 6.feature 'Bronx' (0.0063)\n",
      " 7.feature 'Staten Island' (0.0043)\n"
     ]
    }
   ],
   "source": [
    "importances = rf.feature_importances_\n",
    "indices = np.argsort(importances)[::-1]\n",
    "\n",
    "print('Feature imprortances:')\n",
    "for f, idx in enumerate(indices):\n",
    "    print(\"{:2d}.feature '{:5s}' ({:.4f})\".format(f+1, feature_names[idx], importances[idx]))"
   ]
  },
  {
   "cell_type": "code",
   "execution_count": 37,
   "metadata": {},
   "outputs": [
    {
     "data": {
      "text/plain": [
       "(-1.0, 7.0)"
      ]
     },
     "execution_count": 37,
     "metadata": {},
     "output_type": "execute_result"
    },
    {
     "data": {
      "image/png": "[encoded data removed]",
      "text/plain": [
       "<Figure size 720x720 with 1 Axes>"
      ]
     },
     "metadata": {
      "needs_background": "light"
     },
     "output_type": "display_data"
    }
   ],
   "source": [
    "d_first = 7\n",
    "plt.figure(figsize=(10,10))\n",
    "plt.bar(range(d_first), importances[indices[:d_first]], align='center')\n",
    "plt.xticks(range(d_first), np.array(feature_names)[indices[:d_first]], rotation=90)\n",
    "plt.xlim([-1, d_first])"
   ]
  },
  {
   "cell_type": "code",
   "execution_count": null,
   "metadata": {},
   "outputs": [],
   "source": []
  }
 ],
 "metadata": {
  "kernelspec": {
   "display_name": "Python 3",
   "language": "python",
   "name": "python3"
  },
  "language_info": {
   "codemirror_mode": {
    "name": "ipython",
    "version": 3
   },
   "file_extension": ".py",
   "mimetype": "text/x-python",
   "name": "python",
   "nbconvert_exporter": "python",
   "pygments_lexer": "ipython3",
   "version": "3.8.5"
  }
 },
 "nbformat": 4,
 "nbformat_minor": 4
}
