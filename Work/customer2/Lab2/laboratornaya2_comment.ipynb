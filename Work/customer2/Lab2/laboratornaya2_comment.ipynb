{
 "cells": [
  {
   "cell_type": "markdown",
   "metadata": {},
   "source": [
    "# Лабораторная работа 2"
   ]
  },
  {
   "cell_type": "code",
   "execution_count": 20,
   "metadata": {},
   "outputs": [],
   "source": [
    "import pandas as pd"
   ]
  },
  {
   "cell_type": "code",
   "execution_count": 21,
   "metadata": {},
   "outputs": [],
   "source": [
    "# 10 2012 MSE D F P N M J"
   ]
  },
  {
   "cell_type": "code",
   "execution_count": 22,
   "metadata": {},
   "outputs": [
    {
     "data": {
      "text/html": [
       "<div>\n",
       "<style scoped>\n",
       "    .dataframe tbody tr th:only-of-type {\n",
       "        vertical-align: middle;\n",
       "    }\n",
       "\n",
       "    .dataframe tbody tr th {\n",
       "        vertical-align: top;\n",
       "    }\n",
       "\n",
       "    .dataframe thead th {\n",
       "        text-align: right;\n",
       "    }\n",
       "</style>\n",
       "<table border=\"1\" class=\"dataframe\">\n",
       "  <thead>\n",
       "    <tr style=\"text-align: right;\">\n",
       "      <th></th>\n",
       "      <th>BBL</th>\n",
       "      <th>Street Number</th>\n",
       "      <th>Street Name</th>\n",
       "      <th>Borough</th>\n",
       "      <th>Zip</th>\n",
       "      <th>Benchmarking Submission</th>\n",
       "      <th>Entry Number</th>\n",
       "      <th>Site EUI</th>\n",
       "      <th>Weather Normalized Source EUI</th>\n",
       "      <th>Water per Square Foot</th>\n",
       "      <th>ENERGY STAR Score</th>\n",
       "      <th>GHG</th>\n",
       "      <th>Reported Building Square Footage</th>\n",
       "      <th>Reported Facility Type</th>\n",
       "      <th>Number of Buildings</th>\n",
       "      <th>Reported BINs</th>\n",
       "    </tr>\n",
       "  </thead>\n",
       "  <tbody>\n",
       "    <tr>\n",
       "      <th>0</th>\n",
       "      <td>1000050010</td>\n",
       "      <td>115</td>\n",
       "      <td>BROAD STREET</td>\n",
       "      <td>MANHATTAN</td>\n",
       "      <td>10004</td>\n",
       "      <td>No DOF Record as of 08/01/12</td>\n",
       "      <td>NaN</td>\n",
       "      <td>NaN</td>\n",
       "      <td>NaN</td>\n",
       "      <td>NaN</td>\n",
       "      <td>NaN</td>\n",
       "      <td>NaN</td>\n",
       "      <td>NaN</td>\n",
       "      <td>NaN</td>\n",
       "      <td>NaN</td>\n",
       "      <td>NaN</td>\n",
       "    </tr>\n",
       "    <tr>\n",
       "      <th>1</th>\n",
       "      <td>1000090001</td>\n",
       "      <td>34</td>\n",
       "      <td>WHITEHALL STREET</td>\n",
       "      <td>MANHATTAN</td>\n",
       "      <td>10004</td>\n",
       "      <td>Yes</td>\n",
       "      <td>1518.0</td>\n",
       "      <td>157.9</td>\n",
       "      <td>437.4</td>\n",
       "      <td>NaN</td>\n",
       "      <td>27.0</td>\n",
       "      <td>12077.53</td>\n",
       "      <td>852840.0</td>\n",
       "      <td>Office</td>\n",
       "      <td>1.0</td>\n",
       "      <td>1000018</td>\n",
       "    </tr>\n",
       "    <tr>\n",
       "      <th>2</th>\n",
       "      <td>1000090014</td>\n",
       "      <td>17</td>\n",
       "      <td>STATE STREET</td>\n",
       "      <td>MANHATTAN</td>\n",
       "      <td>10004</td>\n",
       "      <td>Yes</td>\n",
       "      <td>312.0</td>\n",
       "      <td>91.5</td>\n",
       "      <td>278.7</td>\n",
       "      <td>NaN</td>\n",
       "      <td>61.0</td>\n",
       "      <td>4817.62</td>\n",
       "      <td>574105.0</td>\n",
       "      <td>Office</td>\n",
       "      <td>1.0</td>\n",
       "      <td>1000020</td>\n",
       "    </tr>\n",
       "    <tr>\n",
       "      <th>3</th>\n",
       "      <td>1000090029</td>\n",
       "      <td>24</td>\n",
       "      <td>WHITEHALL STREET</td>\n",
       "      <td>MANHATTAN</td>\n",
       "      <td>10004</td>\n",
       "      <td>Yes</td>\n",
       "      <td>52.0</td>\n",
       "      <td>137.2</td>\n",
       "      <td>306.6</td>\n",
       "      <td>6.66</td>\n",
       "      <td>41.0</td>\n",
       "      <td>10190.38</td>\n",
       "      <td>859807.0</td>\n",
       "      <td>Office</td>\n",
       "      <td>1.0</td>\n",
       "      <td>1000021</td>\n",
       "    </tr>\n",
       "    <tr>\n",
       "      <th>4</th>\n",
       "      <td>1000100014</td>\n",
       "      <td>33</td>\n",
       "      <td>WHITEHALL STREET</td>\n",
       "      <td>MANHATTAN</td>\n",
       "      <td>10004</td>\n",
       "      <td>No DOF Record as of 08/01/12</td>\n",
       "      <td>NaN</td>\n",
       "      <td>NaN</td>\n",
       "      <td>NaN</td>\n",
       "      <td>NaN</td>\n",
       "      <td>NaN</td>\n",
       "      <td>NaN</td>\n",
       "      <td>NaN</td>\n",
       "      <td>NaN</td>\n",
       "      <td>NaN</td>\n",
       "      <td>NaN</td>\n",
       "    </tr>\n",
       "  </tbody>\n",
       "</table>\n",
       "</div>"
      ],
      "text/plain": [
       "          BBL Street Number           Street Name    Borough    Zip  \\\n",
       "0  1000050010           115  BROAD STREET          MANHATTAN  10004   \n",
       "1  1000090001            34      WHITEHALL STREET  MANHATTAN  10004   \n",
       "2  1000090014            17          STATE STREET  MANHATTAN  10004   \n",
       "3  1000090029            24      WHITEHALL STREET  MANHATTAN  10004   \n",
       "4  1000100014            33  WHITEHALL STREET      MANHATTAN  10004   \n",
       "\n",
       "        Benchmarking Submission  Entry Number  Site EUI  \\\n",
       "0  No DOF Record as of 08/01/12           NaN       NaN   \n",
       "1                           Yes        1518.0     157.9   \n",
       "2                           Yes         312.0      91.5   \n",
       "3                           Yes          52.0     137.2   \n",
       "4  No DOF Record as of 08/01/12           NaN       NaN   \n",
       "\n",
       "   Weather Normalized Source EUI  Water per Square Foot  ENERGY STAR Score  \\\n",
       "0                            NaN                    NaN                NaN   \n",
       "1                          437.4                    NaN               27.0   \n",
       "2                          278.7                    NaN               61.0   \n",
       "3                          306.6                   6.66               41.0   \n",
       "4                            NaN                    NaN                NaN   \n",
       "\n",
       "        GHG  Reported Building Square Footage Reported Facility Type  \\\n",
       "0       NaN                               NaN                    NaN   \n",
       "1  12077.53                          852840.0                 Office   \n",
       "2   4817.62                          574105.0                 Office   \n",
       "3  10190.38                          859807.0                 Office   \n",
       "4       NaN                               NaN                    NaN   \n",
       "\n",
       "   Number of Buildings Reported BINs  \n",
       "0                  NaN           NaN  \n",
       "1                  1.0       1000018  \n",
       "2                  1.0       1000020  \n",
       "3                  1.0       1000021  \n",
       "4                  NaN           NaN  "
      ]
     },
     "execution_count": 22,
     "metadata": {},
     "output_type": "execute_result"
    }
   ],
   "source": [
    "df0 = pd.read_excel('2012.xls') # Чтение таблицы из эксель файла в датафрейм \n",
    "df0.head() # Смотрим первые пять строк датафрейма"
   ]
  },
  {
   "cell_type": "code",
   "execution_count": 23,
   "metadata": {},
   "outputs": [],
   "source": [
    "# Cчитываем в новый датафрейм данные, которые нам нужны по варианту\n",
    "df = df0[['Borough', 'Benchmarking Submission', 'Reported Facility Type', 'GHG', 'Reported Building Square Footage', \n",
    "          'Water per Square Foot', 'ENERGY STAR Score']]"
   ]
  },
  {
   "cell_type": "code",
   "execution_count": 24,
   "metadata": {},
   "outputs": [
    {
     "name": "stdout",
     "output_type": "stream",
     "text": [
      "<class 'pandas.core.frame.DataFrame'>\n",
      "RangeIndex: 4081 entries, 0 to 4080\n",
      "Data columns (total 7 columns):\n",
      " #   Column                            Non-Null Count  Dtype  \n",
      "---  ------                            --------------  -----  \n",
      " 0   Borough                           4081 non-null   object \n",
      " 1   Benchmarking Submission           4081 non-null   object \n",
      " 2   Reported Facility Type            2535 non-null   object \n",
      " 3   GHG                               2309 non-null   float64\n",
      " 4   Reported Building Square Footage  2423 non-null   float64\n",
      " 5   Water per Square Foot             385 non-null    float64\n",
      " 6   ENERGY STAR Score                 1593 non-null   float64\n",
      "dtypes: float64(4), object(3)\n",
      "memory usage: 223.3+ KB\n"
     ]
    }
   ],
   "source": [
    "df.info()"
   ]
  },
  {
   "cell_type": "code",
   "execution_count": null,
   "metadata": {},
   "outputs": [],
   "source": []
  },
  {
   "cell_type": "markdown",
   "metadata": {},
   "source": [
    "# Удаление плохих строк"
   ]
  },
  {
   "cell_type": "code",
   "execution_count": 25,
   "metadata": {},
   "outputs": [],
   "source": [
    "df = df.dropna(subset=['ENERGY STAR Score']) # Удаляем наны в целевой переменной"
   ]
  },
  {
   "cell_type": "code",
   "execution_count": 26,
   "metadata": {},
   "outputs": [
    {
     "name": "stdout",
     "output_type": "stream",
     "text": [
      "<class 'pandas.core.frame.DataFrame'>\n",
      "Int64Index: 1593 entries, 1 to 4076\n",
      "Data columns (total 7 columns):\n",
      " #   Column                            Non-Null Count  Dtype  \n",
      "---  ------                            --------------  -----  \n",
      " 0   Borough                           1593 non-null   object \n",
      " 1   Benchmarking Submission           1593 non-null   object \n",
      " 2   Reported Facility Type            1593 non-null   object \n",
      " 3   GHG                               1515 non-null   float64\n",
      " 4   Reported Building Square Footage  1541 non-null   float64\n",
      " 5   Water per Square Foot             252 non-null    float64\n",
      " 6   ENERGY STAR Score                 1593 non-null   float64\n",
      "dtypes: float64(4), object(3)\n",
      "memory usage: 99.6+ KB\n"
     ]
    }
   ],
   "source": [
    "df.info() # Выводим информацию о датафрейме"
   ]
  },
  {
   "cell_type": "code",
   "execution_count": 27,
   "metadata": {},
   "outputs": [],
   "source": [
    "#  удаляем столбец потому что в нем слишком много NaN\n",
    "df = df.drop(['Water per Square Foot'], axis=1)"
   ]
  },
  {
   "cell_type": "code",
   "execution_count": 28,
   "metadata": {},
   "outputs": [],
   "source": [
    "# заполняем пропущенные значения в столбце GHG средним значением для столбца GHG\n",
    "df['GHG'] = df['GHG'].fillna(df['GHG'].mean())"
   ]
  },
  {
   "cell_type": "code",
   "execution_count": 30,
   "metadata": {},
   "outputs": [],
   "source": [
    "# заполняем пропущенные значения (NaN) в столбце средним значением для этого столбца\n",
    "df['Reported Building Square Footage'] = df['Reported Building Square Footage'].fillna(df['Reported Building Square Footage'].mean())"
   ]
  },
  {
   "cell_type": "code",
   "execution_count": null,
   "metadata": {},
   "outputs": [],
   "source": []
  },
  {
   "cell_type": "code",
   "execution_count": 32,
   "metadata": {},
   "outputs": [
    {
     "data": {
      "text/plain": [
       "Yes    1593\n",
       "Name: Benchmarking Submission, dtype: int64"
      ]
     },
     "execution_count": 32,
     "metadata": {},
     "output_type": "execute_result"
    }
   ],
   "source": [
    "# Считаем кол-во встречающихся значений для столбца Benchmarking Submission\n",
    "df['Benchmarking Submission'].value_counts()"
   ]
  },
  {
   "cell_type": "code",
   "execution_count": 34,
   "metadata": {},
   "outputs": [],
   "source": [
    "# Так как в столбце Benchmarking Submission у нас только один ес, те значение только одно, \n",
    "# то оно ничего не даст для предсказания, и мы его просто выкидваем \n",
    "df = df.drop(['Benchmarking Submission'], axis = 1)"
   ]
  },
  {
   "cell_type": "code",
   "execution_count": null,
   "metadata": {},
   "outputs": [],
   "source": []
  },
  {
   "cell_type": "code",
   "execution_count": 33,
   "metadata": {},
   "outputs": [
    {
     "data": {
      "text/plain": [
       "Office                                     963\n",
       "Warehouse (Unrefrigerated)                 150\n",
       "Hotel                                      116\n",
       "Retail                                      72\n",
       "Senior Care Facility                        72\n",
       "Residence Hall/Dormitory                    56\n",
       "Hospital (General Medical and Surgical)     52\n",
       "K-12 School                                 51\n",
       "Medical Office                              21\n",
       "House of Worship                            13\n",
       "Warehouse (Refrigerated)                    11\n",
       "Bank/Financial Institution                   8\n",
       "Supermarket/Grocery                          6\n",
       "Data Center                                  2\n",
       "Name: Reported Facility Type, dtype: int64"
      ]
     },
     "execution_count": 33,
     "metadata": {},
     "output_type": "execute_result"
    }
   ],
   "source": [
    "# Считаем кол-во встречающихся значений для столбца Reported Facility Type\n",
    "df['Reported Facility Type'].value_counts()"
   ]
  },
  {
   "cell_type": "code",
   "execution_count": null,
   "metadata": {},
   "outputs": [],
   "source": []
  },
  {
   "cell_type": "code",
   "execution_count": 35,
   "metadata": {},
   "outputs": [],
   "source": [
    "# Кодируем ONE-HOT CODING\n",
    "ohc_borough = pd.get_dummies(df['Borough'])\n",
    "ohc_facility_type = pd.get_dummies(df['Reported Facility Type'])"
   ]
  },
  {
   "cell_type": "code",
   "execution_count": 41,
   "metadata": {},
   "outputs": [],
   "source": [
    "# Выкидываем из нашей пандосовской таблицы столбец с районами и Reported Facility Type\n",
    "df = df.drop(['Borough'], axis = 1)\n",
    "df = df.drop(['Reported Facility Type'], axis = 1)"
   ]
  },
  {
   "cell_type": "code",
   "execution_count": 43,
   "metadata": {},
   "outputs": [],
   "source": [
    "# Объединяем наш датафрейм с таблицей Ван хот кодирования районов \n",
    "df = pd.concat([df, ohc_borough, ohc_facility_type], axis=1)"
   ]
  },
  {
   "cell_type": "code",
   "execution_count": 44,
   "metadata": {},
   "outputs": [
    {
     "data": {
      "text/plain": [
       "(1593, 22)"
      ]
     },
     "execution_count": 44,
     "metadata": {},
     "output_type": "execute_result"
    }
   ],
   "source": [
    "df.shape"
   ]
  },
  {
   "cell_type": "code",
   "execution_count": null,
   "metadata": {},
   "outputs": [],
   "source": []
  },
  {
   "cell_type": "markdown",
   "metadata": {},
   "source": [
    "# Обучение"
   ]
  },
  {
   "cell_type": "code",
   "execution_count": 45,
   "metadata": {},
   "outputs": [],
   "source": [
    "from sklearn.model_selection import train_test_split\n",
    "from sklearn import linear_model, metrics\n",
    "import matplotlib.pyplot as plt"
   ]
  },
  {
   "cell_type": "code",
   "execution_count": 46,
   "metadata": {},
   "outputs": [],
   "source": [
    "labels = df['ENERGY STAR Score']\n",
    "data = df.drop(['ENERGY STAR Score'], axis=1)"
   ]
  },
  {
   "cell_type": "code",
   "execution_count": 47,
   "metadata": {},
   "outputs": [
    {
     "name": "stdout",
     "output_type": "stream",
     "text": [
      "(1115, 21)\n",
      "(478, 21)\n",
      "(1115,)\n",
      "(478,)\n"
     ]
    }
   ],
   "source": [
    "X_train, X_test, y_train, y_test = train_test_split(data, labels, \n",
    "                                                   test_size = 0.3,\n",
    "                                                   random_state = 42)\n",
    "\n",
    "print(X_train.shape)\n",
    "print(X_test.shape)\n",
    "print(y_train.shape)\n",
    "print(y_test.shape)"
   ]
  },
  {
   "cell_type": "code",
   "execution_count": 48,
   "metadata": {},
   "outputs": [
    {
     "data": {
      "text/plain": [
       "Text(0.5, 1.0, 'Labels for test data')"
      ]
     },
     "execution_count": 48,
     "metadata": {},
     "output_type": "execute_result"
    },
    {
     "data": {
      "image/png": "[encoded data removed]",
      "text/plain": [
       "<Figure size 1152x432 with 2 Axes>"
      ]
     },
     "metadata": {
      "needs_background": "light"
     },
     "output_type": "display_data"
    }
   ],
   "source": [
    "#Целевая функция на обучающей выборке и на отложенном тесте\n",
    "\n",
    "# ГРАФИКИ ДОЛЖНЫ БЫТЬ ПОХОЖИ ДРУГ НА ДРУГА\n",
    "# На них изображено по оси Х распределение Energy Star Score, разбитое на диапазоны [0, 10], [11, 20,] ... [91, 100]\n",
    "# По оси Y - кол-во зданий с такими Energy Srar score\n",
    "\n",
    "plt.figure(figsize=(16,6))\n",
    "\n",
    "plt.subplot(1,2,1)\n",
    "plt.hist(y_train)\n",
    "plt.title('train data')\n",
    "\n",
    "\n",
    "\n",
    "plt.subplot(1,2,2)\n",
    "plt.hist(y_test)\n",
    "plt.title('test data')"
   ]
  },
  {
   "cell_type": "code",
   "execution_count": 49,
   "metadata": {},
   "outputs": [],
   "source": [
    "#Модель\n",
    "regressor = linear_model.LinearRegression()"
   ]
  },
  {
   "cell_type": "code",
   "execution_count": 50,
   "metadata": {},
   "outputs": [
    {
     "data": {
      "text/plain": [
       "LinearRegression()"
      ]
     },
     "execution_count": 50,
     "metadata": {},
     "output_type": "execute_result"
    }
   ],
   "source": [
    "regressor.fit(X_train, y_train)"
   ]
  },
  {
   "cell_type": "code",
   "execution_count": 53,
   "metadata": {},
   "outputs": [
    {
     "data": {
      "text/plain": [
       "737.6309918146738"
      ]
     },
     "execution_count": 53,
     "metadata": {},
     "output_type": "execute_result"
    }
   ],
   "source": [
    "# Оценим ошибку с помощью MSE\n",
    "# Это нормально, что она такая большая. Т.к квадратичный критерий увеличивает значение \"больших\" ошибок и \n",
    "# уменьшает значения маленьких \n",
    "\n",
    "prediction = regressor.predict(X_test)\n",
    "metrics.mean_squared_error(y_test, prediction)"
   ]
  },
  {
   "cell_type": "code",
   "execution_count": 54,
   "metadata": {},
   "outputs": [
    {
     "name": "stdout",
     "output_type": "stream",
     "text": [
      "1709    49.0\n",
      "2336    17.0\n",
      "2938    33.0\n",
      "769     96.0\n",
      "4029    67.0\n",
      "210     94.0\n",
      "2605    82.0\n",
      "1072    78.0\n",
      "2141    57.0\n",
      "1295    29.0\n",
      "Name: ENERGY STAR Score, dtype: float64\n"
     ]
    }
   ],
   "source": [
    "# Сверим результаты предсказывания модели с реальными данными\n",
    "# Реальные данные\n",
    "print(y_test[:10])"
   ]
  },
  {
   "cell_type": "code",
   "execution_count": 55,
   "metadata": {},
   "outputs": [
    {
     "name": "stdout",
     "output_type": "stream",
     "text": [
      "[40.57074889 45.14907263 51.11898177 68.26257797 53.5580572  39.11085787\n",
      " 60.97614299 68.21221808 56.04029383 40.45995815]\n"
     ]
    }
   ],
   "source": [
    "# предсказание сделанное моделью\n",
    "print(prediction[:10])"
   ]
  },
  {
   "cell_type": "code",
   "execution_count": null,
   "metadata": {},
   "outputs": [],
   "source": []
  }
 ],
 "metadata": {
  "kernelspec": {
   "display_name": "Python 3",
   "language": "python",
   "name": "python3"
  },
  "language_info": {
   "codemirror_mode": {
    "name": "ipython",
    "version": 3
   },
   "file_extension": ".py",
   "mimetype": "text/x-python",
   "name": "python",
   "nbconvert_exporter": "python",
   "pygments_lexer": "ipython3",
   "version": "3.8.5"
  }
 },
 "nbformat": 4,
 "nbformat_minor": 4
}
