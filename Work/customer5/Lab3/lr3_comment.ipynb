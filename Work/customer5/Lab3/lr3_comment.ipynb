{
 "cells": [
  {
   "cell_type": "code",
   "execution_count": 1,
   "metadata": {},
   "outputs": [],
   "source": [
    "import pandas as pd\n",
    "import matplotlib.pyplot as plt"
   ]
  },
  {
   "cell_type": "code",
   "execution_count": 2,
   "metadata": {},
   "outputs": [],
   "source": [
    "# Вариант 3 2014 C O E B A N MAE"
   ]
  },
  {
   "cell_type": "code",
   "execution_count": 3,
   "metadata": {},
   "outputs": [
    {
     "data": {
      "text/html": [
       "<div>\n",
       "<style scoped>\n",
       "    .dataframe tbody tr th:only-of-type {\n",
       "        vertical-align: middle;\n",
       "    }\n",
       "\n",
       "    .dataframe tbody tr th {\n",
       "        vertical-align: top;\n",
       "    }\n",
       "\n",
       "    .dataframe thead th {\n",
       "        text-align: right;\n",
       "    }\n",
       "</style>\n",
       "<table border=\"1\" class=\"dataframe\">\n",
       "  <thead>\n",
       "    <tr style=\"text-align: right;\">\n",
       "      <th></th>\n",
       "      <th>Record Number</th>\n",
       "      <th>NYC Borough, Block, and Lot (BBL)</th>\n",
       "      <th>Co-reported BBL Status</th>\n",
       "      <th>BBLs Co-reported</th>\n",
       "      <th>Reported NYC Building Identificaiton Numbers (BINs)</th>\n",
       "      <th>Street Number</th>\n",
       "      <th>Street Name</th>\n",
       "      <th>Borough</th>\n",
       "      <th>Zip Code</th>\n",
       "      <th>DOF Benchmarking Submission Status</th>\n",
       "      <th>...</th>\n",
       "      <th>Automatic Water Benchmarking Eligible</th>\n",
       "      <th>Reported Water Method</th>\n",
       "      <th>ENERGY STAR Score</th>\n",
       "      <th>Total GHG Emissions</th>\n",
       "      <th>Direct GHG Emissions\\n(MtCO2e)</th>\n",
       "      <th>Indirect GHG Emissions\\n(MtCO2e)</th>\n",
       "      <th>Reported Property Floor Area (Building(s)) (ft²)</th>\n",
       "      <th>DOF Property Floor Area (Buildngs and Parking)\\n(ft2)</th>\n",
       "      <th>Primary Property Type - Self Selected</th>\n",
       "      <th>DOF Number of Buildings</th>\n",
       "    </tr>\n",
       "  </thead>\n",
       "  <tbody>\n",
       "    <tr>\n",
       "      <th>0</th>\n",
       "      <td>16099</td>\n",
       "      <td>4.084010e+09</td>\n",
       "      <td>NaN</td>\n",
       "      <td>4084010096</td>\n",
       "      <td>4453435</td>\n",
       "      <td>NaN</td>\n",
       "      <td>NaN</td>\n",
       "      <td>Queens</td>\n",
       "      <td>NaN</td>\n",
       "      <td>Not on Covered Buildings List</td>\n",
       "      <td>...</td>\n",
       "      <td>NaN</td>\n",
       "      <td>None</td>\n",
       "      <td>Not Available</td>\n",
       "      <td>966.7</td>\n",
       "      <td>806.6</td>\n",
       "      <td>160.1</td>\n",
       "      <td>91968</td>\n",
       "      <td>NaN</td>\n",
       "      <td>Multifamily Housing</td>\n",
       "      <td>NaN</td>\n",
       "    </tr>\n",
       "    <tr>\n",
       "      <th>1</th>\n",
       "      <td>500</td>\n",
       "      <td>1.005050e+09</td>\n",
       "      <td>NaN</td>\n",
       "      <td>1005050001</td>\n",
       "      <td>1007817</td>\n",
       "      <td>150</td>\n",
       "      <td>VARICK STREET</td>\n",
       "      <td>Manhattan</td>\n",
       "      <td>10013.0</td>\n",
       "      <td>Filed</td>\n",
       "      <td>...</td>\n",
       "      <td>Yes</td>\n",
       "      <td>ABS</td>\n",
       "      <td>44</td>\n",
       "      <td>1392.3</td>\n",
       "      <td>337.9</td>\n",
       "      <td>1054.4</td>\n",
       "      <td>235370</td>\n",
       "      <td>214110.0</td>\n",
       "      <td>Distribution Center</td>\n",
       "      <td>1.0</td>\n",
       "    </tr>\n",
       "    <tr>\n",
       "      <th>2</th>\n",
       "      <td>5017</td>\n",
       "      <td>1.021420e+09</td>\n",
       "      <td>NaN</td>\n",
       "      <td>1021420100</td>\n",
       "      <td>1063495</td>\n",
       "      <td>4079</td>\n",
       "      <td>BROADWAY</td>\n",
       "      <td>Manhattan</td>\n",
       "      <td>10032.0</td>\n",
       "      <td>Filed</td>\n",
       "      <td>...</td>\n",
       "      <td>No</td>\n",
       "      <td>None</td>\n",
       "      <td>Not Available</td>\n",
       "      <td>673.6</td>\n",
       "      <td>541.8</td>\n",
       "      <td>131.8</td>\n",
       "      <td>64806</td>\n",
       "      <td>64816.0</td>\n",
       "      <td>Multifamily Housing</td>\n",
       "      <td>1.0</td>\n",
       "    </tr>\n",
       "    <tr>\n",
       "      <th>3</th>\n",
       "      <td>5116</td>\n",
       "      <td>1.021750e+09</td>\n",
       "      <td>NaN</td>\n",
       "      <td>1021750080</td>\n",
       "      <td>1064235</td>\n",
       "      <td>60</td>\n",
       "      <td>SHERMAN AVENUE</td>\n",
       "      <td>Manhattan</td>\n",
       "      <td>10040.0</td>\n",
       "      <td>Filed</td>\n",
       "      <td>...</td>\n",
       "      <td>No</td>\n",
       "      <td>None</td>\n",
       "      <td>Not Available</td>\n",
       "      <td>485</td>\n",
       "      <td>403</td>\n",
       "      <td>82</td>\n",
       "      <td>62839</td>\n",
       "      <td>62847.0</td>\n",
       "      <td>Multifamily Housing</td>\n",
       "      <td>1.0</td>\n",
       "    </tr>\n",
       "    <tr>\n",
       "      <th>4</th>\n",
       "      <td>363</td>\n",
       "      <td>1.003360e+09</td>\n",
       "      <td>NaN</td>\n",
       "      <td>1003360005</td>\n",
       "      <td>1088884</td>\n",
       "      <td>16</td>\n",
       "      <td>BIALYSTOKER PLACE</td>\n",
       "      <td>Manhattan</td>\n",
       "      <td>10002.0</td>\n",
       "      <td>Filed</td>\n",
       "      <td>...</td>\n",
       "      <td>No</td>\n",
       "      <td>None</td>\n",
       "      <td>Not Available</td>\n",
       "      <td>435.5</td>\n",
       "      <td>290</td>\n",
       "      <td>145.5</td>\n",
       "      <td>98000</td>\n",
       "      <td>98052.0</td>\n",
       "      <td>Multifamily Housing</td>\n",
       "      <td>1.0</td>\n",
       "    </tr>\n",
       "  </tbody>\n",
       "</table>\n",
       "<p>5 rows × 25 columns</p>\n",
       "</div>"
      ],
      "text/plain": [
       "   Record Number  NYC Borough, Block, and Lot (BBL) Co-reported BBL Status  \\\n",
       "0          16099                       4.084010e+09                    NaN   \n",
       "1            500                       1.005050e+09                    NaN   \n",
       "2           5017                       1.021420e+09                    NaN   \n",
       "3           5116                       1.021750e+09                    NaN   \n",
       "4            363                       1.003360e+09                    NaN   \n",
       "\n",
       "  BBLs Co-reported Reported NYC Building Identificaiton Numbers (BINs)  \\\n",
       "0       4084010096                                            4453435    \n",
       "1       1005050001                                            1007817    \n",
       "2       1021420100                                            1063495    \n",
       "3       1021750080                                            1064235    \n",
       "4       1003360005                                            1088884    \n",
       "\n",
       "  Street Number        Street Name    Borough  Zip Code  \\\n",
       "0           NaN                NaN     Queens       NaN   \n",
       "1           150      VARICK STREET  Manhattan   10013.0   \n",
       "2          4079           BROADWAY  Manhattan   10032.0   \n",
       "3            60     SHERMAN AVENUE  Manhattan   10040.0   \n",
       "4            16  BIALYSTOKER PLACE  Manhattan   10002.0   \n",
       "\n",
       "  DOF Benchmarking Submission Status  ...  \\\n",
       "0      Not on Covered Buildings List  ...   \n",
       "1                              Filed  ...   \n",
       "2                              Filed  ...   \n",
       "3                              Filed  ...   \n",
       "4                              Filed  ...   \n",
       "\n",
       "  Automatic Water Benchmarking Eligible Reported Water Method  \\\n",
       "0                                   NaN                  None   \n",
       "1                                   Yes                   ABS   \n",
       "2                                    No                  None   \n",
       "3                                    No                  None   \n",
       "4                                    No                  None   \n",
       "\n",
       "  ENERGY STAR Score Total GHG Emissions Direct GHG Emissions\\n(MtCO2e)  \\\n",
       "0     Not Available               966.7                          806.6   \n",
       "1                44              1392.3                          337.9   \n",
       "2     Not Available               673.6                          541.8   \n",
       "3     Not Available                 485                            403   \n",
       "4     Not Available               435.5                            290   \n",
       "\n",
       "  Indirect GHG Emissions\\n(MtCO2e)  \\\n",
       "0                            160.1   \n",
       "1                           1054.4   \n",
       "2                            131.8   \n",
       "3                               82   \n",
       "4                            145.5   \n",
       "\n",
       "  Reported Property Floor Area (Building(s)) (ft²)  \\\n",
       "0                                            91968   \n",
       "1                                           235370   \n",
       "2                                            64806   \n",
       "3                                            62839   \n",
       "4                                            98000   \n",
       "\n",
       "  DOF Property Floor Area (Buildngs and Parking)\\n(ft2)  \\\n",
       "0                                                NaN      \n",
       "1                                           214110.0      \n",
       "2                                            64816.0      \n",
       "3                                            62847.0      \n",
       "4                                            98052.0      \n",
       "\n",
       "  Primary Property Type - Self Selected DOF Number of Buildings  \n",
       "0                   Multifamily Housing                     NaN  \n",
       "1                   Distribution Center                     1.0  \n",
       "2                   Multifamily Housing                     1.0  \n",
       "3                   Multifamily Housing                     1.0  \n",
       "4                   Multifamily Housing                     1.0  \n",
       "\n",
       "[5 rows x 25 columns]"
      ]
     },
     "execution_count": 3,
     "metadata": {},
     "output_type": "execute_result"
    }
   ],
   "source": [
    "df0 = pd.read_excel('2014.xlsx') # Чтение таблицы из эксель файла в датафрейм \n",
    "df0.head() # Смотрим первые пять строк датафрейма"
   ]
  },
  {
   "cell_type": "code",
   "execution_count": 4,
   "metadata": {},
   "outputs": [
    {
     "data": {
      "text/plain": [
       "Index(['Record Number', 'NYC Borough, Block, and Lot (BBL)',\n",
       "       'Co-reported BBL Status', 'BBLs Co-reported',\n",
       "       'Reported NYC Building Identificaiton Numbers (BINs)', 'Street Number',\n",
       "       'Street Name', 'Borough', 'Zip Code',\n",
       "       'DOF Benchmarking Submission Status', 'Site EUI',\n",
       "       'Weather Normalized Site EUI', 'Source EUI',\n",
       "       'Weather Normalized Source EUI',\n",
       "       'Municipally Supplied Potable Water - Indoor Intensity',\n",
       "       'Automatic Water Benchmarking Eligible', 'Reported Water Method',\n",
       "       'ENERGY STAR Score', 'Total GHG Emissions',\n",
       "       'Direct GHG Emissions\\n(MtCO2e)', 'Indirect GHG Emissions\\n(MtCO2e)',\n",
       "       'Reported Property Floor Area (Building(s)) (ft²)',\n",
       "       'DOF Property Floor Area (Buildngs and Parking)\\n(ft2)',\n",
       "       'Primary Property Type - Self Selected', 'DOF Number of Buildings'],\n",
       "      dtype='object')"
      ]
     },
     "execution_count": 4,
     "metadata": {},
     "output_type": "execute_result"
    }
   ],
   "source": [
    "# выводим имена столбцов таблицы\n",
    "df0.columns "
   ]
  },
  {
   "cell_type": "code",
   "execution_count": 5,
   "metadata": {},
   "outputs": [
    {
     "data": {
      "text/plain": [
       "(16170, 25)"
      ]
     },
     "execution_count": 5,
     "metadata": {},
     "output_type": "execute_result"
    }
   ],
   "source": [
    "df0.shape"
   ]
  },
  {
   "cell_type": "code",
   "execution_count": 6,
   "metadata": {},
   "outputs": [],
   "source": [
    "# Cчитываем в новый датафрейм данные, которые нам нужны по варианту и еще пару \n",
    "df = df0[['Record Number', \n",
    "          'Co-reported BBL Status','Reported NYC Building Identificaiton Numbers (BINs)', 'Site EUI',\n",
    "          'Weather Normalized Source EUI', 'Municipally Supplied Potable Water - Indoor Intensity',\n",
    "          'Primary Property Type - Self Selected','Total GHG Emissions',\n",
    "          'ENERGY STAR Score']]"
   ]
  },
  {
   "cell_type": "code",
   "execution_count": 7,
   "metadata": {},
   "outputs": [
    {
     "data": {
      "text/html": [
       "<div>\n",
       "<style scoped>\n",
       "    .dataframe tbody tr th:only-of-type {\n",
       "        vertical-align: middle;\n",
       "    }\n",
       "\n",
       "    .dataframe tbody tr th {\n",
       "        vertical-align: top;\n",
       "    }\n",
       "\n",
       "    .dataframe thead th {\n",
       "        text-align: right;\n",
       "    }\n",
       "</style>\n",
       "<table border=\"1\" class=\"dataframe\">\n",
       "  <thead>\n",
       "    <tr style=\"text-align: right;\">\n",
       "      <th></th>\n",
       "      <th>Record Number</th>\n",
       "      <th>Co-reported BBL Status</th>\n",
       "      <th>Reported NYC Building Identificaiton Numbers (BINs)</th>\n",
       "      <th>Site EUI</th>\n",
       "      <th>Weather Normalized Source EUI</th>\n",
       "      <th>Municipally Supplied Potable Water - Indoor Intensity</th>\n",
       "      <th>Primary Property Type - Self Selected</th>\n",
       "      <th>Total GHG Emissions</th>\n",
       "      <th>ENERGY STAR Score</th>\n",
       "    </tr>\n",
       "  </thead>\n",
       "  <tbody>\n",
       "    <tr>\n",
       "      <th>0</th>\n",
       "      <td>16099</td>\n",
       "      <td>NaN</td>\n",
       "      <td>4453435</td>\n",
       "      <td>180.5</td>\n",
       "      <td>231.8</td>\n",
       "      <td>Not Available</td>\n",
       "      <td>Multifamily Housing</td>\n",
       "      <td>966.7</td>\n",
       "      <td>Not Available</td>\n",
       "    </tr>\n",
       "    <tr>\n",
       "      <th>1</th>\n",
       "      <td>500</td>\n",
       "      <td>NaN</td>\n",
       "      <td>1007817</td>\n",
       "      <td>82.1</td>\n",
       "      <td>201.2</td>\n",
       "      <td>8.71</td>\n",
       "      <td>Distribution Center</td>\n",
       "      <td>1392.3</td>\n",
       "      <td>44</td>\n",
       "    </tr>\n",
       "    <tr>\n",
       "      <th>2</th>\n",
       "      <td>5017</td>\n",
       "      <td>NaN</td>\n",
       "      <td>1063495</td>\n",
       "      <td>137.7</td>\n",
       "      <td>192.1</td>\n",
       "      <td>Not Available</td>\n",
       "      <td>Multifamily Housing</td>\n",
       "      <td>673.6</td>\n",
       "      <td>Not Available</td>\n",
       "    </tr>\n",
       "    <tr>\n",
       "      <th>3</th>\n",
       "      <td>5116</td>\n",
       "      <td>NaN</td>\n",
       "      <td>1064235</td>\n",
       "      <td>103.2</td>\n",
       "      <td>138.2</td>\n",
       "      <td>Not Available</td>\n",
       "      <td>Multifamily Housing</td>\n",
       "      <td>485</td>\n",
       "      <td>Not Available</td>\n",
       "    </tr>\n",
       "    <tr>\n",
       "      <th>4</th>\n",
       "      <td>363</td>\n",
       "      <td>NaN</td>\n",
       "      <td>1088884</td>\n",
       "      <td>74</td>\n",
       "      <td>115.8</td>\n",
       "      <td>Not Available</td>\n",
       "      <td>Multifamily Housing</td>\n",
       "      <td>435.5</td>\n",
       "      <td>Not Available</td>\n",
       "    </tr>\n",
       "  </tbody>\n",
       "</table>\n",
       "</div>"
      ],
      "text/plain": [
       "   Record Number Co-reported BBL Status  \\\n",
       "0          16099                    NaN   \n",
       "1            500                    NaN   \n",
       "2           5017                    NaN   \n",
       "3           5116                    NaN   \n",
       "4            363                    NaN   \n",
       "\n",
       "  Reported NYC Building Identificaiton Numbers (BINs) Site EUI  \\\n",
       "0                                            4453435     180.5   \n",
       "1                                            1007817      82.1   \n",
       "2                                            1063495     137.7   \n",
       "3                                            1064235     103.2   \n",
       "4                                            1088884        74   \n",
       "\n",
       "  Weather Normalized Source EUI  \\\n",
       "0                         231.8   \n",
       "1                         201.2   \n",
       "2                         192.1   \n",
       "3                         138.2   \n",
       "4                         115.8   \n",
       "\n",
       "  Municipally Supplied Potable Water - Indoor Intensity  \\\n",
       "0                                      Not Available      \n",
       "1                                               8.71      \n",
       "2                                      Not Available      \n",
       "3                                      Not Available      \n",
       "4                                      Not Available      \n",
       "\n",
       "  Primary Property Type - Self Selected Total GHG Emissions ENERGY STAR Score  \n",
       "0                   Multifamily Housing               966.7     Not Available  \n",
       "1                   Distribution Center              1392.3                44  \n",
       "2                   Multifamily Housing               673.6     Not Available  \n",
       "3                   Multifamily Housing                 485     Not Available  \n",
       "4                   Multifamily Housing               435.5     Not Available  "
      ]
     },
     "execution_count": 7,
     "metadata": {},
     "output_type": "execute_result"
    }
   ],
   "source": [
    "df.head()"
   ]
  },
  {
   "cell_type": "code",
   "execution_count": null,
   "metadata": {},
   "outputs": [],
   "source": []
  },
  {
   "cell_type": "code",
   "execution_count": 8,
   "metadata": {},
   "outputs": [
    {
     "name": "stdout",
     "output_type": "stream",
     "text": [
      "<class 'pandas.core.frame.DataFrame'>\n",
      "RangeIndex: 16170 entries, 0 to 16169\n",
      "Data columns (total 9 columns):\n",
      " #   Column                                                 Non-Null Count  Dtype \n",
      "---  ------                                                 --------------  ----- \n",
      " 0   Record Number                                          16170 non-null  int64 \n",
      " 1   Co-reported BBL Status                                 912 non-null    object\n",
      " 2   Reported NYC Building Identificaiton Numbers (BINs)    13790 non-null  object\n",
      " 3   Site EUI                                               12204 non-null  object\n",
      " 4   Weather Normalized Source EUI                          13790 non-null  object\n",
      " 5   Municipally Supplied Potable Water - Indoor Intensity  13790 non-null  object\n",
      " 6   Primary Property Type - Self Selected                  13133 non-null  object\n",
      " 7   Total GHG Emissions                                    12380 non-null  object\n",
      " 8   ENERGY STAR Score                                      13790 non-null  object\n",
      "dtypes: int64(1), object(8)\n",
      "memory usage: 1.1+ MB\n"
     ]
    }
   ],
   "source": [
    "df.info()"
   ]
  },
  {
   "cell_type": "code",
   "execution_count": null,
   "metadata": {},
   "outputs": [],
   "source": []
  },
  {
   "cell_type": "code",
   "execution_count": 9,
   "metadata": {},
   "outputs": [
    {
     "name": "stderr",
     "output_type": "stream",
     "text": [
      "<ipython-input-9-3146102642bd>:3: SettingWithCopyWarning: \n",
      "A value is trying to be set on a copy of a slice from a DataFrame.\n",
      "Try using .loc[row_indexer,col_indexer] = value instead\n",
      "\n",
      "See the caveats in the documentation: https://pandas.pydata.org/pandas-docs/stable/user_guide/indexing.html#returning-a-view-versus-a-copy\n",
      "  df['ENERGY STAR Score']  = pd.to_numeric(df['ENERGY STAR Score'], errors='coerce')\n"
     ]
    }
   ],
   "source": [
    " # Приводим Energy star score к числовому виду и второй строкой удаляем наны в целевой переменной\n",
    "\n",
    "df['ENERGY STAR Score']  = pd.to_numeric(df['ENERGY STAR Score'], errors='coerce')\n",
    "df = df.dropna(subset=['ENERGY STAR Score'])"
   ]
  },
  {
   "cell_type": "code",
   "execution_count": 10,
   "metadata": {},
   "outputs": [
    {
     "name": "stdout",
     "output_type": "stream",
     "text": [
      "<class 'pandas.core.frame.DataFrame'>\n",
      "Int64Index: 2032 entries, 1 to 13783\n",
      "Data columns (total 9 columns):\n",
      " #   Column                                                 Non-Null Count  Dtype  \n",
      "---  ------                                                 --------------  -----  \n",
      " 0   Record Number                                          2032 non-null   int64  \n",
      " 1   Co-reported BBL Status                                 7 non-null      object \n",
      " 2   Reported NYC Building Identificaiton Numbers (BINs)    2032 non-null   object \n",
      " 3   Site EUI                                               2032 non-null   object \n",
      " 4   Weather Normalized Source EUI                          2032 non-null   object \n",
      " 5   Municipally Supplied Potable Water - Indoor Intensity  2032 non-null   object \n",
      " 6   Primary Property Type - Self Selected                  2032 non-null   object \n",
      " 7   Total GHG Emissions                                    2029 non-null   object \n",
      " 8   ENERGY STAR Score                                      2032 non-null   float64\n",
      "dtypes: float64(1), int64(1), object(7)\n",
      "memory usage: 158.8+ KB\n"
     ]
    }
   ],
   "source": [
    "# Выводим информацию о датафрейме\n",
    "df.info()"
   ]
  },
  {
   "cell_type": "code",
   "execution_count": null,
   "metadata": {},
   "outputs": [],
   "source": []
  },
  {
   "cell_type": "code",
   "execution_count": null,
   "metadata": {},
   "outputs": [],
   "source": []
  },
  {
   "cell_type": "code",
   "execution_count": 11,
   "metadata": {},
   "outputs": [],
   "source": [
    "# Удаляем эти столбцы потому что это ID-шники и никакой информации для регрессора они не принесут\n",
    "df = df.drop('Co-reported BBL Status', axis = 1)\n",
    "df = df.drop('Record Number', axis = 1)\n",
    "df = df.drop('Reported NYC Building Identificaiton Numbers (BINs)', axis = 1)"
   ]
  },
  {
   "cell_type": "code",
   "execution_count": null,
   "metadata": {},
   "outputs": [],
   "source": []
  },
  {
   "cell_type": "code",
   "execution_count": 12,
   "metadata": {},
   "outputs": [
    {
     "data": {
      "text/html": [
       "<div>\n",
       "<style scoped>\n",
       "    .dataframe tbody tr th:only-of-type {\n",
       "        vertical-align: middle;\n",
       "    }\n",
       "\n",
       "    .dataframe tbody tr th {\n",
       "        vertical-align: top;\n",
       "    }\n",
       "\n",
       "    .dataframe thead th {\n",
       "        text-align: right;\n",
       "    }\n",
       "</style>\n",
       "<table border=\"1\" class=\"dataframe\">\n",
       "  <thead>\n",
       "    <tr style=\"text-align: right;\">\n",
       "      <th></th>\n",
       "      <th>Site EUI</th>\n",
       "      <th>Weather Normalized Source EUI</th>\n",
       "      <th>Municipally Supplied Potable Water - Indoor Intensity</th>\n",
       "      <th>Primary Property Type - Self Selected</th>\n",
       "      <th>Total GHG Emissions</th>\n",
       "      <th>ENERGY STAR Score</th>\n",
       "    </tr>\n",
       "  </thead>\n",
       "  <tbody>\n",
       "    <tr>\n",
       "      <th>1</th>\n",
       "      <td>82.1</td>\n",
       "      <td>201.2</td>\n",
       "      <td>8.71</td>\n",
       "      <td>Distribution Center</td>\n",
       "      <td>1392.3</td>\n",
       "      <td>44.0</td>\n",
       "    </tr>\n",
       "    <tr>\n",
       "      <th>5</th>\n",
       "      <td>36.4</td>\n",
       "      <td>80.8</td>\n",
       "      <td>Not Available</td>\n",
       "      <td>Office</td>\n",
       "      <td>133.7</td>\n",
       "      <td>98.0</td>\n",
       "    </tr>\n",
       "    <tr>\n",
       "      <th>7</th>\n",
       "      <td>130</td>\n",
       "      <td>257.3</td>\n",
       "      <td>22.89</td>\n",
       "      <td>Office</td>\n",
       "      <td>1965.4</td>\n",
       "      <td>57.0</td>\n",
       "    </tr>\n",
       "    <tr>\n",
       "      <th>11</th>\n",
       "      <td>15.7</td>\n",
       "      <td>23.5</td>\n",
       "      <td>Not Available</td>\n",
       "      <td>Hotel</td>\n",
       "      <td>52.4</td>\n",
       "      <td>100.0</td>\n",
       "    </tr>\n",
       "    <tr>\n",
       "      <th>15</th>\n",
       "      <td>79.1</td>\n",
       "      <td>175.2</td>\n",
       "      <td>8.77</td>\n",
       "      <td>Office</td>\n",
       "      <td>653.6</td>\n",
       "      <td>74.0</td>\n",
       "    </tr>\n",
       "  </tbody>\n",
       "</table>\n",
       "</div>"
      ],
      "text/plain": [
       "   Site EUI Weather Normalized Source EUI  \\\n",
       "1      82.1                         201.2   \n",
       "5      36.4                          80.8   \n",
       "7       130                         257.3   \n",
       "11     15.7                          23.5   \n",
       "15     79.1                         175.2   \n",
       "\n",
       "   Municipally Supplied Potable Water - Indoor Intensity  \\\n",
       "1                                                8.71      \n",
       "5                                       Not Available      \n",
       "7                                               22.89      \n",
       "11                                      Not Available      \n",
       "15                                               8.77      \n",
       "\n",
       "   Primary Property Type - Self Selected Total GHG Emissions  \\\n",
       "1                    Distribution Center              1392.3   \n",
       "5                                 Office               133.7   \n",
       "7                                 Office              1965.4   \n",
       "11                                 Hotel                52.4   \n",
       "15                                Office               653.6   \n",
       "\n",
       "    ENERGY STAR Score  \n",
       "1                44.0  \n",
       "5                98.0  \n",
       "7                57.0  \n",
       "11              100.0  \n",
       "15               74.0  "
      ]
     },
     "execution_count": 12,
     "metadata": {},
     "output_type": "execute_result"
    }
   ],
   "source": [
    "df.head()"
   ]
  },
  {
   "cell_type": "code",
   "execution_count": null,
   "metadata": {},
   "outputs": [],
   "source": []
  },
  {
   "cell_type": "code",
   "execution_count": 13,
   "metadata": {},
   "outputs": [],
   "source": [
    "# приводим каждое значение в данных столбцах к числовому виду. Если не получается, то заменяем NaN\n",
    "df['Site EUI']  = pd.to_numeric(df['Site EUI'], errors='coerce')\n",
    "df['Weather Normalized Source EUI']  = pd.to_numeric(df['Weather Normalized Source EUI'], errors='coerce')\n",
    "df['Municipally Supplied Potable Water - Indoor Intensity'] = pd.to_numeric(df['Municipally Supplied Potable Water - Indoor Intensity'], errors='coerce')\n",
    "df['Total GHG Emissions']  = pd.to_numeric(df['Total GHG Emissions'], errors='coerce')"
   ]
  },
  {
   "cell_type": "code",
   "execution_count": 14,
   "metadata": {},
   "outputs": [
    {
     "name": "stdout",
     "output_type": "stream",
     "text": [
      "<class 'pandas.core.frame.DataFrame'>\n",
      "Int64Index: 2032 entries, 1 to 13783\n",
      "Data columns (total 6 columns):\n",
      " #   Column                                                 Non-Null Count  Dtype  \n",
      "---  ------                                                 --------------  -----  \n",
      " 0   Site EUI                                               2032 non-null   float64\n",
      " 1   Weather Normalized Source EUI                          1599 non-null   float64\n",
      " 2   Municipally Supplied Potable Water - Indoor Intensity  668 non-null    float64\n",
      " 3   Primary Property Type - Self Selected                  2032 non-null   object \n",
      " 4   Total GHG Emissions                                    2029 non-null   float64\n",
      " 5   ENERGY STAR Score                                      2032 non-null   float64\n",
      "dtypes: float64(5), object(1)\n",
      "memory usage: 111.1+ KB\n"
     ]
    }
   ],
   "source": [
    "df.info()"
   ]
  },
  {
   "cell_type": "code",
   "execution_count": 15,
   "metadata": {},
   "outputs": [],
   "source": [
    "#  удаляем столбец потому что в нем слишком много NaN\n",
    "df = df.drop('Municipally Supplied Potable Water - Indoor Intensity', axis = 1)"
   ]
  },
  {
   "cell_type": "code",
   "execution_count": 16,
   "metadata": {},
   "outputs": [
    {
     "data": {
      "text/html": [
       "<div>\n",
       "<style scoped>\n",
       "    .dataframe tbody tr th:only-of-type {\n",
       "        vertical-align: middle;\n",
       "    }\n",
       "\n",
       "    .dataframe tbody tr th {\n",
       "        vertical-align: top;\n",
       "    }\n",
       "\n",
       "    .dataframe thead th {\n",
       "        text-align: right;\n",
       "    }\n",
       "</style>\n",
       "<table border=\"1\" class=\"dataframe\">\n",
       "  <thead>\n",
       "    <tr style=\"text-align: right;\">\n",
       "      <th></th>\n",
       "      <th>Site EUI</th>\n",
       "      <th>Weather Normalized Source EUI</th>\n",
       "      <th>Primary Property Type - Self Selected</th>\n",
       "      <th>Total GHG Emissions</th>\n",
       "      <th>ENERGY STAR Score</th>\n",
       "    </tr>\n",
       "  </thead>\n",
       "  <tbody>\n",
       "    <tr>\n",
       "      <th>1</th>\n",
       "      <td>82.1</td>\n",
       "      <td>201.2</td>\n",
       "      <td>Distribution Center</td>\n",
       "      <td>1392.3</td>\n",
       "      <td>44.0</td>\n",
       "    </tr>\n",
       "    <tr>\n",
       "      <th>5</th>\n",
       "      <td>36.4</td>\n",
       "      <td>80.8</td>\n",
       "      <td>Office</td>\n",
       "      <td>133.7</td>\n",
       "      <td>98.0</td>\n",
       "    </tr>\n",
       "    <tr>\n",
       "      <th>7</th>\n",
       "      <td>130.0</td>\n",
       "      <td>257.3</td>\n",
       "      <td>Office</td>\n",
       "      <td>1965.4</td>\n",
       "      <td>57.0</td>\n",
       "    </tr>\n",
       "    <tr>\n",
       "      <th>11</th>\n",
       "      <td>15.7</td>\n",
       "      <td>23.5</td>\n",
       "      <td>Hotel</td>\n",
       "      <td>52.4</td>\n",
       "      <td>100.0</td>\n",
       "    </tr>\n",
       "    <tr>\n",
       "      <th>15</th>\n",
       "      <td>79.1</td>\n",
       "      <td>175.2</td>\n",
       "      <td>Office</td>\n",
       "      <td>653.6</td>\n",
       "      <td>74.0</td>\n",
       "    </tr>\n",
       "  </tbody>\n",
       "</table>\n",
       "</div>"
      ],
      "text/plain": [
       "    Site EUI  Weather Normalized Source EUI  \\\n",
       "1       82.1                          201.2   \n",
       "5       36.4                           80.8   \n",
       "7      130.0                          257.3   \n",
       "11      15.7                           23.5   \n",
       "15      79.1                          175.2   \n",
       "\n",
       "   Primary Property Type - Self Selected  Total GHG Emissions  \\\n",
       "1                    Distribution Center               1392.3   \n",
       "5                                 Office                133.7   \n",
       "7                                 Office               1965.4   \n",
       "11                                 Hotel                 52.4   \n",
       "15                                Office                653.6   \n",
       "\n",
       "    ENERGY STAR Score  \n",
       "1                44.0  \n",
       "5                98.0  \n",
       "7                57.0  \n",
       "11              100.0  \n",
       "15               74.0  "
      ]
     },
     "execution_count": 16,
     "metadata": {},
     "output_type": "execute_result"
    }
   ],
   "source": [
    "df.head()"
   ]
  },
  {
   "cell_type": "code",
   "execution_count": null,
   "metadata": {},
   "outputs": [],
   "source": []
  },
  {
   "cell_type": "code",
   "execution_count": 17,
   "metadata": {},
   "outputs": [
    {
     "name": "stdout",
     "output_type": "stream",
     "text": [
      "<class 'pandas.core.frame.DataFrame'>\n",
      "Int64Index: 2032 entries, 1 to 13783\n",
      "Data columns (total 5 columns):\n",
      " #   Column                                 Non-Null Count  Dtype  \n",
      "---  ------                                 --------------  -----  \n",
      " 0   Site EUI                               2032 non-null   float64\n",
      " 1   Weather Normalized Source EUI          1599 non-null   float64\n",
      " 2   Primary Property Type - Self Selected  2032 non-null   object \n",
      " 3   Total GHG Emissions                    2029 non-null   float64\n",
      " 4   ENERGY STAR Score                      2032 non-null   float64\n",
      "dtypes: float64(4), object(1)\n",
      "memory usage: 95.2+ KB\n"
     ]
    }
   ],
   "source": [
    "df.info()"
   ]
  },
  {
   "cell_type": "code",
   "execution_count": null,
   "metadata": {},
   "outputs": [],
   "source": []
  },
  {
   "cell_type": "code",
   "execution_count": 18,
   "metadata": {},
   "outputs": [],
   "source": [
    "# заполняем пропущенные значения в столбце средним значением для этого столбца\n",
    "df['Total GHG Emissions'].fillna(df['Total GHG Emissions'].mean(), inplace = True)\n",
    "df['Weather Normalized Source EUI'].fillna(df['Weather Normalized Source EUI'].mean(), inplace = True)"
   ]
  },
  {
   "cell_type": "code",
   "execution_count": 19,
   "metadata": {},
   "outputs": [
    {
     "name": "stdout",
     "output_type": "stream",
     "text": [
      "<class 'pandas.core.frame.DataFrame'>\n",
      "Int64Index: 2032 entries, 1 to 13783\n",
      "Data columns (total 5 columns):\n",
      " #   Column                                 Non-Null Count  Dtype  \n",
      "---  ------                                 --------------  -----  \n",
      " 0   Site EUI                               2032 non-null   float64\n",
      " 1   Weather Normalized Source EUI          2032 non-null   float64\n",
      " 2   Primary Property Type - Self Selected  2032 non-null   object \n",
      " 3   Total GHG Emissions                    2032 non-null   float64\n",
      " 4   ENERGY STAR Score                      2032 non-null   float64\n",
      "dtypes: float64(4), object(1)\n",
      "memory usage: 95.2+ KB\n"
     ]
    }
   ],
   "source": [
    "df.info()"
   ]
  },
  {
   "cell_type": "code",
   "execution_count": 20,
   "metadata": {},
   "outputs": [
    {
     "data": {
      "text/plain": [
       "array([[<AxesSubplot:xlabel='Site EUI', ylabel='Site EUI'>,\n",
       "        <AxesSubplot:xlabel='Weather Normalized Source EUI', ylabel='Site EUI'>,\n",
       "        <AxesSubplot:xlabel='Total GHG Emissions', ylabel='Site EUI'>,\n",
       "        <AxesSubplot:xlabel='ENERGY STAR Score', ylabel='Site EUI'>],\n",
       "       [<AxesSubplot:xlabel='Site EUI', ylabel='Weather Normalized Source EUI'>,\n",
       "        <AxesSubplot:xlabel='Weather Normalized Source EUI', ylabel='Weather Normalized Source EUI'>,\n",
       "        <AxesSubplot:xlabel='Total GHG Emissions', ylabel='Weather Normalized Source EUI'>,\n",
       "        <AxesSubplot:xlabel='ENERGY STAR Score', ylabel='Weather Normalized Source EUI'>],\n",
       "       [<AxesSubplot:xlabel='Site EUI', ylabel='Total GHG Emissions'>,\n",
       "        <AxesSubplot:xlabel='Weather Normalized Source EUI', ylabel='Total GHG Emissions'>,\n",
       "        <AxesSubplot:xlabel='Total GHG Emissions', ylabel='Total GHG Emissions'>,\n",
       "        <AxesSubplot:xlabel='ENERGY STAR Score', ylabel='Total GHG Emissions'>],\n",
       "       [<AxesSubplot:xlabel='Site EUI', ylabel='ENERGY STAR Score'>,\n",
       "        <AxesSubplot:xlabel='Weather Normalized Source EUI', ylabel='ENERGY STAR Score'>,\n",
       "        <AxesSubplot:xlabel='Total GHG Emissions', ylabel='ENERGY STAR Score'>,\n",
       "        <AxesSubplot:xlabel='ENERGY STAR Score', ylabel='ENERGY STAR Score'>]],\n",
       "      dtype=object)"
      ]
     },
     "execution_count": 20,
     "metadata": {},
     "output_type": "execute_result"
    },
    {
     "data": {
      "image/png": "[encoded data removed]",
      "text/plain": [
       "<Figure size 1152x1152 with 16 Axes>"
      ]
     },
     "metadata": {
      "needs_background": "light"
     },
     "output_type": "display_data"
    }
   ],
   "source": [
    "# строим график распределения одного параметра относительно другого\n",
    "from pandas.plotting import scatter_matrix\n",
    "scatter_matrix(df, alpha=0.05, figsize=(16, 16))"
   ]
  },
  {
   "cell_type": "code",
   "execution_count": 21,
   "metadata": {},
   "outputs": [
    {
     "data": {
      "text/plain": [
       "Office                                   1133\n",
       "Hotel                                     176\n",
       "Non-Refrigerated Warehouse                149\n",
       "Residence Hall/Dormitory                  111\n",
       "Senior Care Community                     100\n",
       "K-12 School                                85\n",
       "Retail Store                               81\n",
       "Distribution Center                        56\n",
       "Hospital (General Medical & Surgical)      45\n",
       "Medical Office                             29\n",
       "Worship Facility                           15\n",
       "Supermarket/Grocery Store                  15\n",
       "Financial Office                           13\n",
       "Refrigerated Warehouse                      9\n",
       "Strip Mall                                  4\n",
       "Parking                                     2\n",
       "Multifamily Housing                         2\n",
       "Other                                       2\n",
       "Data Center                                 2\n",
       "Bank Branch                                 1\n",
       "Social/Meeting Hall                         1\n",
       "Mixed Use Property                          1\n",
       "Name: Primary Property Type - Self Selected, dtype: int64"
      ]
     },
     "execution_count": 21,
     "metadata": {},
     "output_type": "execute_result"
    }
   ],
   "source": [
    "# Считаем кол-во встречающихся значений для данного столбца\n",
    "df['Primary Property Type - Self Selected'].value_counts()"
   ]
  },
  {
   "cell_type": "code",
   "execution_count": 22,
   "metadata": {},
   "outputs": [],
   "source": [
    "# Кодируем ONE-HOT CODING\n",
    "ohc_ppt = pd.get_dummies(df['Primary Property Type - Self Selected'])"
   ]
  },
  {
   "cell_type": "code",
   "execution_count": null,
   "metadata": {},
   "outputs": [],
   "source": []
  },
  {
   "cell_type": "code",
   "execution_count": 23,
   "metadata": {},
   "outputs": [],
   "source": [
    "# Выкидываем из нашей пандосовской таблицы столбец Primary Property Type\n",
    "df = df.drop(['Primary Property Type - Self Selected'], axis=1)\n",
    "\n",
    "# Объединяем наш датафрейм с таблицей Ван хот кодирования районов \n",
    "df = pd.concat([df, ohc_ppt], axis = 1)"
   ]
  },
  {
   "cell_type": "code",
   "execution_count": null,
   "metadata": {},
   "outputs": [],
   "source": []
  },
  {
   "cell_type": "code",
   "execution_count": 24,
   "metadata": {},
   "outputs": [
    {
     "data": {
      "text/plain": [
       "(2032, 26)"
      ]
     },
     "execution_count": 24,
     "metadata": {},
     "output_type": "execute_result"
    }
   ],
   "source": [
    "df.shape"
   ]
  },
  {
   "cell_type": "code",
   "execution_count": null,
   "metadata": {},
   "outputs": [],
   "source": []
  },
  {
   "cell_type": "markdown",
   "metadata": {},
   "source": [
    "# Обучение"
   ]
  },
  {
   "cell_type": "code",
   "execution_count": 25,
   "metadata": {},
   "outputs": [],
   "source": [
    "from sklearn.tree import DecisionTreeClassifier\n",
    "from sklearn.model_selection import train_test_split\n",
    "from sklearn import metrics"
   ]
  },
  {
   "cell_type": "code",
   "execution_count": 26,
   "metadata": {},
   "outputs": [],
   "source": [
    "# присваеваем переменной labels столбец Energy star Score\n",
    "# создаем новую таблицу data, копируя df без столбца Energy star Score\n",
    "labels = df['ENERGY STAR Score']\n",
    "data = df.drop(['ENERGY STAR Score'], axis=1)"
   ]
  },
  {
   "cell_type": "code",
   "execution_count": 27,
   "metadata": {},
   "outputs": [
    {
     "name": "stderr",
     "output_type": "stream",
     "text": [
      "/Users/igor/anaconda3/lib/python3.8/site-packages/pandas/core/indexing.py:670: SettingWithCopyWarning: \n",
      "A value is trying to be set on a copy of a slice from a DataFrame\n",
      "\n",
      "See the caveats in the documentation: https://pandas.pydata.org/pandas-docs/stable/user_guide/indexing.html#returning-a-view-versus-a-copy\n",
      "  iloc._setitem_with_indexer(indexer, value)\n",
      "/Users/igor/anaconda3/lib/python3.8/site-packages/pandas/core/indexing.py:670: SettingWithCopyWarning: \n",
      "A value is trying to be set on a copy of a slice from a DataFrame\n",
      "\n",
      "See the caveats in the documentation: https://pandas.pydata.org/pandas-docs/stable/user_guide/indexing.html#returning-a-view-versus-a-copy\n",
      "  iloc._setitem_with_indexer(indexer, value)\n"
     ]
    }
   ],
   "source": [
    "# По заданию меняем значения в лейблы на метки класса (0, 1) ПОТОМУ ЧТО В ЗДЕСЬ ЗАДАЧА КЛАССИФИКАЦИИ, А НЕ РЕГРЕССИИ\n",
    "# в регрессии мы предсказываем число, а в классификации метку класса\n",
    "\n",
    "labels.loc[labels < 70] = 0\n",
    "labels.loc[labels >= 70] = 1"
   ]
  },
  {
   "cell_type": "code",
   "execution_count": 28,
   "metadata": {},
   "outputs": [
    {
     "name": "stdout",
     "output_type": "stream",
     "text": [
      "(1422, 25)\n",
      "(610, 25)\n",
      "(1422,)\n",
      "(610,)\n"
     ]
    }
   ],
   "source": [
    "# делим нашу выборку на тренировочную и проверочные в соотношении 70 на 30\n",
    "X_train, X_test, y_train, y_test = train_test_split(data, labels, \n",
    "                                                   test_size = 0.3,\n",
    "                                                   random_state = 42)\n",
    "\n",
    "print(X_train.shape)\n",
    "print(X_test.shape)\n",
    "print(y_train.shape)\n",
    "print(y_test.shape)"
   ]
  },
  {
   "cell_type": "code",
   "execution_count": 29,
   "metadata": {},
   "outputs": [],
   "source": [
    "# строим график зависимости точности от параметра по варианту. Параметр по варианту - min_samples_leaf\n",
    "# (минимальное число объектов в листе. По дефолту 1)\n",
    "tochnost = [] # массив для хранения точности предсказаний дерева\n",
    "n = [] # массив для хранения кол-ва объектов в листе (min_samples_leaf)\n",
    "\n",
    "for i in range (1, 15):\n",
    "    tree = DecisionTreeClassifier(min_samples_leaf=i,random_state = 17)\n",
    "    tree.fit(X_train, y_train)\n",
    "    tree.score(X_test, y_test)\n",
    "    predictions = tree.predict(X_test)\n",
    "    tochnost.append(metrics.accuracy_score(y_test, predictions))\n",
    "    n.append(i)"
   ]
  },
  {
   "cell_type": "code",
   "execution_count": 30,
   "metadata": {},
   "outputs": [
    {
     "data": {
      "text/plain": [
       "[<matplotlib.lines.Line2D at 0x7f99ce6def10>]"
      ]
     },
     "execution_count": 30,
     "metadata": {},
     "output_type": "execute_result"
    },
    {
     "data": {
      "image/png": "[encoded data removed]",
      "text/plain": [
       "<Figure size 432x288 with 1 Axes>"
      ]
     },
     "metadata": {
      "needs_background": "light"
     },
     "output_type": "display_data"
    }
   ],
   "source": [
    "plt.plot(n, tochnost)"
   ]
  },
  {
   "cell_type": "code",
   "execution_count": 31,
   "metadata": {},
   "outputs": [
    {
     "data": {
      "text/plain": [
       "1868     0.0\n",
       "3845     1.0\n",
       "1325     0.0\n",
       "1453     0.0\n",
       "13497    0.0\n",
       "3074     1.0\n",
       "1698     0.0\n",
       "1039     0.0\n",
       "5795     1.0\n",
       "8052     1.0\n",
       "Name: ENERGY STAR Score, dtype: float64"
      ]
     },
     "execution_count": 31,
     "metadata": {},
     "output_type": "execute_result"
    }
   ],
   "source": [
    "y_test[:10]"
   ]
  },
  {
   "cell_type": "code",
   "execution_count": 32,
   "metadata": {},
   "outputs": [
    {
     "data": {
      "text/plain": [
       "array([0., 0., 0., 0., 0., 1., 0., 1., 1., 1.])"
      ]
     },
     "execution_count": 32,
     "metadata": {},
     "output_type": "execute_result"
    }
   ],
   "source": [
    "predictions[:10]"
   ]
  },
  {
   "cell_type": "code",
   "execution_count": null,
   "metadata": {},
   "outputs": [],
   "source": []
  },
  {
   "cell_type": "markdown",
   "metadata": {},
   "source": [
    "# Случайный лес"
   ]
  },
  {
   "cell_type": "code",
   "execution_count": 33,
   "metadata": {},
   "outputs": [],
   "source": [
    "from sklearn import ensemble"
   ]
  },
  {
   "cell_type": "code",
   "execution_count": 34,
   "metadata": {},
   "outputs": [],
   "source": [
    "# критерий по варианту max_features - число признаков, по которым ищется разбиение.\n",
    "\n",
    "tochnost = [] # массив для хранения точности предсказаний леса\n",
    "n = [] # массив для хранения числа признаков, необходимых для разбиения\n",
    "\n",
    "for i in range(1, 20):\n",
    "    rf = ensemble.RandomForestClassifier(max_features=i, random_state=11) \n",
    "    rf.fit(X_train, y_train) # тренируем лес\n",
    "    prediction_rf = rf.predict(X_test)\n",
    "\n",
    "    tochnost.append(metrics.accuracy_score(y_test, prediction_rf))\n",
    "    n.append(i)"
   ]
  },
  {
   "cell_type": "code",
   "execution_count": 35,
   "metadata": {},
   "outputs": [
    {
     "data": {
      "text/plain": [
       "[<matplotlib.lines.Line2D at 0x7f99ce83dc70>]"
      ]
     },
     "execution_count": 35,
     "metadata": {},
     "output_type": "execute_result"
    },
    {
     "data": {
      "image/png": "[encoded data removed]",
      "text/plain": [
       "<Figure size 432x288 with 1 Axes>"
      ]
     },
     "metadata": {
      "needs_background": "light"
     },
     "output_type": "display_data"
    }
   ],
   "source": [
    "plt.plot(n, tochnost)"
   ]
  },
  {
   "cell_type": "markdown",
   "metadata": {},
   "source": [
    "# Отбор признаков с помощью алгоритма случайного леса"
   ]
  },
  {
   "cell_type": "code",
   "execution_count": 36,
   "metadata": {},
   "outputs": [],
   "source": [
    "import numpy as np"
   ]
  },
  {
   "cell_type": "code",
   "execution_count": 37,
   "metadata": {},
   "outputs": [],
   "source": [
    "#Выводим, насоклько каждый параметр повлиял на обучение дерева. Т.е какой параметр по мнению дерева сильнее влияет\n",
    "# на Energy Star score"
   ]
  },
  {
   "cell_type": "code",
   "execution_count": 38,
   "metadata": {},
   "outputs": [],
   "source": [
    "feature_names = data.columns # в переменную feature_names записываем имена столбцов"
   ]
  },
  {
   "cell_type": "code",
   "execution_count": 39,
   "metadata": {},
   "outputs": [
    {
     "name": "stdout",
     "output_type": "stream",
     "text": [
      "Feature imprortances:\n",
      " 1.feature 'Site EUI' (0.4734)\n",
      " 2.feature 'Weather Normalized Source EUI' (0.2303)\n",
      " 3.feature 'Total GHG Emissions' (0.1718)\n",
      " 4.feature 'Office' (0.0562)\n",
      " 5.feature 'Non-Refrigerated Warehouse' (0.0094)\n",
      " 6.feature 'Senior Care Community' (0.0089)\n",
      " 7.feature 'Distribution Center' (0.0084)\n",
      " 8.feature 'Hospital (General Medical & Surgical)' (0.0078)\n",
      " 9.feature 'Medical Office' (0.0062)\n",
      "10.feature 'Hotel' (0.0061)\n",
      "11.feature 'Retail Store' (0.0047)\n",
      "12.feature 'Residence Hall/Dormitory' (0.0045)\n",
      "13.feature 'K-12 School' (0.0043)\n",
      "14.feature 'Data Center' (0.0020)\n",
      "15.feature 'Financial Office' (0.0018)\n",
      "16.feature 'Worship Facility' (0.0017)\n",
      "17.feature 'Multifamily Housing' (0.0014)\n",
      "18.feature 'Supermarket/Grocery Store' (0.0007)\n",
      "19.feature 'Other' (0.0002)\n",
      "20.feature 'Parking' (0.0001)\n",
      "21.feature 'Refrigerated Warehouse' (0.0001)\n",
      "22.feature 'Bank Branch' (0.0000)\n",
      "23.feature 'Mixed Use Property' (0.0000)\n",
      "24.feature 'Social/Meeting Hall' (0.0000)\n",
      "25.feature 'Strip Mall' (0.0000)\n"
     ]
    }
   ],
   "source": [
    "importances = rf.feature_importances_\n",
    "indices = np.argsort(importances)[::-1]\n",
    "\n",
    "print('Feature imprortances:')\n",
    "for f, idx in enumerate(indices):\n",
    "    print(\"{:2d}.feature '{:5s}' ({:.4f})\".format(f+1, feature_names[idx], importances[idx]))"
   ]
  },
  {
   "cell_type": "code",
   "execution_count": 40,
   "metadata": {},
   "outputs": [],
   "source": [
    "# Выводим тоже самое, только в графике"
   ]
  },
  {
   "cell_type": "code",
   "execution_count": 41,
   "metadata": {},
   "outputs": [
    {
     "data": {
      "text/plain": [
       "(-1.0, 7.0)"
      ]
     },
     "execution_count": 41,
     "metadata": {},
     "output_type": "execute_result"
    },
    {
     "data": {
      "image/png": "[encoded data removed]",
      "text/plain": [
       "<Figure size 720x720 with 1 Axes>"
      ]
     },
     "metadata": {
      "needs_background": "light"
     },
     "output_type": "display_data"
    }
   ],
   "source": [
    "d_first = 7\n",
    "plt.figure(figsize=(10,10))\n",
    "plt.bar(range(d_first), importances[indices[:d_first]], align='center')\n",
    "plt.xticks(range(d_first), np.array(feature_names)[indices[:d_first]], rotation=90)\n",
    "plt.xlim([-1, d_first])"
   ]
  },
  {
   "cell_type": "code",
   "execution_count": null,
   "metadata": {},
   "outputs": [],
   "source": []
  }
 ],
 "metadata": {
  "kernelspec": {
   "display_name": "Python 3",
   "language": "python",
   "name": "python3"
  },
  "language_info": {
   "codemirror_mode": {
    "name": "ipython",
    "version": 3
   },
   "file_extension": ".py",
   "mimetype": "text/x-python",
   "name": "python",
   "nbconvert_exporter": "python",
   "pygments_lexer": "ipython3",
   "version": "3.8.5"
  }
 },
 "nbformat": 4,
 "nbformat_minor": 4
}
