{
 "cells": [
  {
   "cell_type": "code",
   "execution_count": 1,
   "metadata": {},
   "outputs": [],
   "source": [
    "import pandas as pd"
   ]
  },
  {
   "cell_type": "code",
   "execution_count": null,
   "metadata": {},
   "outputs": [],
   "source": [
    "# Вариант 3 2014 C O E B A N MAE"
   ]
  },
  {
   "cell_type": "code",
   "execution_count": 3,
   "metadata": {},
   "outputs": [
    {
     "data": {
      "text/html": [
       "<div>\n",
       "<style scoped>\n",
       "    .dataframe tbody tr th:only-of-type {\n",
       "        vertical-align: middle;\n",
       "    }\n",
       "\n",
       "    .dataframe tbody tr th {\n",
       "        vertical-align: top;\n",
       "    }\n",
       "\n",
       "    .dataframe thead th {\n",
       "        text-align: right;\n",
       "    }\n",
       "</style>\n",
       "<table border=\"1\" class=\"dataframe\">\n",
       "  <thead>\n",
       "    <tr style=\"text-align: right;\">\n",
       "      <th></th>\n",
       "      <th>Record Number</th>\n",
       "      <th>NYC Borough, Block, and Lot (BBL)</th>\n",
       "      <th>Co-reported BBL Status</th>\n",
       "      <th>BBLs Co-reported</th>\n",
       "      <th>Reported NYC Building Identificaiton Numbers (BINs)</th>\n",
       "      <th>Street Number</th>\n",
       "      <th>Street Name</th>\n",
       "      <th>Borough</th>\n",
       "      <th>Zip Code</th>\n",
       "      <th>DOF Benchmarking Submission Status</th>\n",
       "      <th>...</th>\n",
       "      <th>Automatic Water Benchmarking Eligible</th>\n",
       "      <th>Reported Water Method</th>\n",
       "      <th>ENERGY STAR Score</th>\n",
       "      <th>Total GHG Emissions</th>\n",
       "      <th>Direct GHG Emissions\\n(MtCO2e)</th>\n",
       "      <th>Indirect GHG Emissions\\n(MtCO2e)</th>\n",
       "      <th>Reported Property Floor Area (Building(s)) (ft²)</th>\n",
       "      <th>DOF Property Floor Area (Buildngs and Parking)\\n(ft2)</th>\n",
       "      <th>Primary Property Type - Self Selected</th>\n",
       "      <th>DOF Number of Buildings</th>\n",
       "    </tr>\n",
       "  </thead>\n",
       "  <tbody>\n",
       "    <tr>\n",
       "      <th>0</th>\n",
       "      <td>16099</td>\n",
       "      <td>4.084010e+09</td>\n",
       "      <td>NaN</td>\n",
       "      <td>4084010096</td>\n",
       "      <td>4453435</td>\n",
       "      <td>NaN</td>\n",
       "      <td>NaN</td>\n",
       "      <td>Queens</td>\n",
       "      <td>NaN</td>\n",
       "      <td>Not on Covered Buildings List</td>\n",
       "      <td>...</td>\n",
       "      <td>NaN</td>\n",
       "      <td>None</td>\n",
       "      <td>Not Available</td>\n",
       "      <td>966.7</td>\n",
       "      <td>806.6</td>\n",
       "      <td>160.1</td>\n",
       "      <td>91968</td>\n",
       "      <td>NaN</td>\n",
       "      <td>Multifamily Housing</td>\n",
       "      <td>NaN</td>\n",
       "    </tr>\n",
       "    <tr>\n",
       "      <th>1</th>\n",
       "      <td>500</td>\n",
       "      <td>1.005050e+09</td>\n",
       "      <td>NaN</td>\n",
       "      <td>1005050001</td>\n",
       "      <td>1007817</td>\n",
       "      <td>150</td>\n",
       "      <td>VARICK STREET</td>\n",
       "      <td>Manhattan</td>\n",
       "      <td>10013.0</td>\n",
       "      <td>Filed</td>\n",
       "      <td>...</td>\n",
       "      <td>Yes</td>\n",
       "      <td>ABS</td>\n",
       "      <td>44</td>\n",
       "      <td>1392.3</td>\n",
       "      <td>337.9</td>\n",
       "      <td>1054.4</td>\n",
       "      <td>235370</td>\n",
       "      <td>214110.0</td>\n",
       "      <td>Distribution Center</td>\n",
       "      <td>1.0</td>\n",
       "    </tr>\n",
       "    <tr>\n",
       "      <th>2</th>\n",
       "      <td>5017</td>\n",
       "      <td>1.021420e+09</td>\n",
       "      <td>NaN</td>\n",
       "      <td>1021420100</td>\n",
       "      <td>1063495</td>\n",
       "      <td>4079</td>\n",
       "      <td>BROADWAY</td>\n",
       "      <td>Manhattan</td>\n",
       "      <td>10032.0</td>\n",
       "      <td>Filed</td>\n",
       "      <td>...</td>\n",
       "      <td>No</td>\n",
       "      <td>None</td>\n",
       "      <td>Not Available</td>\n",
       "      <td>673.6</td>\n",
       "      <td>541.8</td>\n",
       "      <td>131.8</td>\n",
       "      <td>64806</td>\n",
       "      <td>64816.0</td>\n",
       "      <td>Multifamily Housing</td>\n",
       "      <td>1.0</td>\n",
       "    </tr>\n",
       "    <tr>\n",
       "      <th>3</th>\n",
       "      <td>5116</td>\n",
       "      <td>1.021750e+09</td>\n",
       "      <td>NaN</td>\n",
       "      <td>1021750080</td>\n",
       "      <td>1064235</td>\n",
       "      <td>60</td>\n",
       "      <td>SHERMAN AVENUE</td>\n",
       "      <td>Manhattan</td>\n",
       "      <td>10040.0</td>\n",
       "      <td>Filed</td>\n",
       "      <td>...</td>\n",
       "      <td>No</td>\n",
       "      <td>None</td>\n",
       "      <td>Not Available</td>\n",
       "      <td>485</td>\n",
       "      <td>403</td>\n",
       "      <td>82</td>\n",
       "      <td>62839</td>\n",
       "      <td>62847.0</td>\n",
       "      <td>Multifamily Housing</td>\n",
       "      <td>1.0</td>\n",
       "    </tr>\n",
       "    <tr>\n",
       "      <th>4</th>\n",
       "      <td>363</td>\n",
       "      <td>1.003360e+09</td>\n",
       "      <td>NaN</td>\n",
       "      <td>1003360005</td>\n",
       "      <td>1088884</td>\n",
       "      <td>16</td>\n",
       "      <td>BIALYSTOKER PLACE</td>\n",
       "      <td>Manhattan</td>\n",
       "      <td>10002.0</td>\n",
       "      <td>Filed</td>\n",
       "      <td>...</td>\n",
       "      <td>No</td>\n",
       "      <td>None</td>\n",
       "      <td>Not Available</td>\n",
       "      <td>435.5</td>\n",
       "      <td>290</td>\n",
       "      <td>145.5</td>\n",
       "      <td>98000</td>\n",
       "      <td>98052.0</td>\n",
       "      <td>Multifamily Housing</td>\n",
       "      <td>1.0</td>\n",
       "    </tr>\n",
       "  </tbody>\n",
       "</table>\n",
       "<p>5 rows × 25 columns</p>\n",
       "</div>"
      ],
      "text/plain": [
       "   Record Number  NYC Borough, Block, and Lot (BBL) Co-reported BBL Status  \\\n",
       "0          16099                       4.084010e+09                    NaN   \n",
       "1            500                       1.005050e+09                    NaN   \n",
       "2           5017                       1.021420e+09                    NaN   \n",
       "3           5116                       1.021750e+09                    NaN   \n",
       "4            363                       1.003360e+09                    NaN   \n",
       "\n",
       "  BBLs Co-reported Reported NYC Building Identificaiton Numbers (BINs)  \\\n",
       "0       4084010096                                            4453435    \n",
       "1       1005050001                                            1007817    \n",
       "2       1021420100                                            1063495    \n",
       "3       1021750080                                            1064235    \n",
       "4       1003360005                                            1088884    \n",
       "\n",
       "  Street Number        Street Name    Borough  Zip Code  \\\n",
       "0           NaN                NaN     Queens       NaN   \n",
       "1           150      VARICK STREET  Manhattan   10013.0   \n",
       "2          4079           BROADWAY  Manhattan   10032.0   \n",
       "3            60     SHERMAN AVENUE  Manhattan   10040.0   \n",
       "4            16  BIALYSTOKER PLACE  Manhattan   10002.0   \n",
       "\n",
       "  DOF Benchmarking Submission Status  ...  \\\n",
       "0      Not on Covered Buildings List  ...   \n",
       "1                              Filed  ...   \n",
       "2                              Filed  ...   \n",
       "3                              Filed  ...   \n",
       "4                              Filed  ...   \n",
       "\n",
       "  Automatic Water Benchmarking Eligible Reported Water Method  \\\n",
       "0                                   NaN                  None   \n",
       "1                                   Yes                   ABS   \n",
       "2                                    No                  None   \n",
       "3                                    No                  None   \n",
       "4                                    No                  None   \n",
       "\n",
       "  ENERGY STAR Score Total GHG Emissions Direct GHG Emissions\\n(MtCO2e)  \\\n",
       "0     Not Available               966.7                          806.6   \n",
       "1                44              1392.3                          337.9   \n",
       "2     Not Available               673.6                          541.8   \n",
       "3     Not Available                 485                            403   \n",
       "4     Not Available               435.5                            290   \n",
       "\n",
       "  Indirect GHG Emissions\\n(MtCO2e)  \\\n",
       "0                            160.1   \n",
       "1                           1054.4   \n",
       "2                            131.8   \n",
       "3                               82   \n",
       "4                            145.5   \n",
       "\n",
       "  Reported Property Floor Area (Building(s)) (ft²)  \\\n",
       "0                                            91968   \n",
       "1                                           235370   \n",
       "2                                            64806   \n",
       "3                                            62839   \n",
       "4                                            98000   \n",
       "\n",
       "  DOF Property Floor Area (Buildngs and Parking)\\n(ft2)  \\\n",
       "0                                                NaN      \n",
       "1                                           214110.0      \n",
       "2                                            64816.0      \n",
       "3                                            62847.0      \n",
       "4                                            98052.0      \n",
       "\n",
       "  Primary Property Type - Self Selected DOF Number of Buildings  \n",
       "0                   Multifamily Housing                     NaN  \n",
       "1                   Distribution Center                     1.0  \n",
       "2                   Multifamily Housing                     1.0  \n",
       "3                   Multifamily Housing                     1.0  \n",
       "4                   Multifamily Housing                     1.0  \n",
       "\n",
       "[5 rows x 25 columns]"
      ]
     },
     "execution_count": 3,
     "metadata": {},
     "output_type": "execute_result"
    }
   ],
   "source": [
    "df0 = pd.read_excel('2014.xlsx') # Чтение таблицы из эксель файла в датафрейм \n",
    "df0.head() # Смотрим первые пять строк датафрейма"
   ]
  },
  {
   "cell_type": "code",
   "execution_count": 5,
   "metadata": {},
   "outputs": [
    {
     "data": {
      "text/plain": [
       "Index(['Record Number', 'NYC Borough, Block, and Lot (BBL)',\n",
       "       'Co-reported BBL Status', 'BBLs Co-reported',\n",
       "       'Reported NYC Building Identificaiton Numbers (BINs)', 'Street Number',\n",
       "       'Street Name', 'Borough', 'Zip Code',\n",
       "       'DOF Benchmarking Submission Status', 'Site EUI',\n",
       "       'Weather Normalized Site EUI', 'Source EUI',\n",
       "       'Weather Normalized Source EUI',\n",
       "       'Municipally Supplied Potable Water - Indoor Intensity',\n",
       "       'Automatic Water Benchmarking Eligible', 'Reported Water Method',\n",
       "       'ENERGY STAR Score', 'Total GHG Emissions',\n",
       "       'Direct GHG Emissions\\n(MtCO2e)', 'Indirect GHG Emissions\\n(MtCO2e)',\n",
       "       'Reported Property Floor Area (Building(s)) (ft²)',\n",
       "       'DOF Property Floor Area (Buildngs and Parking)\\n(ft2)',\n",
       "       'Primary Property Type - Self Selected', 'DOF Number of Buildings'],\n",
       "      dtype='object')"
      ]
     },
     "execution_count": 5,
     "metadata": {},
     "output_type": "execute_result"
    }
   ],
   "source": [
    "# выводим имена столбцов таблицы\n",
    "df0.columns "
   ]
  },
  {
   "cell_type": "code",
   "execution_count": 4,
   "metadata": {},
   "outputs": [
    {
     "data": {
      "text/plain": [
       "(16170, 25)"
      ]
     },
     "execution_count": 4,
     "metadata": {},
     "output_type": "execute_result"
    }
   ],
   "source": [
    "df0.shape"
   ]
  },
  {
   "cell_type": "code",
   "execution_count": 62,
   "metadata": {},
   "outputs": [],
   "source": [
    "# Cчитываем в новый датафрейм данные, которые нам нужны по варианту и еще пару \n",
    "df = df0[['Record Number', \n",
    "          'Co-reported BBL Status','Reported NYC Building Identificaiton Numbers (BINs)', 'Site EUI',\n",
    "          'Weather Normalized Source EUI', 'Municipally Supplied Potable Water - Indoor Intensity',\n",
    "          'Primary Property Type - Self Selected','Total GHG Emissions',\n",
    "          'ENERGY STAR Score']]"
   ]
  },
  {
   "cell_type": "code",
   "execution_count": 63,
   "metadata": {},
   "outputs": [
    {
     "data": {
      "text/html": [
       "<div>\n",
       "<style scoped>\n",
       "    .dataframe tbody tr th:only-of-type {\n",
       "        vertical-align: middle;\n",
       "    }\n",
       "\n",
       "    .dataframe tbody tr th {\n",
       "        vertical-align: top;\n",
       "    }\n",
       "\n",
       "    .dataframe thead th {\n",
       "        text-align: right;\n",
       "    }\n",
       "</style>\n",
       "<table border=\"1\" class=\"dataframe\">\n",
       "  <thead>\n",
       "    <tr style=\"text-align: right;\">\n",
       "      <th></th>\n",
       "      <th>Record Number</th>\n",
       "      <th>Co-reported BBL Status</th>\n",
       "      <th>Reported NYC Building Identificaiton Numbers (BINs)</th>\n",
       "      <th>Site EUI</th>\n",
       "      <th>Weather Normalized Source EUI</th>\n",
       "      <th>Municipally Supplied Potable Water - Indoor Intensity</th>\n",
       "      <th>Primary Property Type - Self Selected</th>\n",
       "      <th>Total GHG Emissions</th>\n",
       "      <th>ENERGY STAR Score</th>\n",
       "    </tr>\n",
       "  </thead>\n",
       "  <tbody>\n",
       "    <tr>\n",
       "      <th>0</th>\n",
       "      <td>16099</td>\n",
       "      <td>NaN</td>\n",
       "      <td>4453435</td>\n",
       "      <td>180.5</td>\n",
       "      <td>231.8</td>\n",
       "      <td>Not Available</td>\n",
       "      <td>Multifamily Housing</td>\n",
       "      <td>966.7</td>\n",
       "      <td>Not Available</td>\n",
       "    </tr>\n",
       "    <tr>\n",
       "      <th>1</th>\n",
       "      <td>500</td>\n",
       "      <td>NaN</td>\n",
       "      <td>1007817</td>\n",
       "      <td>82.1</td>\n",
       "      <td>201.2</td>\n",
       "      <td>8.71</td>\n",
       "      <td>Distribution Center</td>\n",
       "      <td>1392.3</td>\n",
       "      <td>44</td>\n",
       "    </tr>\n",
       "    <tr>\n",
       "      <th>2</th>\n",
       "      <td>5017</td>\n",
       "      <td>NaN</td>\n",
       "      <td>1063495</td>\n",
       "      <td>137.7</td>\n",
       "      <td>192.1</td>\n",
       "      <td>Not Available</td>\n",
       "      <td>Multifamily Housing</td>\n",
       "      <td>673.6</td>\n",
       "      <td>Not Available</td>\n",
       "    </tr>\n",
       "    <tr>\n",
       "      <th>3</th>\n",
       "      <td>5116</td>\n",
       "      <td>NaN</td>\n",
       "      <td>1064235</td>\n",
       "      <td>103.2</td>\n",
       "      <td>138.2</td>\n",
       "      <td>Not Available</td>\n",
       "      <td>Multifamily Housing</td>\n",
       "      <td>485</td>\n",
       "      <td>Not Available</td>\n",
       "    </tr>\n",
       "    <tr>\n",
       "      <th>4</th>\n",
       "      <td>363</td>\n",
       "      <td>NaN</td>\n",
       "      <td>1088884</td>\n",
       "      <td>74</td>\n",
       "      <td>115.8</td>\n",
       "      <td>Not Available</td>\n",
       "      <td>Multifamily Housing</td>\n",
       "      <td>435.5</td>\n",
       "      <td>Not Available</td>\n",
       "    </tr>\n",
       "  </tbody>\n",
       "</table>\n",
       "</div>"
      ],
      "text/plain": [
       "   Record Number Co-reported BBL Status  \\\n",
       "0          16099                    NaN   \n",
       "1            500                    NaN   \n",
       "2           5017                    NaN   \n",
       "3           5116                    NaN   \n",
       "4            363                    NaN   \n",
       "\n",
       "  Reported NYC Building Identificaiton Numbers (BINs) Site EUI  \\\n",
       "0                                            4453435     180.5   \n",
       "1                                            1007817      82.1   \n",
       "2                                            1063495     137.7   \n",
       "3                                            1064235     103.2   \n",
       "4                                            1088884        74   \n",
       "\n",
       "  Weather Normalized Source EUI  \\\n",
       "0                         231.8   \n",
       "1                         201.2   \n",
       "2                         192.1   \n",
       "3                         138.2   \n",
       "4                         115.8   \n",
       "\n",
       "  Municipally Supplied Potable Water - Indoor Intensity  \\\n",
       "0                                      Not Available      \n",
       "1                                               8.71      \n",
       "2                                      Not Available      \n",
       "3                                      Not Available      \n",
       "4                                      Not Available      \n",
       "\n",
       "  Primary Property Type - Self Selected Total GHG Emissions ENERGY STAR Score  \n",
       "0                   Multifamily Housing               966.7     Not Available  \n",
       "1                   Distribution Center              1392.3                44  \n",
       "2                   Multifamily Housing               673.6     Not Available  \n",
       "3                   Multifamily Housing                 485     Not Available  \n",
       "4                   Multifamily Housing               435.5     Not Available  "
      ]
     },
     "execution_count": 63,
     "metadata": {},
     "output_type": "execute_result"
    }
   ],
   "source": [
    "df.head()"
   ]
  },
  {
   "cell_type": "code",
   "execution_count": null,
   "metadata": {},
   "outputs": [],
   "source": []
  },
  {
   "cell_type": "code",
   "execution_count": 64,
   "metadata": {},
   "outputs": [
    {
     "name": "stdout",
     "output_type": "stream",
     "text": [
      "<class 'pandas.core.frame.DataFrame'>\n",
      "RangeIndex: 16170 entries, 0 to 16169\n",
      "Data columns (total 9 columns):\n",
      " #   Column                                                 Non-Null Count  Dtype \n",
      "---  ------                                                 --------------  ----- \n",
      " 0   Record Number                                          16170 non-null  int64 \n",
      " 1   Co-reported BBL Status                                 912 non-null    object\n",
      " 2   Reported NYC Building Identificaiton Numbers (BINs)    13790 non-null  object\n",
      " 3   Site EUI                                               12204 non-null  object\n",
      " 4   Weather Normalized Source EUI                          13790 non-null  object\n",
      " 5   Municipally Supplied Potable Water - Indoor Intensity  13790 non-null  object\n",
      " 6   Primary Property Type - Self Selected                  13133 non-null  object\n",
      " 7   Total GHG Emissions                                    12380 non-null  object\n",
      " 8   ENERGY STAR Score                                      13790 non-null  object\n",
      "dtypes: int64(1), object(8)\n",
      "memory usage: 1.1+ MB\n"
     ]
    }
   ],
   "source": [
    "df.info()"
   ]
  },
  {
   "cell_type": "code",
   "execution_count": null,
   "metadata": {},
   "outputs": [],
   "source": []
  },
  {
   "cell_type": "code",
   "execution_count": 65,
   "metadata": {},
   "outputs": [
    {
     "name": "stderr",
     "output_type": "stream",
     "text": [
      "<ipython-input-65-27d789e24aab>:1: SettingWithCopyWarning: \n",
      "A value is trying to be set on a copy of a slice from a DataFrame.\n",
      "Try using .loc[row_indexer,col_indexer] = value instead\n",
      "\n",
      "See the caveats in the documentation: https://pandas.pydata.org/pandas-docs/stable/user_guide/indexing.html#returning-a-view-versus-a-copy\n",
      "  df['ENERGY STAR Score']  = pd.to_numeric(df['ENERGY STAR Score'], errors='coerce')\n"
     ]
    }
   ],
   "source": [
    " # Приводим Energy star score к числовому виду и второй строкой удаляем наны в целевой переменной\n",
    "\n",
    "df['ENERGY STAR Score']  = pd.to_numeric(df['ENERGY STAR Score'], errors='coerce')\n",
    "df = df.dropna(subset=['ENERGY STAR Score'])"
   ]
  },
  {
   "cell_type": "code",
   "execution_count": 66,
   "metadata": {},
   "outputs": [
    {
     "name": "stdout",
     "output_type": "stream",
     "text": [
      "<class 'pandas.core.frame.DataFrame'>\n",
      "Int64Index: 2032 entries, 1 to 13783\n",
      "Data columns (total 9 columns):\n",
      " #   Column                                                 Non-Null Count  Dtype  \n",
      "---  ------                                                 --------------  -----  \n",
      " 0   Record Number                                          2032 non-null   int64  \n",
      " 1   Co-reported BBL Status                                 7 non-null      object \n",
      " 2   Reported NYC Building Identificaiton Numbers (BINs)    2032 non-null   object \n",
      " 3   Site EUI                                               2032 non-null   object \n",
      " 4   Weather Normalized Source EUI                          2032 non-null   object \n",
      " 5   Municipally Supplied Potable Water - Indoor Intensity  2032 non-null   object \n",
      " 6   Primary Property Type - Self Selected                  2032 non-null   object \n",
      " 7   Total GHG Emissions                                    2029 non-null   object \n",
      " 8   ENERGY STAR Score                                      2032 non-null   float64\n",
      "dtypes: float64(1), int64(1), object(7)\n",
      "memory usage: 158.8+ KB\n"
     ]
    }
   ],
   "source": [
    "# Выводим информацию о датафрейме\n",
    "df.info()"
   ]
  },
  {
   "cell_type": "code",
   "execution_count": null,
   "metadata": {},
   "outputs": [],
   "source": []
  },
  {
   "cell_type": "code",
   "execution_count": null,
   "metadata": {},
   "outputs": [],
   "source": []
  },
  {
   "cell_type": "code",
   "execution_count": 67,
   "metadata": {},
   "outputs": [],
   "source": [
    "# Удаляем эти столбцы потому что это ID-шники и никакой информации для регрессора они не принесут\n",
    "df = df.drop('Co-reported BBL Status', axis = 1)\n",
    "df = df.drop('Record Number', axis = 1)\n",
    "df = df.drop('Reported NYC Building Identificaiton Numbers (BINs)', axis = 1)"
   ]
  },
  {
   "cell_type": "code",
   "execution_count": null,
   "metadata": {},
   "outputs": [],
   "source": []
  },
  {
   "cell_type": "code",
   "execution_count": 68,
   "metadata": {},
   "outputs": [
    {
     "data": {
      "text/html": [
       "<div>\n",
       "<style scoped>\n",
       "    .dataframe tbody tr th:only-of-type {\n",
       "        vertical-align: middle;\n",
       "    }\n",
       "\n",
       "    .dataframe tbody tr th {\n",
       "        vertical-align: top;\n",
       "    }\n",
       "\n",
       "    .dataframe thead th {\n",
       "        text-align: right;\n",
       "    }\n",
       "</style>\n",
       "<table border=\"1\" class=\"dataframe\">\n",
       "  <thead>\n",
       "    <tr style=\"text-align: right;\">\n",
       "      <th></th>\n",
       "      <th>Site EUI</th>\n",
       "      <th>Weather Normalized Source EUI</th>\n",
       "      <th>Municipally Supplied Potable Water - Indoor Intensity</th>\n",
       "      <th>Primary Property Type - Self Selected</th>\n",
       "      <th>Total GHG Emissions</th>\n",
       "      <th>ENERGY STAR Score</th>\n",
       "    </tr>\n",
       "  </thead>\n",
       "  <tbody>\n",
       "    <tr>\n",
       "      <th>1</th>\n",
       "      <td>82.1</td>\n",
       "      <td>201.2</td>\n",
       "      <td>8.71</td>\n",
       "      <td>Distribution Center</td>\n",
       "      <td>1392.3</td>\n",
       "      <td>44.0</td>\n",
       "    </tr>\n",
       "    <tr>\n",
       "      <th>5</th>\n",
       "      <td>36.4</td>\n",
       "      <td>80.8</td>\n",
       "      <td>Not Available</td>\n",
       "      <td>Office</td>\n",
       "      <td>133.7</td>\n",
       "      <td>98.0</td>\n",
       "    </tr>\n",
       "    <tr>\n",
       "      <th>7</th>\n",
       "      <td>130</td>\n",
       "      <td>257.3</td>\n",
       "      <td>22.89</td>\n",
       "      <td>Office</td>\n",
       "      <td>1965.4</td>\n",
       "      <td>57.0</td>\n",
       "    </tr>\n",
       "    <tr>\n",
       "      <th>11</th>\n",
       "      <td>15.7</td>\n",
       "      <td>23.5</td>\n",
       "      <td>Not Available</td>\n",
       "      <td>Hotel</td>\n",
       "      <td>52.4</td>\n",
       "      <td>100.0</td>\n",
       "    </tr>\n",
       "    <tr>\n",
       "      <th>15</th>\n",
       "      <td>79.1</td>\n",
       "      <td>175.2</td>\n",
       "      <td>8.77</td>\n",
       "      <td>Office</td>\n",
       "      <td>653.6</td>\n",
       "      <td>74.0</td>\n",
       "    </tr>\n",
       "  </tbody>\n",
       "</table>\n",
       "</div>"
      ],
      "text/plain": [
       "   Site EUI Weather Normalized Source EUI  \\\n",
       "1      82.1                         201.2   \n",
       "5      36.4                          80.8   \n",
       "7       130                         257.3   \n",
       "11     15.7                          23.5   \n",
       "15     79.1                         175.2   \n",
       "\n",
       "   Municipally Supplied Potable Water - Indoor Intensity  \\\n",
       "1                                                8.71      \n",
       "5                                       Not Available      \n",
       "7                                               22.89      \n",
       "11                                      Not Available      \n",
       "15                                               8.77      \n",
       "\n",
       "   Primary Property Type - Self Selected Total GHG Emissions  \\\n",
       "1                    Distribution Center              1392.3   \n",
       "5                                 Office               133.7   \n",
       "7                                 Office              1965.4   \n",
       "11                                 Hotel                52.4   \n",
       "15                                Office               653.6   \n",
       "\n",
       "    ENERGY STAR Score  \n",
       "1                44.0  \n",
       "5                98.0  \n",
       "7                57.0  \n",
       "11              100.0  \n",
       "15               74.0  "
      ]
     },
     "execution_count": 68,
     "metadata": {},
     "output_type": "execute_result"
    }
   ],
   "source": [
    "df.head()"
   ]
  },
  {
   "cell_type": "code",
   "execution_count": null,
   "metadata": {},
   "outputs": [],
   "source": []
  },
  {
   "cell_type": "code",
   "execution_count": 69,
   "metadata": {},
   "outputs": [],
   "source": [
    "# приводим каждое значение в данных столбцах к числовому виду. Если не получается, то заменяем NaN\n",
    "df['Site EUI']  = pd.to_numeric(df['Site EUI'], errors='coerce')\n",
    "df['Weather Normalized Source EUI']  = pd.to_numeric(df['Weather Normalized Source EUI'], errors='coerce')\n",
    "df['Municipally Supplied Potable Water - Indoor Intensity'] = pd.to_numeric(df['Municipally Supplied Potable Water - Indoor Intensity'], errors='coerce')\n",
    "df['Total GHG Emissions']  = pd.to_numeric(df['Total GHG Emissions'], errors='coerce')"
   ]
  },
  {
   "cell_type": "code",
   "execution_count": 70,
   "metadata": {},
   "outputs": [
    {
     "name": "stdout",
     "output_type": "stream",
     "text": [
      "<class 'pandas.core.frame.DataFrame'>\n",
      "Int64Index: 2032 entries, 1 to 13783\n",
      "Data columns (total 6 columns):\n",
      " #   Column                                                 Non-Null Count  Dtype  \n",
      "---  ------                                                 --------------  -----  \n",
      " 0   Site EUI                                               2032 non-null   float64\n",
      " 1   Weather Normalized Source EUI                          1599 non-null   float64\n",
      " 2   Municipally Supplied Potable Water - Indoor Intensity  668 non-null    float64\n",
      " 3   Primary Property Type - Self Selected                  2032 non-null   object \n",
      " 4   Total GHG Emissions                                    2029 non-null   float64\n",
      " 5   ENERGY STAR Score                                      2032 non-null   float64\n",
      "dtypes: float64(5), object(1)\n",
      "memory usage: 111.1+ KB\n"
     ]
    }
   ],
   "source": [
    "df.info()"
   ]
  },
  {
   "cell_type": "code",
   "execution_count": 71,
   "metadata": {},
   "outputs": [],
   "source": [
    "#  удаляем столбец потому что в нем слишком много NaN\n",
    "df = df.drop('Municipally Supplied Potable Water - Indoor Intensity', axis = 1)"
   ]
  },
  {
   "cell_type": "code",
   "execution_count": 72,
   "metadata": {},
   "outputs": [
    {
     "data": {
      "text/html": [
       "<div>\n",
       "<style scoped>\n",
       "    .dataframe tbody tr th:only-of-type {\n",
       "        vertical-align: middle;\n",
       "    }\n",
       "\n",
       "    .dataframe tbody tr th {\n",
       "        vertical-align: top;\n",
       "    }\n",
       "\n",
       "    .dataframe thead th {\n",
       "        text-align: right;\n",
       "    }\n",
       "</style>\n",
       "<table border=\"1\" class=\"dataframe\">\n",
       "  <thead>\n",
       "    <tr style=\"text-align: right;\">\n",
       "      <th></th>\n",
       "      <th>Site EUI</th>\n",
       "      <th>Weather Normalized Source EUI</th>\n",
       "      <th>Primary Property Type - Self Selected</th>\n",
       "      <th>Total GHG Emissions</th>\n",
       "      <th>ENERGY STAR Score</th>\n",
       "    </tr>\n",
       "  </thead>\n",
       "  <tbody>\n",
       "    <tr>\n",
       "      <th>1</th>\n",
       "      <td>82.1</td>\n",
       "      <td>201.2</td>\n",
       "      <td>Distribution Center</td>\n",
       "      <td>1392.3</td>\n",
       "      <td>44.0</td>\n",
       "    </tr>\n",
       "    <tr>\n",
       "      <th>5</th>\n",
       "      <td>36.4</td>\n",
       "      <td>80.8</td>\n",
       "      <td>Office</td>\n",
       "      <td>133.7</td>\n",
       "      <td>98.0</td>\n",
       "    </tr>\n",
       "    <tr>\n",
       "      <th>7</th>\n",
       "      <td>130.0</td>\n",
       "      <td>257.3</td>\n",
       "      <td>Office</td>\n",
       "      <td>1965.4</td>\n",
       "      <td>57.0</td>\n",
       "    </tr>\n",
       "    <tr>\n",
       "      <th>11</th>\n",
       "      <td>15.7</td>\n",
       "      <td>23.5</td>\n",
       "      <td>Hotel</td>\n",
       "      <td>52.4</td>\n",
       "      <td>100.0</td>\n",
       "    </tr>\n",
       "    <tr>\n",
       "      <th>15</th>\n",
       "      <td>79.1</td>\n",
       "      <td>175.2</td>\n",
       "      <td>Office</td>\n",
       "      <td>653.6</td>\n",
       "      <td>74.0</td>\n",
       "    </tr>\n",
       "  </tbody>\n",
       "</table>\n",
       "</div>"
      ],
      "text/plain": [
       "    Site EUI  Weather Normalized Source EUI  \\\n",
       "1       82.1                          201.2   \n",
       "5       36.4                           80.8   \n",
       "7      130.0                          257.3   \n",
       "11      15.7                           23.5   \n",
       "15      79.1                          175.2   \n",
       "\n",
       "   Primary Property Type - Self Selected  Total GHG Emissions  \\\n",
       "1                    Distribution Center               1392.3   \n",
       "5                                 Office                133.7   \n",
       "7                                 Office               1965.4   \n",
       "11                                 Hotel                 52.4   \n",
       "15                                Office                653.6   \n",
       "\n",
       "    ENERGY STAR Score  \n",
       "1                44.0  \n",
       "5                98.0  \n",
       "7                57.0  \n",
       "11              100.0  \n",
       "15               74.0  "
      ]
     },
     "execution_count": 72,
     "metadata": {},
     "output_type": "execute_result"
    }
   ],
   "source": [
    "df.head()"
   ]
  },
  {
   "cell_type": "code",
   "execution_count": null,
   "metadata": {},
   "outputs": [],
   "source": []
  },
  {
   "cell_type": "code",
   "execution_count": 73,
   "metadata": {},
   "outputs": [
    {
     "name": "stdout",
     "output_type": "stream",
     "text": [
      "<class 'pandas.core.frame.DataFrame'>\n",
      "Int64Index: 2032 entries, 1 to 13783\n",
      "Data columns (total 5 columns):\n",
      " #   Column                                 Non-Null Count  Dtype  \n",
      "---  ------                                 --------------  -----  \n",
      " 0   Site EUI                               2032 non-null   float64\n",
      " 1   Weather Normalized Source EUI          1599 non-null   float64\n",
      " 2   Primary Property Type - Self Selected  2032 non-null   object \n",
      " 3   Total GHG Emissions                    2029 non-null   float64\n",
      " 4   ENERGY STAR Score                      2032 non-null   float64\n",
      "dtypes: float64(4), object(1)\n",
      "memory usage: 95.2+ KB\n"
     ]
    }
   ],
   "source": [
    "df.info()"
   ]
  },
  {
   "cell_type": "code",
   "execution_count": null,
   "metadata": {},
   "outputs": [],
   "source": []
  },
  {
   "cell_type": "code",
   "execution_count": 80,
   "metadata": {},
   "outputs": [],
   "source": [
    "# заполняем пропущенные значения в столбце средним значением для этого столбца\n",
    "df['Total GHG Emissions'].fillna(df['Total GHG Emissions'].mean(), inplace = True)\n",
    "df['Weather Normalized Source EUI'].fillna(df['Weather Normalized Source EUI'].mean(), inplace = True)"
   ]
  },
  {
   "cell_type": "code",
   "execution_count": 81,
   "metadata": {},
   "outputs": [
    {
     "name": "stdout",
     "output_type": "stream",
     "text": [
      "<class 'pandas.core.frame.DataFrame'>\n",
      "Int64Index: 2032 entries, 1 to 13783\n",
      "Data columns (total 5 columns):\n",
      " #   Column                                 Non-Null Count  Dtype  \n",
      "---  ------                                 --------------  -----  \n",
      " 0   Site EUI                               2032 non-null   float64\n",
      " 1   Weather Normalized Source EUI          2032 non-null   float64\n",
      " 2   Primary Property Type - Self Selected  2032 non-null   object \n",
      " 3   Total GHG Emissions                    2032 non-null   float64\n",
      " 4   ENERGY STAR Score                      2032 non-null   float64\n",
      "dtypes: float64(4), object(1)\n",
      "memory usage: 95.2+ KB\n"
     ]
    }
   ],
   "source": [
    "df.info()"
   ]
  },
  {
   "cell_type": "code",
   "execution_count": null,
   "metadata": {},
   "outputs": [],
   "source": []
  },
  {
   "cell_type": "code",
   "execution_count": 82,
   "metadata": {},
   "outputs": [
    {
     "data": {
      "text/plain": [
       "Office                                   1133\n",
       "Hotel                                     176\n",
       "Non-Refrigerated Warehouse                149\n",
       "Residence Hall/Dormitory                  111\n",
       "Senior Care Community                     100\n",
       "K-12 School                                85\n",
       "Retail Store                               81\n",
       "Distribution Center                        56\n",
       "Hospital (General Medical & Surgical)      45\n",
       "Medical Office                             29\n",
       "Worship Facility                           15\n",
       "Supermarket/Grocery Store                  15\n",
       "Financial Office                           13\n",
       "Refrigerated Warehouse                      9\n",
       "Strip Mall                                  4\n",
       "Data Center                                 2\n",
       "Parking                                     2\n",
       "Other                                       2\n",
       "Multifamily Housing                         2\n",
       "Bank Branch                                 1\n",
       "Social/Meeting Hall                         1\n",
       "Mixed Use Property                          1\n",
       "Name: Primary Property Type - Self Selected, dtype: int64"
      ]
     },
     "execution_count": 82,
     "metadata": {},
     "output_type": "execute_result"
    }
   ],
   "source": [
    "# Считаем кол-во встречающихся значений для данного столбца\n",
    "df['Primary Property Type - Self Selected'].value_counts()"
   ]
  },
  {
   "cell_type": "code",
   "execution_count": 83,
   "metadata": {},
   "outputs": [],
   "source": [
    "# Кодируем ONE-HOT CODING\n",
    "ohc_ppt = pd.get_dummies(df['Primary Property Type - Self Selected'])"
   ]
  },
  {
   "cell_type": "code",
   "execution_count": null,
   "metadata": {},
   "outputs": [],
   "source": []
  },
  {
   "cell_type": "code",
   "execution_count": 84,
   "metadata": {},
   "outputs": [],
   "source": [
    "# Выкидываем из нашей пандосовской таблицы столбец Primary Property Type\n",
    "df = df.drop(['Primary Property Type - Self Selected'], axis=1)\n",
    "\n",
    "# Объединяем наш датафрейм с таблицей Ван хот кодирования районов \n",
    "df = pd.concat([df, ohc_ppt], axis = 1)"
   ]
  },
  {
   "cell_type": "code",
   "execution_count": null,
   "metadata": {},
   "outputs": [],
   "source": []
  },
  {
   "cell_type": "code",
   "execution_count": 85,
   "metadata": {},
   "outputs": [
    {
     "data": {
      "text/plain": [
       "(2032, 26)"
      ]
     },
     "execution_count": 85,
     "metadata": {},
     "output_type": "execute_result"
    }
   ],
   "source": [
    "df.shape"
   ]
  },
  {
   "cell_type": "code",
   "execution_count": null,
   "metadata": {},
   "outputs": [],
   "source": []
  },
  {
   "cell_type": "markdown",
   "metadata": {},
   "source": [
    "# Обучение"
   ]
  },
  {
   "cell_type": "code",
   "execution_count": 86,
   "metadata": {},
   "outputs": [],
   "source": [
    "from sklearn.model_selection import train_test_split\n",
    "from sklearn import linear_model, metrics\n",
    "import matplotlib.pyplot as plt"
   ]
  },
  {
   "cell_type": "code",
   "execution_count": 87,
   "metadata": {},
   "outputs": [],
   "source": [
    "labels = df['ENERGY STAR Score']\n",
    "data = df.drop(['ENERGY STAR Score'], axis=1)"
   ]
  },
  {
   "cell_type": "code",
   "execution_count": 88,
   "metadata": {},
   "outputs": [
    {
     "name": "stdout",
     "output_type": "stream",
     "text": [
      "(1422, 25)\n",
      "(610, 25)\n",
      "(1422,)\n",
      "(610,)\n"
     ]
    }
   ],
   "source": [
    "X_train, X_test, y_train, y_test = train_test_split(data, labels, \n",
    "                                                   test_size = 0.3,\n",
    "                                                   random_state = 42)\n",
    "\n",
    "print(X_train.shape)\n",
    "print(X_test.shape)\n",
    "print(y_train.shape)\n",
    "print(y_test.shape)"
   ]
  },
  {
   "cell_type": "code",
   "execution_count": null,
   "metadata": {},
   "outputs": [],
   "source": []
  },
  {
   "cell_type": "code",
   "execution_count": 89,
   "metadata": {},
   "outputs": [
    {
     "data": {
      "text/plain": [
       "Text(0.5, 1.0, 'test data')"
      ]
     },
     "execution_count": 89,
     "metadata": {},
     "output_type": "execute_result"
    },
    {
     "data": {
      "image/png": "[encoded data removed]",
      "text/plain": [
       "<Figure size 1152x432 with 2 Axes>"
      ]
     },
     "metadata": {
      "needs_background": "light"
     },
     "output_type": "display_data"
    }
   ],
   "source": [
    "# Целевая функция на обучающей выборке и на отложенном тесте\n",
    "plt.figure(figsize=(16,6))\n",
    "\n",
    "plt.subplot(1,2,1)\n",
    "plt.hist(y_train)\n",
    "plt.title('train data')\n",
    "\n",
    "\n",
    "\n",
    "plt.subplot(1,2,2)\n",
    "plt.hist(y_test)\n",
    "plt.title('test data')"
   ]
  },
  {
   "cell_type": "code",
   "execution_count": null,
   "metadata": {},
   "outputs": [],
   "source": []
  },
  {
   "cell_type": "code",
   "execution_count": 90,
   "metadata": {},
   "outputs": [],
   "source": [
    "#Модель\n",
    "regressor = linear_model.LinearRegression()"
   ]
  },
  {
   "cell_type": "code",
   "execution_count": 91,
   "metadata": {},
   "outputs": [
    {
     "data": {
      "text/plain": [
       "LinearRegression()"
      ]
     },
     "execution_count": 91,
     "metadata": {},
     "output_type": "execute_result"
    }
   ],
   "source": [
    "regressor.fit(X_train, y_train)"
   ]
  },
  {
   "cell_type": "code",
   "execution_count": 92,
   "metadata": {},
   "outputs": [
    {
     "data": {
      "text/plain": [
       "22.215766974949286"
      ]
     },
     "execution_count": 92,
     "metadata": {},
     "output_type": "execute_result"
    }
   ],
   "source": [
    "prediction = regressor.predict(X_test)\n",
    "metrics.mean_absolute_error(y_test, prediction)"
   ]
  },
  {
   "cell_type": "code",
   "execution_count": null,
   "metadata": {},
   "outputs": [],
   "source": []
  },
  {
   "cell_type": "code",
   "execution_count": 93,
   "metadata": {},
   "outputs": [
    {
     "name": "stdout",
     "output_type": "stream",
     "text": [
      "1868     43.0\n",
      "3845     77.0\n",
      "1325     43.0\n",
      "1453     44.0\n",
      "13497    11.0\n",
      "3074     92.0\n",
      "1698     48.0\n",
      "1039     65.0\n",
      "5795     91.0\n",
      "8052     84.0\n",
      "Name: ENERGY STAR Score, dtype: float64\n"
     ]
    }
   ],
   "source": [
    "print(y_test[:10])"
   ]
  },
  {
   "cell_type": "code",
   "execution_count": null,
   "metadata": {},
   "outputs": [],
   "source": []
  },
  {
   "cell_type": "code",
   "execution_count": 94,
   "metadata": {},
   "outputs": [
    {
     "name": "stdout",
     "output_type": "stream",
     "text": [
      "[50.20049388 69.93742098 70.28657201 36.5347579  69.95456594 70.0028024\n",
      " 72.65889556 70.01284157 61.62211234 58.7248455 ]\n"
     ]
    }
   ],
   "source": [
    "print(prediction[:10])"
   ]
  },
  {
   "cell_type": "code",
   "execution_count": null,
   "metadata": {},
   "outputs": [],
   "source": []
  }
 ],
 "metadata": {
  "kernelspec": {
   "display_name": "Python 3",
   "language": "python",
   "name": "python3"
  },
  "language_info": {
   "codemirror_mode": {
    "name": "ipython",
    "version": 3
   },
   "file_extension": ".py",
   "mimetype": "text/x-python",
   "name": "python",
   "nbconvert_exporter": "python",
   "pygments_lexer": "ipython3",
   "version": "3.8.5"
  }
 },
 "nbformat": 4,
 "nbformat_minor": 4
}
