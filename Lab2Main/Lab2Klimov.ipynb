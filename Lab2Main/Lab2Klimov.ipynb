{
 "cells": [
  {
   "cell_type": "markdown",
   "metadata": {},
   "source": [
    "# Лабораторная работа № 2"
   ]
  },
  {
   "cell_type": "markdown",
   "metadata": {},
   "source": [
    "| Номер в списке | Год  | Ошибка                                              | Столбцы     |   |\n",
    "|----------------|------|-----------------------------------------------------|-------------|---|\n",
    "| 9              | 2014 | $$MAE = \\frac 1n * \\sum_{j=1}^{n}(y_j - \\bar y_j)$$ | C O N M J I |   |\n",
    "|                |      |                                                     |             |   |\n",
    "|                |      |                                                     |             |   |"
   ]
  },
  {
   "cell_type": "code",
   "execution_count": 128,
   "metadata": {},
   "outputs": [],
   "source": [
    "import pandas as pd\n",
    "import seaborn as sns\n",
    "import numpy as np\n",
    "import matplotlib.pyplot as plt"
   ]
  },
  {
   "cell_type": "code",
   "execution_count": 129,
   "metadata": {},
   "outputs": [],
   "source": [
    "sns.set(rc={'figure.figsize':(11.7,8.27)})"
   ]
  },
  {
   "cell_type": "code",
   "execution_count": 130,
   "metadata": {},
   "outputs": [],
   "source": [
    "FullTable = pd.read_excel('2015.xlsx', sheet_name='WORKING FILE')"
   ]
  },
  {
   "cell_type": "code",
   "execution_count": 131,
   "metadata": {},
   "outputs": [],
   "source": [
    "c = 'BBL'\n",
    "o = 'Weather Normalized Source EUI'\n",
    "n = 'Source EUI'\n",
    "m = 'Weather Normalized Site EUI'\n",
    "j = 'BBL on the Covered Buildings List'\n",
    "i = 'Zip Code'\n",
    "h = 'Total GHG Emissions'\n",
    "label = 'ENERGY STAR Score'"
   ]
  },
  {
   "cell_type": "code",
   "execution_count": 132,
   "metadata": {},
   "outputs": [],
   "source": [
    "df = FullTable[[c,o,n,m,j,i,h,'Reported Property Floor Area','Municipally Supplied Potable Water - Indoor Intensity',label]] "
   ]
  },
  {
   "cell_type": "code",
   "execution_count": null,
   "metadata": {},
   "outputs": [],
   "source": []
  },
  {
   "cell_type": "markdown",
   "metadata": {},
   "source": [
    "### Информация по датасету до обработки"
   ]
  },
  {
   "cell_type": "code",
   "execution_count": 133,
   "metadata": {},
   "outputs": [
    {
     "data": {
      "text/html": [
       "<div>\n",
       "<style scoped>\n",
       "    .dataframe tbody tr th:only-of-type {\n",
       "        vertical-align: middle;\n",
       "    }\n",
       "\n",
       "    .dataframe tbody tr th {\n",
       "        vertical-align: top;\n",
       "    }\n",
       "\n",
       "    .dataframe thead th {\n",
       "        text-align: right;\n",
       "    }\n",
       "</style>\n",
       "<table border=\"1\" class=\"dataframe\">\n",
       "  <thead>\n",
       "    <tr style=\"text-align: right;\">\n",
       "      <th></th>\n",
       "      <th>BBL</th>\n",
       "      <th>Weather Normalized Source EUI</th>\n",
       "      <th>Source EUI</th>\n",
       "      <th>Weather Normalized Site EUI</th>\n",
       "      <th>BBL on the Covered Buildings List</th>\n",
       "      <th>Zip Code</th>\n",
       "      <th>Total GHG Emissions</th>\n",
       "      <th>Reported Property Floor Area</th>\n",
       "      <th>Municipally Supplied Potable Water - Indoor Intensity</th>\n",
       "      <th>ENERGY STAR Score</th>\n",
       "    </tr>\n",
       "  </thead>\n",
       "  <tbody>\n",
       "    <tr>\n",
       "      <th>0</th>\n",
       "      <td>1009970029</td>\n",
       "      <td>166.8</td>\n",
       "      <td>166.1</td>\n",
       "      <td>54.2</td>\n",
       "      <td>Yes</td>\n",
       "      <td>10036.0</td>\n",
       "      <td>3054.3</td>\n",
       "      <td>686902</td>\n",
       "      <td>Not Available</td>\n",
       "      <td>90.1</td>\n",
       "    </tr>\n",
       "    <tr>\n",
       "      <th>1</th>\n",
       "      <td>1013150001</td>\n",
       "      <td>184.1</td>\n",
       "      <td>186.8</td>\n",
       "      <td>83.4</td>\n",
       "      <td>Yes</td>\n",
       "      <td>10017.0</td>\n",
       "      <td>2453.3</td>\n",
       "      <td>384432</td>\n",
       "      <td>Not Available</td>\n",
       "      <td>86</td>\n",
       "    </tr>\n",
       "    <tr>\n",
       "      <th>2</th>\n",
       "      <td>1009990019</td>\n",
       "      <td>159.4</td>\n",
       "      <td>164.6</td>\n",
       "      <td>63.2</td>\n",
       "      <td>Yes</td>\n",
       "      <td>10036.0</td>\n",
       "      <td>2961.2</td>\n",
       "      <td>572369</td>\n",
       "      <td>Not Available</td>\n",
       "      <td>84</td>\n",
       "    </tr>\n",
       "    <tr>\n",
       "      <th>3</th>\n",
       "      <td>1013190047</td>\n",
       "      <td>215</td>\n",
       "      <td>220.7</td>\n",
       "      <td>96.6</td>\n",
       "      <td>Yes</td>\n",
       "      <td>10017.0</td>\n",
       "      <td>2731.4</td>\n",
       "      <td>362578</td>\n",
       "      <td>Not Available</td>\n",
       "      <td>75</td>\n",
       "    </tr>\n",
       "    <tr>\n",
       "      <th>4</th>\n",
       "      <td>1009950005</td>\n",
       "      <td>285.8</td>\n",
       "      <td>287</td>\n",
       "      <td>113.6</td>\n",
       "      <td>Yes</td>\n",
       "      <td>10036.0</td>\n",
       "      <td>13661.8</td>\n",
       "      <td>1601977</td>\n",
       "      <td>Not Available</td>\n",
       "      <td>61</td>\n",
       "    </tr>\n",
       "  </tbody>\n",
       "</table>\n",
       "</div>"
      ],
      "text/plain": [
       "          BBL Weather Normalized Source EUI Source EUI  \\\n",
       "0  1009970029                         166.8      166.1   \n",
       "1  1013150001                         184.1      186.8   \n",
       "2  1009990019                         159.4      164.6   \n",
       "3  1013190047                           215      220.7   \n",
       "4  1009950005                         285.8        287   \n",
       "\n",
       "  Weather Normalized Site EUI BBL on the Covered Buildings List  Zip Code  \\\n",
       "0                        54.2                               Yes   10036.0   \n",
       "1                        83.4                               Yes   10017.0   \n",
       "2                        63.2                               Yes   10036.0   \n",
       "3                        96.6                               Yes   10017.0   \n",
       "4                       113.6                               Yes   10036.0   \n",
       "\n",
       "  Total GHG Emissions Reported Property Floor Area  \\\n",
       "0              3054.3                       686902   \n",
       "1              2453.3                       384432   \n",
       "2              2961.2                       572369   \n",
       "3              2731.4                       362578   \n",
       "4             13661.8                      1601977   \n",
       "\n",
       "  Municipally Supplied Potable Water - Indoor Intensity ENERGY STAR Score  \n",
       "0                                      Not Available                 90.1  \n",
       "1                                      Not Available                   86  \n",
       "2                                      Not Available                   84  \n",
       "3                                      Not Available                   75  \n",
       "4                                      Not Available                   61  "
      ]
     },
     "execution_count": 133,
     "metadata": {},
     "output_type": "execute_result"
    }
   ],
   "source": [
    "df.head()"
   ]
  },
  {
   "cell_type": "code",
   "execution_count": 134,
   "metadata": {},
   "outputs": [
    {
     "name": "stdout",
     "output_type": "stream",
     "text": [
      "<class 'pandas.core.frame.DataFrame'>\n",
      "RangeIndex: 13974 entries, 0 to 13973\n",
      "Data columns (total 10 columns):\n",
      " #   Column                                                 Non-Null Count  Dtype  \n",
      "---  ------                                                 --------------  -----  \n",
      " 0   BBL                                                    13974 non-null  int64  \n",
      " 1   Weather Normalized Source EUI                          11916 non-null  object \n",
      " 2   Source EUI                                             11916 non-null  object \n",
      " 3   Weather Normalized Site EUI                            11916 non-null  object \n",
      " 4   BBL on the Covered Buildings List                      13974 non-null  object \n",
      " 5   Zip Code                                               11614 non-null  float64\n",
      " 6   Total GHG Emissions                                    13974 non-null  object \n",
      " 7   Reported Property Floor Area                           13974 non-null  object \n",
      " 8   Municipally Supplied Potable Water - Indoor Intensity  11916 non-null  object \n",
      " 9   ENERGY STAR Score                                      13974 non-null  object \n",
      "dtypes: float64(1), int64(1), object(8)\n",
      "memory usage: 1.1+ MB\n"
     ]
    }
   ],
   "source": [
    "df.info()"
   ]
  },
  {
   "cell_type": "code",
   "execution_count": 135,
   "metadata": {},
   "outputs": [
    {
     "data": {
      "text/plain": [
       "(13974, 10)"
      ]
     },
     "execution_count": 135,
     "metadata": {},
     "output_type": "execute_result"
    }
   ],
   "source": [
    "df.shape"
   ]
  },
  {
   "cell_type": "code",
   "execution_count": null,
   "metadata": {},
   "outputs": [],
   "source": []
  },
  {
   "cell_type": "markdown",
   "metadata": {},
   "source": [
    "# Работа с данными"
   ]
  },
  {
   "cell_type": "markdown",
   "metadata": {},
   "source": [
    "## Приведение типов"
   ]
  },
  {
   "cell_type": "code",
   "execution_count": 136,
   "metadata": {},
   "outputs": [
    {
     "name": "stdout",
     "output_type": "stream",
     "text": [
      "<class 'pandas.core.frame.DataFrame'>\n",
      "RangeIndex: 13974 entries, 0 to 13973\n",
      "Data columns (total 10 columns):\n",
      " #   Column                                                 Non-Null Count  Dtype  \n",
      "---  ------                                                 --------------  -----  \n",
      " 0   BBL                                                    13974 non-null  int64  \n",
      " 1   Weather Normalized Source EUI                          11916 non-null  object \n",
      " 2   Source EUI                                             11916 non-null  object \n",
      " 3   Weather Normalized Site EUI                            11916 non-null  object \n",
      " 4   BBL on the Covered Buildings List                      13974 non-null  object \n",
      " 5   Zip Code                                               11614 non-null  float64\n",
      " 6   Total GHG Emissions                                    13974 non-null  object \n",
      " 7   Reported Property Floor Area                           13974 non-null  object \n",
      " 8   Municipally Supplied Potable Water - Indoor Intensity  11916 non-null  object \n",
      " 9   ENERGY STAR Score                                      13974 non-null  object \n",
      "dtypes: float64(1), int64(1), object(8)\n",
      "memory usage: 1.1+ MB\n"
     ]
    }
   ],
   "source": [
    "df.info()"
   ]
  },
  {
   "cell_type": "code",
   "execution_count": 137,
   "metadata": {},
   "outputs": [
    {
     "name": "stderr",
     "output_type": "stream",
     "text": [
      "<ipython-input-137-dfd16ad88a9c>:1: SettingWithCopyWarning: \n",
      "A value is trying to be set on a copy of a slice from a DataFrame.\n",
      "Try using .loc[row_indexer,col_indexer] = value instead\n",
      "\n",
      "See the caveats in the documentation: https://pandas.pydata.org/pandas-docs/stable/user_guide/indexing.html#returning-a-view-versus-a-copy\n",
      "  df[label] = pd.to_numeric(df[label], errors='coerce')\n",
      "<ipython-input-137-dfd16ad88a9c>:2: SettingWithCopyWarning: \n",
      "A value is trying to be set on a copy of a slice from a DataFrame.\n",
      "Try using .loc[row_indexer,col_indexer] = value instead\n",
      "\n",
      "See the caveats in the documentation: https://pandas.pydata.org/pandas-docs/stable/user_guide/indexing.html#returning-a-view-versus-a-copy\n",
      "  df[o] = pd.to_numeric(df[o], errors='coerce')\n",
      "<ipython-input-137-dfd16ad88a9c>:3: SettingWithCopyWarning: \n",
      "A value is trying to be set on a copy of a slice from a DataFrame.\n",
      "Try using .loc[row_indexer,col_indexer] = value instead\n",
      "\n",
      "See the caveats in the documentation: https://pandas.pydata.org/pandas-docs/stable/user_guide/indexing.html#returning-a-view-versus-a-copy\n",
      "  df[n] = pd.to_numeric(df[n], errors='coerce')\n",
      "<ipython-input-137-dfd16ad88a9c>:4: SettingWithCopyWarning: \n",
      "A value is trying to be set on a copy of a slice from a DataFrame.\n",
      "Try using .loc[row_indexer,col_indexer] = value instead\n",
      "\n",
      "See the caveats in the documentation: https://pandas.pydata.org/pandas-docs/stable/user_guide/indexing.html#returning-a-view-versus-a-copy\n",
      "  df[m] = pd.to_numeric(df[m], errors='coerce')\n",
      "<ipython-input-137-dfd16ad88a9c>:5: SettingWithCopyWarning: \n",
      "A value is trying to be set on a copy of a slice from a DataFrame.\n",
      "Try using .loc[row_indexer,col_indexer] = value instead\n",
      "\n",
      "See the caveats in the documentation: https://pandas.pydata.org/pandas-docs/stable/user_guide/indexing.html#returning-a-view-versus-a-copy\n",
      "  df['Total GHG Emissions'] = pd.to_numeric(df['Total GHG Emissions'], errors='coerce')\n",
      "<ipython-input-137-dfd16ad88a9c>:6: SettingWithCopyWarning: \n",
      "A value is trying to be set on a copy of a slice from a DataFrame.\n",
      "Try using .loc[row_indexer,col_indexer] = value instead\n",
      "\n",
      "See the caveats in the documentation: https://pandas.pydata.org/pandas-docs/stable/user_guide/indexing.html#returning-a-view-versus-a-copy\n",
      "  df['Reported Property Floor Area'] = pd.to_numeric(df['Reported Property Floor Area'], errors='coerce')\n",
      "<ipython-input-137-dfd16ad88a9c>:7: SettingWithCopyWarning: \n",
      "A value is trying to be set on a copy of a slice from a DataFrame.\n",
      "Try using .loc[row_indexer,col_indexer] = value instead\n",
      "\n",
      "See the caveats in the documentation: https://pandas.pydata.org/pandas-docs/stable/user_guide/indexing.html#returning-a-view-versus-a-copy\n",
      "  df['Municipally Supplied Potable Water - Indoor Intensity'] = pd.to_numeric(df['Municipally Supplied Potable Water - Indoor Intensity'],\n"
     ]
    }
   ],
   "source": [
    "df[label] = pd.to_numeric(df[label], errors='coerce')\n",
    "df[o] = pd.to_numeric(df[o], errors='coerce')\n",
    "df[n] = pd.to_numeric(df[n], errors='coerce')\n",
    "df[m] = pd.to_numeric(df[m], errors='coerce')\n",
    "df['Total GHG Emissions'] = pd.to_numeric(df['Total GHG Emissions'], errors='coerce')\n",
    "df['Reported Property Floor Area'] = pd.to_numeric(df['Reported Property Floor Area'], errors='coerce')\n",
    "df['Municipally Supplied Potable Water - Indoor Intensity'] = pd.to_numeric(df['Municipally Supplied Potable Water - Indoor Intensity'], \n",
    "                                                                            errors='coerce')\n"
   ]
  },
  {
   "cell_type": "code",
   "execution_count": 138,
   "metadata": {},
   "outputs": [
    {
     "name": "stdout",
     "output_type": "stream",
     "text": [
      "<class 'pandas.core.frame.DataFrame'>\n",
      "RangeIndex: 13974 entries, 0 to 13973\n",
      "Data columns (total 10 columns):\n",
      " #   Column                                                 Non-Null Count  Dtype  \n",
      "---  ------                                                 --------------  -----  \n",
      " 0   BBL                                                    13974 non-null  int64  \n",
      " 1   Weather Normalized Source EUI                          8712 non-null   float64\n",
      " 2   Source EUI                                             10610 non-null  float64\n",
      " 3   Weather Normalized Site EUI                            8712 non-null   float64\n",
      " 4   BBL on the Covered Buildings List                      13974 non-null  object \n",
      " 5   Zip Code                                               11614 non-null  float64\n",
      " 6   Total GHG Emissions                                    10689 non-null  float64\n",
      " 7   Reported Property Floor Area                           11302 non-null  float64\n",
      " 8   Municipally Supplied Potable Water - Indoor Intensity  3472 non-null   float64\n",
      " 9   ENERGY STAR Score                                      8506 non-null   float64\n",
      "dtypes: float64(8), int64(1), object(1)\n",
      "memory usage: 1.1+ MB\n"
     ]
    }
   ],
   "source": [
    "df.info()"
   ]
  },
  {
   "cell_type": "code",
   "execution_count": null,
   "metadata": {},
   "outputs": [],
   "source": []
  },
  {
   "cell_type": "code",
   "execution_count": 139,
   "metadata": {},
   "outputs": [
    {
     "data": {
      "text/plain": [
       "Text(0.5, 1.0, 'Missing values heatmap')"
      ]
     },
     "execution_count": 139,
     "metadata": {},
     "output_type": "execute_result"
    },
    {
     "data": {
      "image/png": "[encoded data removed]",
      "text/plain": [
       "<Figure size 842.4x595.44 with 1 Axes>"
      ]
     },
     "metadata": {},
     "output_type": "display_data"
    }
   ],
   "source": [
    "sns.heatmap(df.isnull(), cbar = False).set_title(\"Missing values heatmap\")"
   ]
  },
  {
   "cell_type": "code",
   "execution_count": null,
   "metadata": {},
   "outputs": [],
   "source": []
  },
  {
   "cell_type": "code",
   "execution_count": 140,
   "metadata": {},
   "outputs": [
    {
     "data": {
      "text/plain": [
       "BBL                                                          0\n",
       "Weather Normalized Source EUI                             5262\n",
       "Source EUI                                                3364\n",
       "Weather Normalized Site EUI                               5262\n",
       "BBL on the Covered Buildings List                            0\n",
       "Zip Code                                                  2360\n",
       "Total GHG Emissions                                       3285\n",
       "Reported Property Floor Area                              2672\n",
       "Municipally Supplied Potable Water - Indoor Intensity    10502\n",
       "ENERGY STAR Score                                         5468\n",
       "dtype: int64"
      ]
     },
     "execution_count": 140,
     "metadata": {},
     "output_type": "execute_result"
    }
   ],
   "source": [
    "df.isnull().sum()"
   ]
  },
  {
   "cell_type": "markdown",
   "metadata": {},
   "source": [
    "### Работа с BBL"
   ]
  },
  {
   "cell_type": "code",
   "execution_count": 141,
   "metadata": {},
   "outputs": [],
   "source": [
    "districts = {'1':'Manhattan', \"2\":'Bronx', \"3\":'Brooklyn',\"4\":'Queens', \"5\":'Staten Island'}"
   ]
  },
  {
   "cell_type": "code",
   "execution_count": 142,
   "metadata": {},
   "outputs": [
    {
     "name": "stderr",
     "output_type": "stream",
     "text": [
      "<ipython-input-142-8695a291f323>:1: SettingWithCopyWarning: \n",
      "A value is trying to be set on a copy of a slice from a DataFrame.\n",
      "Try using .loc[row_indexer,col_indexer] = value instead\n",
      "\n",
      "See the caveats in the documentation: https://pandas.pydata.org/pandas-docs/stable/user_guide/indexing.html#returning-a-view-versus-a-copy\n",
      "  df['BBL'] = df['BBL'].astype(str)\n"
     ]
    }
   ],
   "source": [
    "df['BBL'] = df['BBL'].astype(str)"
   ]
  },
  {
   "cell_type": "code",
   "execution_count": 143,
   "metadata": {},
   "outputs": [],
   "source": [
    "borough = []\n",
    "blockNumber = []\n",
    "lotNumber = []\n",
    "\n",
    "\n",
    "for i in range(0, len(df)):\n",
    "    borough.append(districts[df.iloc[i][0][0]])\n",
    "    blockNumber.append(df.iloc[i][0][1:6])\n",
    "    lotNumber.append(df.iloc[i][0][:6])"
   ]
  },
  {
   "cell_type": "code",
   "execution_count": 144,
   "metadata": {},
   "outputs": [],
   "source": [
    "borough = pd.Series(borough, name='Borough')\n",
    "blockNumber = pd.Series(blockNumber, name='Block Number')\n",
    "lotNumber = pd.Series(lotNumber, name='Lot Number')"
   ]
  },
  {
   "cell_type": "code",
   "execution_count": null,
   "metadata": {},
   "outputs": [],
   "source": []
  },
  {
   "cell_type": "code",
   "execution_count": 145,
   "metadata": {},
   "outputs": [],
   "source": [
    "df = df.drop('BBL', axis=1)"
   ]
  },
  {
   "cell_type": "code",
   "execution_count": 146,
   "metadata": {},
   "outputs": [],
   "source": [
    "df = pd.concat([df, borough, blockNumber, lotNumber], axis=1) # Не слева, а справа плак("
   ]
  },
  {
   "cell_type": "code",
   "execution_count": 147,
   "metadata": {},
   "outputs": [
    {
     "data": {
      "text/plain": [
       "<AxesSubplot:>"
      ]
     },
     "execution_count": 147,
     "metadata": {},
     "output_type": "execute_result"
    },
    {
     "data": {
      "image/png": "[encoded data removed]",
      "text/plain": [
       "<Figure size 842.4x595.44 with 1 Axes>"
      ]
     },
     "metadata": {},
     "output_type": "display_data"
    }
   ],
   "source": [
    "df['Borough'].value_counts().plot(kind='bar')"
   ]
  },
  {
   "cell_type": "code",
   "execution_count": 148,
   "metadata": {},
   "outputs": [
    {
     "data": {
      "text/plain": [
       "Manhattan        6000\n",
       "Brooklyn         2921\n",
       "Queens           2421\n",
       "Bronx            2367\n",
       "Staten Island     265\n",
       "Name: Borough, dtype: int64"
      ]
     },
     "execution_count": 148,
     "metadata": {},
     "output_type": "execute_result"
    }
   ],
   "source": [
    "df['Borough'].value_counts()"
   ]
  },
  {
   "cell_type": "code",
   "execution_count": null,
   "metadata": {},
   "outputs": [],
   "source": []
  },
  {
   "cell_type": "markdown",
   "metadata": {},
   "source": [
    "### Распределение NaN в лейблах по районам"
   ]
  },
  {
   "cell_type": "markdown",
   "metadata": {},
   "source": [
    "##### Очень интересны пропущенные значения в конце с 11900 по 13650 строку"
   ]
  },
  {
   "cell_type": "code",
   "execution_count": 149,
   "metadata": {},
   "outputs": [
    {
     "data": {
      "text/plain": [
       "Manhattan        6000\n",
       "Brooklyn         2921\n",
       "Queens           2421\n",
       "Bronx            2367\n",
       "Staten Island     265\n",
       "Name: Borough, dtype: int64"
      ]
     },
     "execution_count": 149,
     "metadata": {},
     "output_type": "execute_result"
    }
   ],
   "source": [
    "df['Borough'].value_counts()"
   ]
  },
  {
   "cell_type": "code",
   "execution_count": 150,
   "metadata": {},
   "outputs": [],
   "source": [
    "ManhNaNLabel =len(df[(df['Borough'] == 'Manhattan') & \n",
    "    (df[label].isnull())\n",
    "  ])\n",
    "\n",
    "QueensNaNLabel = len(df[(df['Borough'] == 'Queens') & \n",
    "    (df[label].isnull())\n",
    "  ])\n",
    "\n",
    "BronxNaNLabel = len(df[(df['Borough'] == 'Bronx') & \n",
    "    (df[label].isnull())\n",
    "  ])\n",
    "\n",
    "BrooklynNaNLabel = len(df[(df['Borough'] == 'Brooklyn') & \n",
    "    (df[label].isnull())\n",
    "  ])\n",
    "\n",
    "StatenIslandNaNLabel = len(df[(df['Borough'] == 'Staten Island') & \n",
    "    (df[label].isnull())\n",
    "  ])"
   ]
  },
  {
   "cell_type": "code",
   "execution_count": 151,
   "metadata": {},
   "outputs": [
    {
     "data": {
      "text/plain": [
       "<BarContainer object of 5 artists>"
      ]
     },
     "execution_count": 151,
     "metadata": {},
     "output_type": "execute_result"
    },
    {
     "data": {
      "image/png": "[encoded data removed]",
      "text/plain": [
       "<Figure size 842.4x595.44 with 1 Axes>"
      ]
     },
     "metadata": {},
     "output_type": "display_data"
    }
   ],
   "source": [
    "# Распределение данных по районам\n",
    "plt.barh(df['Borough'].unique(), df['Borough'].value_counts())"
   ]
  },
  {
   "cell_type": "code",
   "execution_count": 152,
   "metadata": {},
   "outputs": [
    {
     "data": {
      "text/plain": [
       "Manhattan        6000\n",
       "Brooklyn         2921\n",
       "Queens           2421\n",
       "Bronx            2367\n",
       "Staten Island     265\n",
       "Name: Borough, dtype: int64"
      ]
     },
     "execution_count": 152,
     "metadata": {},
     "output_type": "execute_result"
    }
   ],
   "source": [
    "df['Borough'].value_counts()"
   ]
  },
  {
   "cell_type": "code",
   "execution_count": 153,
   "metadata": {},
   "outputs": [
    {
     "data": {
      "text/plain": [
       "<matplotlib.legend.Legend at 0x7ff7424683a0>"
      ]
     },
     "execution_count": 153,
     "metadata": {},
     "output_type": "execute_result"
    },
    {
     "data": {
      "image/png": "[encoded data removed]",
      "text/plain": [
       "<Figure size 842.4x595.44 with 1 Axes>"
      ]
     },
     "metadata": {},
     "output_type": "display_data"
    }
   ],
   "source": [
    "## Распределение NaN в лейбле в каждом районе\n",
    "\n",
    "BoroughNaNLabelArray = [ManhNaNLabel, BrooklynNaNLabel, QueensNaNLabel, BronxNaNLabel, StatenIslandNaNLabel]\n",
    "\n",
    "\n",
    "\n",
    "fig, ax = plt.subplots()\n",
    "x = np.arange(len(BoroughNaNLabelArray))\n",
    "width = 0.3\n",
    "\n",
    "rects1 = ax.bar(x - width / 2, df['Borough'].value_counts(), width, label = 'Распределение по р-нам')\n",
    "rects2 = ax.bar(x + width / 2, BoroughNaNLabelArray,         width, label = 'Кол-во NaN в лейблах')\n",
    "\n",
    "ax.set_title('Групповая диаграмма кол-ва NaN в лейбле в зависимости от района')\n",
    "ax.set_xticks(x)\n",
    "ax.set_xticklabels(df['Borough'].unique())\n",
    "ax.legend()"
   ]
  },
  {
   "cell_type": "code",
   "execution_count": null,
   "metadata": {},
   "outputs": [],
   "source": []
  },
  {
   "cell_type": "code",
   "execution_count": null,
   "metadata": {},
   "outputs": [],
   "source": []
  },
  {
   "cell_type": "markdown",
   "metadata": {},
   "source": [
    "## УДАЛЕНИЕ NaN в Label "
   ]
  },
  {
   "cell_type": "code",
   "execution_count": 154,
   "metadata": {},
   "outputs": [],
   "source": [
    "df = df.dropna(subset = [label])"
   ]
  },
  {
   "cell_type": "code",
   "execution_count": 155,
   "metadata": {},
   "outputs": [
    {
     "data": {
      "text/plain": [
       "Text(0.5, 1.0, 'Missing values heatmap')"
      ]
     },
     "execution_count": 155,
     "metadata": {},
     "output_type": "execute_result"
    },
    {
     "data": {
      "image/png": "[encoded data removed]",
      "text/plain": [
       "<Figure size 842.4x595.44 with 1 Axes>"
      ]
     },
     "metadata": {},
     "output_type": "display_data"
    }
   ],
   "source": [
    "sns.heatmap(df.isnull(), cbar = False).set_title(\"Missing values heatmap\")"
   ]
  },
  {
   "cell_type": "markdown",
   "metadata": {},
   "source": []
  },
  {
   "cell_type": "markdown",
   "metadata": {},
   "source": [
    "### Работа с Potable Water"
   ]
  },
  {
   "cell_type": "code",
   "execution_count": 156,
   "metadata": {},
   "outputs": [],
   "source": [
    "df = df = df.dropna(subset = ['Municipally Supplied Potable Water - Indoor Intensity'])"
   ]
  },
  {
   "cell_type": "markdown",
   "metadata": {},
   "source": [
    "### Работа с Weather-признаками "
   ]
  },
  {
   "cell_type": "code",
   "execution_count": 157,
   "metadata": {},
   "outputs": [
    {
     "data": {
      "text/plain": [
       "Text(0.5, 1.0, 'Missing values heatmap')"
      ]
     },
     "execution_count": 157,
     "metadata": {},
     "output_type": "execute_result"
    },
    {
     "data": {
      "image/png": "[encoded data removed]",
      "text/plain": [
       "<Figure size 842.4x595.44 with 1 Axes>"
      ]
     },
     "metadata": {},
     "output_type": "display_data"
    }
   ],
   "source": [
    "sns.heatmap(df.isnull(), cbar = False).set_title(\"Missing values heatmap\")"
   ]
  },
  {
   "cell_type": "code",
   "execution_count": 158,
   "metadata": {},
   "outputs": [
    {
     "data": {
      "text/plain": [
       "Weather Normalized Source EUI                            494\n",
       "Source EUI                                                 0\n",
       "Weather Normalized Site EUI                              494\n",
       "BBL on the Covered Buildings List                          0\n",
       "Zip Code                                                   1\n",
       "Total GHG Emissions                                        2\n",
       "Reported Property Floor Area                               0\n",
       "Municipally Supplied Potable Water - Indoor Intensity      0\n",
       "ENERGY STAR Score                                          0\n",
       "Borough                                                    0\n",
       "Block Number                                               0\n",
       "Lot Number                                                 0\n",
       "dtype: int64"
      ]
     },
     "execution_count": 158,
     "metadata": {},
     "output_type": "execute_result"
    }
   ],
   "source": [
    "df.isnull().sum()"
   ]
  },
  {
   "cell_type": "code",
   "execution_count": 159,
   "metadata": {},
   "outputs": [],
   "source": [
    "df = df.dropna(subset=['Weather Normalized Site EUI'])"
   ]
  },
  {
   "cell_type": "markdown",
   "metadata": {},
   "source": [
    "df['Weather Normalized Site EUI'].fillna(df['Weather Normalized Site EUI'].mean(), inplace=True)\n",
    "df['Weather Normalized Source EUI'].fillna(df['Weather Normalized Source EUI'].mean(), inplace=True)"
   ]
  },
  {
   "cell_type": "code",
   "execution_count": 160,
   "metadata": {},
   "outputs": [
    {
     "data": {
      "text/plain": [
       "Weather Normalized Source EUI                            0\n",
       "Source EUI                                               0\n",
       "Weather Normalized Site EUI                              0\n",
       "BBL on the Covered Buildings List                        0\n",
       "Zip Code                                                 1\n",
       "Total GHG Emissions                                      2\n",
       "Reported Property Floor Area                             0\n",
       "Municipally Supplied Potable Water - Indoor Intensity    0\n",
       "ENERGY STAR Score                                        0\n",
       "Borough                                                  0\n",
       "Block Number                                             0\n",
       "Lot Number                                               0\n",
       "dtype: int64"
      ]
     },
     "execution_count": 160,
     "metadata": {},
     "output_type": "execute_result"
    }
   ],
   "source": [
    "df.isnull().sum()"
   ]
  },
  {
   "cell_type": "markdown",
   "metadata": {},
   "source": [
    "### Работа с ZipCode"
   ]
  },
  {
   "cell_type": "code",
   "execution_count": 161,
   "metadata": {},
   "outputs": [],
   "source": [
    "# Не оч\n",
    "\n",
    "df['Zip Code'] = df['Zip Code'].fillna(0)\n",
    "df['Zip Code'] = df['Zip Code'].astype(int)"
   ]
  },
  {
   "cell_type": "code",
   "execution_count": null,
   "metadata": {},
   "outputs": [],
   "source": []
  },
  {
   "cell_type": "code",
   "execution_count": 162,
   "metadata": {},
   "outputs": [
    {
     "data": {
      "text/html": [
       "<div>\n",
       "<style scoped>\n",
       "    .dataframe tbody tr th:only-of-type {\n",
       "        vertical-align: middle;\n",
       "    }\n",
       "\n",
       "    .dataframe tbody tr th {\n",
       "        vertical-align: top;\n",
       "    }\n",
       "\n",
       "    .dataframe thead th {\n",
       "        text-align: right;\n",
       "    }\n",
       "</style>\n",
       "<table border=\"1\" class=\"dataframe\">\n",
       "  <thead>\n",
       "    <tr style=\"text-align: right;\">\n",
       "      <th></th>\n",
       "      <th>Weather Normalized Source EUI</th>\n",
       "      <th>Source EUI</th>\n",
       "      <th>Weather Normalized Site EUI</th>\n",
       "      <th>BBL on the Covered Buildings List</th>\n",
       "      <th>Zip Code</th>\n",
       "      <th>Total GHG Emissions</th>\n",
       "      <th>Reported Property Floor Area</th>\n",
       "      <th>Municipally Supplied Potable Water - Indoor Intensity</th>\n",
       "      <th>ENERGY STAR Score</th>\n",
       "      <th>Borough</th>\n",
       "      <th>Block Number</th>\n",
       "      <th>Lot Number</th>\n",
       "    </tr>\n",
       "  </thead>\n",
       "  <tbody>\n",
       "    <tr>\n",
       "      <th>11277</th>\n",
       "      <td>0.0</td>\n",
       "      <td>0.0</td>\n",
       "      <td>0.0</td>\n",
       "      <td>Yes</td>\n",
       "      <td>0</td>\n",
       "      <td>0.0</td>\n",
       "      <td>0.0</td>\n",
       "      <td>0.0</td>\n",
       "      <td>0.0</td>\n",
       "      <td>Bronx</td>\n",
       "      <td>02443</td>\n",
       "      <td>202443</td>\n",
       "    </tr>\n",
       "  </tbody>\n",
       "</table>\n",
       "</div>"
      ],
      "text/plain": [
       "       Weather Normalized Source EUI  Source EUI  Weather Normalized Site EUI  \\\n",
       "11277                            0.0         0.0                          0.0   \n",
       "\n",
       "      BBL on the Covered Buildings List  Zip Code  Total GHG Emissions  \\\n",
       "11277                               Yes         0                  0.0   \n",
       "\n",
       "       Reported Property Floor Area  \\\n",
       "11277                           0.0   \n",
       "\n",
       "       Municipally Supplied Potable Water - Indoor Intensity  \\\n",
       "11277                                                0.0       \n",
       "\n",
       "       ENERGY STAR Score Borough Block Number Lot Number  \n",
       "11277                0.0   Bronx        02443     202443  "
      ]
     },
     "execution_count": 162,
     "metadata": {},
     "output_type": "execute_result"
    }
   ],
   "source": [
    "df.loc[df['Zip Code'] == 0]"
   ]
  },
  {
   "cell_type": "code",
   "execution_count": null,
   "metadata": {},
   "outputs": [],
   "source": []
  },
  {
   "cell_type": "code",
   "execution_count": 163,
   "metadata": {},
   "outputs": [],
   "source": [
    "df.loc[(df['Zip Code'] == 0), 'Zip Code'] = df['Zip Code'].mode()"
   ]
  },
  {
   "cell_type": "code",
   "execution_count": 164,
   "metadata": {},
   "outputs": [
    {
     "data": {
      "text/plain": [
       "Weather Normalized Source EUI                            0\n",
       "Source EUI                                               0\n",
       "Weather Normalized Site EUI                              0\n",
       "BBL on the Covered Buildings List                        0\n",
       "Zip Code                                                 1\n",
       "Total GHG Emissions                                      2\n",
       "Reported Property Floor Area                             0\n",
       "Municipally Supplied Potable Water - Indoor Intensity    0\n",
       "ENERGY STAR Score                                        0\n",
       "Borough                                                  0\n",
       "Block Number                                             0\n",
       "Lot Number                                               0\n",
       "dtype: int64"
      ]
     },
     "execution_count": 164,
     "metadata": {},
     "output_type": "execute_result"
    }
   ],
   "source": [
    "df.isnull().sum()"
   ]
  },
  {
   "cell_type": "code",
   "execution_count": 165,
   "metadata": {},
   "outputs": [],
   "source": [
    "df['Zip Code'] = df.dropna(subset=['Zip Code'])"
   ]
  },
  {
   "cell_type": "code",
   "execution_count": 166,
   "metadata": {},
   "outputs": [
    {
     "data": {
      "text/plain": [
       "Weather Normalized Source EUI                            0\n",
       "Source EUI                                               0\n",
       "Weather Normalized Site EUI                              0\n",
       "BBL on the Covered Buildings List                        0\n",
       "Zip Code                                                 1\n",
       "Total GHG Emissions                                      2\n",
       "Reported Property Floor Area                             0\n",
       "Municipally Supplied Potable Water - Indoor Intensity    0\n",
       "ENERGY STAR Score                                        0\n",
       "Borough                                                  0\n",
       "Block Number                                             0\n",
       "Lot Number                                               0\n",
       "dtype: int64"
      ]
     },
     "execution_count": 166,
     "metadata": {},
     "output_type": "execute_result"
    }
   ],
   "source": [
    "df.isnull().sum()"
   ]
  },
  {
   "cell_type": "code",
   "execution_count": 167,
   "metadata": {},
   "outputs": [],
   "source": [
    "df = df.drop(['Zip Code'], axis=1)"
   ]
  },
  {
   "cell_type": "markdown",
   "metadata": {},
   "source": [
    "with pd.option_context('display.max_rows', None, 'display.max_columns', None):\n",
    "    print(df['Zip Code'].value_counts())"
   ]
  },
  {
   "cell_type": "markdown",
   "metadata": {},
   "source": [
    "(df['Zip Code'].value_counts() < 15).sum()"
   ]
  },
  {
   "cell_type": "code",
   "execution_count": 168,
   "metadata": {},
   "outputs": [
    {
     "name": "stdout",
     "output_type": "stream",
     "text": [
      "<class 'pandas.core.frame.DataFrame'>\n",
      "Int64Index: 2209 entries, 6 to 11791\n",
      "Data columns (total 11 columns):\n",
      " #   Column                                                 Non-Null Count  Dtype  \n",
      "---  ------                                                 --------------  -----  \n",
      " 0   Weather Normalized Source EUI                          2209 non-null   float64\n",
      " 1   Source EUI                                             2209 non-null   float64\n",
      " 2   Weather Normalized Site EUI                            2209 non-null   float64\n",
      " 3   BBL on the Covered Buildings List                      2209 non-null   object \n",
      " 4   Total GHG Emissions                                    2207 non-null   float64\n",
      " 5   Reported Property Floor Area                           2209 non-null   float64\n",
      " 6   Municipally Supplied Potable Water - Indoor Intensity  2209 non-null   float64\n",
      " 7   ENERGY STAR Score                                      2209 non-null   float64\n",
      " 8   Borough                                                2209 non-null   object \n",
      " 9   Block Number                                           2209 non-null   object \n",
      " 10  Lot Number                                             2209 non-null   object \n",
      "dtypes: float64(7), object(4)\n",
      "memory usage: 207.1+ KB\n"
     ]
    }
   ],
   "source": [
    "df.info()"
   ]
  },
  {
   "cell_type": "code",
   "execution_count": null,
   "metadata": {},
   "outputs": [],
   "source": []
  },
  {
   "cell_type": "code",
   "execution_count": null,
   "metadata": {},
   "outputs": [],
   "source": []
  },
  {
   "cell_type": "markdown",
   "metadata": {},
   "source": [
    "### Работа с Total GHG Emissions"
   ]
  },
  {
   "cell_type": "code",
   "execution_count": 169,
   "metadata": {},
   "outputs": [],
   "source": [
    "df['Total GHG Emissions'].fillna(df['Total GHG Emissions'].mean(), inplace=True)"
   ]
  },
  {
   "cell_type": "code",
   "execution_count": 170,
   "metadata": {},
   "outputs": [
    {
     "data": {
      "text/plain": [
       "Weather Normalized Source EUI                            0\n",
       "Source EUI                                               0\n",
       "Weather Normalized Site EUI                              0\n",
       "BBL on the Covered Buildings List                        0\n",
       "Total GHG Emissions                                      0\n",
       "Reported Property Floor Area                             0\n",
       "Municipally Supplied Potable Water - Indoor Intensity    0\n",
       "ENERGY STAR Score                                        0\n",
       "Borough                                                  0\n",
       "Block Number                                             0\n",
       "Lot Number                                               0\n",
       "dtype: int64"
      ]
     },
     "execution_count": 170,
     "metadata": {},
     "output_type": "execute_result"
    }
   ],
   "source": [
    "df.isnull().sum()"
   ]
  },
  {
   "cell_type": "markdown",
   "metadata": {},
   "source": [
    "### Работа c BBL on the Covered Buildings List"
   ]
  },
  {
   "cell_type": "code",
   "execution_count": 171,
   "metadata": {},
   "outputs": [
    {
     "name": "stdout",
     "output_type": "stream",
     "text": [
      "<class 'pandas.core.frame.DataFrame'>\n",
      "Int64Index: 2209 entries, 6 to 11791\n",
      "Data columns (total 11 columns):\n",
      " #   Column                                                 Non-Null Count  Dtype  \n",
      "---  ------                                                 --------------  -----  \n",
      " 0   Weather Normalized Source EUI                          2209 non-null   float64\n",
      " 1   Source EUI                                             2209 non-null   float64\n",
      " 2   Weather Normalized Site EUI                            2209 non-null   float64\n",
      " 3   BBL on the Covered Buildings List                      2209 non-null   object \n",
      " 4   Total GHG Emissions                                    2209 non-null   float64\n",
      " 5   Reported Property Floor Area                           2209 non-null   float64\n",
      " 6   Municipally Supplied Potable Water - Indoor Intensity  2209 non-null   float64\n",
      " 7   ENERGY STAR Score                                      2209 non-null   float64\n",
      " 8   Borough                                                2209 non-null   object \n",
      " 9   Block Number                                           2209 non-null   object \n",
      " 10  Lot Number                                             2209 non-null   object \n",
      "dtypes: float64(7), object(4)\n",
      "memory usage: 207.1+ KB\n"
     ]
    }
   ],
   "source": [
    "df.info()"
   ]
  },
  {
   "cell_type": "code",
   "execution_count": 172,
   "metadata": {},
   "outputs": [
    {
     "data": {
      "text/plain": [
       "array(['Yes'], dtype=object)"
      ]
     },
     "execution_count": 172,
     "metadata": {},
     "output_type": "execute_result"
    }
   ],
   "source": [
    "df['BBL on the Covered Buildings List'].unique()"
   ]
  },
  {
   "cell_type": "code",
   "execution_count": 173,
   "metadata": {},
   "outputs": [],
   "source": [
    "df = df.drop(['BBL on the Covered Buildings List'], axis = 1)"
   ]
  },
  {
   "cell_type": "code",
   "execution_count": null,
   "metadata": {},
   "outputs": [],
   "source": []
  },
  {
   "cell_type": "markdown",
   "metadata": {},
   "source": [
    "### Работа с Block Number"
   ]
  },
  {
   "cell_type": "code",
   "execution_count": 174,
   "metadata": {},
   "outputs": [
    {
     "data": {
      "text/plain": [
       "02180    13\n",
       "02136     9\n",
       "02453     9\n",
       "00016     7\n",
       "01277     6\n",
       "         ..\n",
       "00851     1\n",
       "01502     1\n",
       "02036     1\n",
       "01496     1\n",
       "00188     1\n",
       "Name: Block Number, Length: 1547, dtype: int64"
      ]
     },
     "execution_count": 174,
     "metadata": {},
     "output_type": "execute_result"
    }
   ],
   "source": [
    "df['Block Number'].value_counts()"
   ]
  },
  {
   "cell_type": "code",
   "execution_count": 175,
   "metadata": {},
   "outputs": [],
   "source": [
    "df = df.drop(['Block Number'], axis = 1)"
   ]
  },
  {
   "cell_type": "code",
   "execution_count": null,
   "metadata": {},
   "outputs": [],
   "source": []
  },
  {
   "cell_type": "markdown",
   "metadata": {},
   "source": [
    "### Работа с Lot Number"
   ]
  },
  {
   "cell_type": "code",
   "execution_count": 176,
   "metadata": {},
   "outputs": [
    {
     "data": {
      "text/plain": [
       "102180    13\n",
       "102136     9\n",
       "202453     9\n",
       "100016     7\n",
       "102179     6\n",
       "          ..\n",
       "304271     1\n",
       "305240     1\n",
       "301227     1\n",
       "203306     1\n",
       "406852     1\n",
       "Name: Lot Number, Length: 1671, dtype: int64"
      ]
     },
     "execution_count": 176,
     "metadata": {},
     "output_type": "execute_result"
    }
   ],
   "source": [
    "df['Lot Number'].value_counts()"
   ]
  },
  {
   "cell_type": "code",
   "execution_count": 177,
   "metadata": {},
   "outputs": [],
   "source": [
    "df = df.drop(['Lot Number'], axis = 1)"
   ]
  },
  {
   "cell_type": "code",
   "execution_count": null,
   "metadata": {},
   "outputs": [],
   "source": []
  },
  {
   "cell_type": "markdown",
   "metadata": {},
   "source": [
    "### Работа с категориальными признаками (Zip Code and Borough)"
   ]
  },
  {
   "cell_type": "code",
   "execution_count": 178,
   "metadata": {},
   "outputs": [
    {
     "name": "stdout",
     "output_type": "stream",
     "text": [
      "<class 'pandas.core.frame.DataFrame'>\n",
      "Int64Index: 2209 entries, 6 to 11791\n",
      "Data columns (total 8 columns):\n",
      " #   Column                                                 Non-Null Count  Dtype  \n",
      "---  ------                                                 --------------  -----  \n",
      " 0   Weather Normalized Source EUI                          2209 non-null   float64\n",
      " 1   Source EUI                                             2209 non-null   float64\n",
      " 2   Weather Normalized Site EUI                            2209 non-null   float64\n",
      " 3   Total GHG Emissions                                    2209 non-null   float64\n",
      " 4   Reported Property Floor Area                           2209 non-null   float64\n",
      " 5   Municipally Supplied Potable Water - Indoor Intensity  2209 non-null   float64\n",
      " 6   ENERGY STAR Score                                      2209 non-null   float64\n",
      " 7   Borough                                                2209 non-null   object \n",
      "dtypes: float64(7), object(1)\n",
      "memory usage: 155.3+ KB\n"
     ]
    }
   ],
   "source": [
    "df.info()"
   ]
  },
  {
   "cell_type": "code",
   "execution_count": 179,
   "metadata": {},
   "outputs": [],
   "source": [
    "ohc_borough = pd.get_dummies(df['Borough']) "
   ]
  },
  {
   "cell_type": "code",
   "execution_count": null,
   "metadata": {},
   "outputs": [],
   "source": []
  },
  {
   "cell_type": "markdown",
   "metadata": {},
   "source": [
    "#### Объединение таблиц"
   ]
  },
  {
   "cell_type": "code",
   "execution_count": 180,
   "metadata": {},
   "outputs": [],
   "source": [
    "df = df.drop(['Borough', 'Zip Code'], axis = 1, errors='ignore')"
   ]
  },
  {
   "cell_type": "code",
   "execution_count": 181,
   "metadata": {},
   "outputs": [],
   "source": [
    "df = pd.concat([df, ohc_borough], axis= 1)\n",
    "#df = pd.concat([df, ohc_zipcode], axis= 1)"
   ]
  },
  {
   "cell_type": "code",
   "execution_count": null,
   "metadata": {},
   "outputs": [],
   "source": []
  },
  {
   "cell_type": "code",
   "execution_count": null,
   "metadata": {},
   "outputs": [],
   "source": []
  },
  {
   "cell_type": "markdown",
   "metadata": {},
   "source": [
    "# Обучение модели"
   ]
  },
  {
   "cell_type": "code",
   "execution_count": 182,
   "metadata": {},
   "outputs": [],
   "source": [
    "from sklearn.model_selection import train_test_split\n",
    "from sklearn import linear_model, metrics"
   ]
  },
  {
   "cell_type": "markdown",
   "metadata": {},
   "source": []
  },
  {
   "cell_type": "code",
   "execution_count": 183,
   "metadata": {},
   "outputs": [],
   "source": [
    "labels = df['ENERGY STAR Score']\n",
    "df =df.drop(['ENERGY STAR Score'], axis = 1)"
   ]
  },
  {
   "cell_type": "code",
   "execution_count": 184,
   "metadata": {},
   "outputs": [
    {
     "data": {
      "text/html": [
       "<div>\n",
       "<style scoped>\n",
       "    .dataframe tbody tr th:only-of-type {\n",
       "        vertical-align: middle;\n",
       "    }\n",
       "\n",
       "    .dataframe tbody tr th {\n",
       "        vertical-align: top;\n",
       "    }\n",
       "\n",
       "    .dataframe thead th {\n",
       "        text-align: right;\n",
       "    }\n",
       "</style>\n",
       "<table border=\"1\" class=\"dataframe\">\n",
       "  <thead>\n",
       "    <tr style=\"text-align: right;\">\n",
       "      <th></th>\n",
       "      <th>Weather Normalized Source EUI</th>\n",
       "      <th>Source EUI</th>\n",
       "      <th>Weather Normalized Site EUI</th>\n",
       "      <th>Total GHG Emissions</th>\n",
       "      <th>Reported Property Floor Area</th>\n",
       "      <th>Municipally Supplied Potable Water - Indoor Intensity</th>\n",
       "      <th>Bronx</th>\n",
       "      <th>Brooklyn</th>\n",
       "      <th>Manhattan</th>\n",
       "      <th>Queens</th>\n",
       "      <th>Staten Island</th>\n",
       "    </tr>\n",
       "  </thead>\n",
       "  <tbody>\n",
       "    <tr>\n",
       "      <th>6</th>\n",
       "      <td>221.5</td>\n",
       "      <td>225.9</td>\n",
       "      <td>82.7</td>\n",
       "      <td>4982.7</td>\n",
       "      <td>743915.0</td>\n",
       "      <td>27.06</td>\n",
       "      <td>0</td>\n",
       "      <td>0</td>\n",
       "      <td>1</td>\n",
       "      <td>0</td>\n",
       "      <td>0</td>\n",
       "    </tr>\n",
       "    <tr>\n",
       "      <th>8</th>\n",
       "      <td>264.5</td>\n",
       "      <td>269.1</td>\n",
       "      <td>129.0</td>\n",
       "      <td>12402.5</td>\n",
       "      <td>1272119.0</td>\n",
       "      <td>0.00</td>\n",
       "      <td>0</td>\n",
       "      <td>0</td>\n",
       "      <td>1</td>\n",
       "      <td>0</td>\n",
       "      <td>0</td>\n",
       "    </tr>\n",
       "    <tr>\n",
       "      <th>11</th>\n",
       "      <td>202.6</td>\n",
       "      <td>202.6</td>\n",
       "      <td>78.8</td>\n",
       "      <td>11474.5</td>\n",
       "      <td>1869756.0</td>\n",
       "      <td>17.34</td>\n",
       "      <td>0</td>\n",
       "      <td>0</td>\n",
       "      <td>1</td>\n",
       "      <td>0</td>\n",
       "      <td>0</td>\n",
       "    </tr>\n",
       "    <tr>\n",
       "      <th>16</th>\n",
       "      <td>207.5</td>\n",
       "      <td>210.5</td>\n",
       "      <td>78.6</td>\n",
       "      <td>3056.8</td>\n",
       "      <td>487501.0</td>\n",
       "      <td>15.35</td>\n",
       "      <td>0</td>\n",
       "      <td>0</td>\n",
       "      <td>1</td>\n",
       "      <td>0</td>\n",
       "      <td>0</td>\n",
       "    </tr>\n",
       "    <tr>\n",
       "      <th>22</th>\n",
       "      <td>201.9</td>\n",
       "      <td>203.6</td>\n",
       "      <td>76.2</td>\n",
       "      <td>15889.6</td>\n",
       "      <td>2613986.0</td>\n",
       "      <td>21.96</td>\n",
       "      <td>0</td>\n",
       "      <td>0</td>\n",
       "      <td>1</td>\n",
       "      <td>0</td>\n",
       "      <td>0</td>\n",
       "    </tr>\n",
       "    <tr>\n",
       "      <th>...</th>\n",
       "      <td>...</td>\n",
       "      <td>...</td>\n",
       "      <td>...</td>\n",
       "      <td>...</td>\n",
       "      <td>...</td>\n",
       "      <td>...</td>\n",
       "      <td>...</td>\n",
       "      <td>...</td>\n",
       "      <td>...</td>\n",
       "      <td>...</td>\n",
       "      <td>...</td>\n",
       "    </tr>\n",
       "    <tr>\n",
       "      <th>11764</th>\n",
       "      <td>74.9</td>\n",
       "      <td>78.5</td>\n",
       "      <td>56.5</td>\n",
       "      <td>310.1</td>\n",
       "      <td>68750.0</td>\n",
       "      <td>39.25</td>\n",
       "      <td>0</td>\n",
       "      <td>0</td>\n",
       "      <td>1</td>\n",
       "      <td>0</td>\n",
       "      <td>0</td>\n",
       "    </tr>\n",
       "    <tr>\n",
       "      <th>11769</th>\n",
       "      <td>109.7</td>\n",
       "      <td>111.8</td>\n",
       "      <td>51.0</td>\n",
       "      <td>444.5</td>\n",
       "      <td>123700.0</td>\n",
       "      <td>33.90</td>\n",
       "      <td>0</td>\n",
       "      <td>1</td>\n",
       "      <td>0</td>\n",
       "      <td>0</td>\n",
       "      <td>0</td>\n",
       "    </tr>\n",
       "    <tr>\n",
       "      <th>11771</th>\n",
       "      <td>181.5</td>\n",
       "      <td>183.1</td>\n",
       "      <td>87.2</td>\n",
       "      <td>306.5</td>\n",
       "      <td>50932.0</td>\n",
       "      <td>60.10</td>\n",
       "      <td>0</td>\n",
       "      <td>1</td>\n",
       "      <td>0</td>\n",
       "      <td>0</td>\n",
       "      <td>0</td>\n",
       "    </tr>\n",
       "    <tr>\n",
       "      <th>11775</th>\n",
       "      <td>100.8</td>\n",
       "      <td>107.0</td>\n",
       "      <td>95.9</td>\n",
       "      <td>480.4</td>\n",
       "      <td>64058.0</td>\n",
       "      <td>68.03</td>\n",
       "      <td>0</td>\n",
       "      <td>0</td>\n",
       "      <td>1</td>\n",
       "      <td>0</td>\n",
       "      <td>0</td>\n",
       "    </tr>\n",
       "    <tr>\n",
       "      <th>11791</th>\n",
       "      <td>68417.7</td>\n",
       "      <td>68634.2</td>\n",
       "      <td>56645.3</td>\n",
       "      <td>1439060.0</td>\n",
       "      <td>381163.0</td>\n",
       "      <td>13.06</td>\n",
       "      <td>0</td>\n",
       "      <td>0</td>\n",
       "      <td>1</td>\n",
       "      <td>0</td>\n",
       "      <td>0</td>\n",
       "    </tr>\n",
       "  </tbody>\n",
       "</table>\n",
       "<p>2209 rows × 11 columns</p>\n",
       "</div>"
      ],
      "text/plain": [
       "       Weather Normalized Source EUI  Source EUI  Weather Normalized Site EUI  \\\n",
       "6                              221.5       225.9                         82.7   \n",
       "8                              264.5       269.1                        129.0   \n",
       "11                             202.6       202.6                         78.8   \n",
       "16                             207.5       210.5                         78.6   \n",
       "22                             201.9       203.6                         76.2   \n",
       "...                              ...         ...                          ...   \n",
       "11764                           74.9        78.5                         56.5   \n",
       "11769                          109.7       111.8                         51.0   \n",
       "11771                          181.5       183.1                         87.2   \n",
       "11775                          100.8       107.0                         95.9   \n",
       "11791                        68417.7     68634.2                      56645.3   \n",
       "\n",
       "       Total GHG Emissions  Reported Property Floor Area  \\\n",
       "6                   4982.7                      743915.0   \n",
       "8                  12402.5                     1272119.0   \n",
       "11                 11474.5                     1869756.0   \n",
       "16                  3056.8                      487501.0   \n",
       "22                 15889.6                     2613986.0   \n",
       "...                    ...                           ...   \n",
       "11764                310.1                       68750.0   \n",
       "11769                444.5                      123700.0   \n",
       "11771                306.5                       50932.0   \n",
       "11775                480.4                       64058.0   \n",
       "11791            1439060.0                      381163.0   \n",
       "\n",
       "       Municipally Supplied Potable Water - Indoor Intensity  Bronx  Brooklyn  \\\n",
       "6                                                  27.06          0         0   \n",
       "8                                                   0.00          0         0   \n",
       "11                                                 17.34          0         0   \n",
       "16                                                 15.35          0         0   \n",
       "22                                                 21.96          0         0   \n",
       "...                                                  ...        ...       ...   \n",
       "11764                                              39.25          0         0   \n",
       "11769                                              33.90          0         1   \n",
       "11771                                              60.10          0         1   \n",
       "11775                                              68.03          0         0   \n",
       "11791                                              13.06          0         0   \n",
       "\n",
       "       Manhattan  Queens  Staten Island  \n",
       "6              1       0              0  \n",
       "8              1       0              0  \n",
       "11             1       0              0  \n",
       "16             1       0              0  \n",
       "22             1       0              0  \n",
       "...          ...     ...            ...  \n",
       "11764          1       0              0  \n",
       "11769          0       0              0  \n",
       "11771          0       0              0  \n",
       "11775          1       0              0  \n",
       "11791          1       0              0  \n",
       "\n",
       "[2209 rows x 11 columns]"
      ]
     },
     "execution_count": 184,
     "metadata": {},
     "output_type": "execute_result"
    }
   ],
   "source": [
    "df"
   ]
  },
  {
   "cell_type": "code",
   "execution_count": 193,
   "metadata": {},
   "outputs": [],
   "source": [
    "X_train, X_test, y_train, y_test = train_test_split(df, labels, \n",
    "                                                    test_size = 0.3,\n",
    "                                                   random_state = 42)\n"
   ]
  },
  {
   "cell_type": "code",
   "execution_count": 194,
   "metadata": {},
   "outputs": [
    {
     "name": "stdout",
     "output_type": "stream",
     "text": [
      "(1546, 11)\n",
      "(663, 11)\n",
      "(1546,)\n",
      "(663,)\n"
     ]
    }
   ],
   "source": [
    "print(X_train.shape)\n",
    "print(X_test.shape)\n",
    "print(y_train.shape)\n",
    "print(y_test.shape)\n"
   ]
  },
  {
   "cell_type": "code",
   "execution_count": 195,
   "metadata": {},
   "outputs": [
    {
     "data": {
      "text/plain": [
       "Text(0.5, 1.0, 'Label split for test')"
      ]
     },
     "execution_count": 195,
     "metadata": {},
     "output_type": "execute_result"
    },
    {
     "data": {
      "image/png": "[encoded data removed]",
      "text/plain": [
       "<Figure size 936x648 with 4 Axes>"
      ]
     },
     "metadata": {},
     "output_type": "display_data"
    }
   ],
   "source": [
    "plt.figure(figsize=(13, 9))\n",
    "\n",
    "\n",
    "plt.subplot(2,2,1)\n",
    "plt.hist(y_train)\n",
    "plt.title('Labels for train')\n",
    "\n",
    "plt.subplot(2,2,2)\n",
    "plt.hist(y_test)\n",
    "plt.title('Labels for test')\n",
    "\n",
    "plt.subplot(2,2,3)\n",
    "sns.histplot(y_train, kde=True, bins = 10)\n",
    "plt.title('Label split for train')\n",
    "\n",
    "plt.subplot(2,2,4)\n",
    "sns.histplot(y_test, kde=True, bins = 10)\n",
    "plt.title('Label split for test')"
   ]
  },
  {
   "cell_type": "code",
   "execution_count": 196,
   "metadata": {},
   "outputs": [
    {
     "data": {
      "text/plain": [
       "(array([ 59.,  47.,  41.,  50.,  62.,  63.,  72.,  94.,  75., 100.]),\n",
       " array([  0.,  10.,  20.,  30.,  40.,  50.,  60.,  70.,  80.,  90., 100.]),\n",
       " <BarContainer object of 10 artists>)"
      ]
     },
     "execution_count": 196,
     "metadata": {},
     "output_type": "execute_result"
    },
    {
     "data": {
      "image/png": "[encoded data removed]",
      "text/plain": [
       "<Figure size 842.4x595.44 with 1 Axes>"
      ]
     },
     "metadata": {},
     "output_type": "display_data"
    }
   ],
   "source": [
    "plt.hist(y_train)\n",
    "plt.hist(y_test)"
   ]
  },
  {
   "cell_type": "code",
   "execution_count": null,
   "metadata": {},
   "outputs": [],
   "source": []
  },
  {
   "cell_type": "code",
   "execution_count": 197,
   "metadata": {},
   "outputs": [
    {
     "data": {
      "text/plain": [
       "LinearRegression()"
      ]
     },
     "execution_count": 197,
     "metadata": {},
     "output_type": "execute_result"
    }
   ],
   "source": [
    "# Model\n",
    "regressor = linear_model.LinearRegression()\n",
    "regressor.fit(X_train, y_train)"
   ]
  },
  {
   "cell_type": "code",
   "execution_count": 198,
   "metadata": {},
   "outputs": [
    {
     "data": {
      "text/plain": [
       "27.416505166934268"
      ]
     },
     "execution_count": 198,
     "metadata": {},
     "output_type": "execute_result"
    }
   ],
   "source": [
    "prediction = regressor.predict(X_test)\n",
    "metrics.mean_absolute_error(y_test, prediction)"
   ]
  },
  {
   "cell_type": "code",
   "execution_count": 199,
   "metadata": {},
   "outputs": [
    {
     "name": "stdout",
     "output_type": "stream",
     "text": [
      "4036      92.0\n",
      "8264      24.0\n",
      "7891      66.0\n",
      "2114      14.0\n",
      "8324       8.0\n",
      "7662      99.0\n",
      "3800     100.0\n",
      "1888      72.0\n",
      "5340      78.0\n",
      "10845      7.0\n",
      "Name: ENERGY STAR Score, dtype: float64\n"
     ]
    }
   ],
   "source": [
    "print(y_test[:10])"
   ]
  },
  {
   "cell_type": "code",
   "execution_count": 200,
   "metadata": {},
   "outputs": [
    {
     "name": "stdout",
     "output_type": "stream",
     "text": [
      "[55.79367803 54.87430696 60.26745462 60.61429541 59.79557323 59.73737819\n",
      " 62.95209057 57.96757289 61.65753015 57.7673907 ]\n"
     ]
    }
   ],
   "source": [
    "print(prediction[:10])"
   ]
  },
  {
   "cell_type": "code",
   "execution_count": null,
   "metadata": {},
   "outputs": [],
   "source": []
  }
 ],
 "metadata": {
  "kernelspec": {
   "display_name": "Python 3",
   "language": "python",
   "name": "python3"
  },
  "language_info": {
   "codemirror_mode": {
    "name": "ipython",
    "version": 3
   },
   "file_extension": ".py",
   "mimetype": "text/x-python",
   "name": "python",
   "nbconvert_exporter": "python",
   "pygments_lexer": "ipython3",
   "version": "3.8.5"
  }
 },
 "nbformat": 4,
 "nbformat_minor": 4
}
